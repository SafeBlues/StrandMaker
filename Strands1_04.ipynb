{
 "cells": [
  {
   "cell_type": "markdown",
   "metadata": {},
   "source": [
    "# Strands for Phase 1, release 0.04 (1.04)\n",
    "162 strands in total\n",
    "\n",
    "This release is similar to 1.01. With that version the common-seed bug was discovered so now after about half the phones (half of 100) updated to V59, we release strands with the same attributes except for changing strands that had seeding probability 0.1, to 0.2 and those that had seeding probabiliy 0.3 to to 0.4."
   ]
  },
  {
   "cell_type": "code",
   "execution_count": 54,
   "metadata": {},
   "outputs": [],
   "source": [
    "#fixed strength and radius and num repeat configurations\n",
    "strengthArray = [0.06,0.16,0.48]\n",
    "radiusArray = [5,15,500]\n",
    "numRepeats = 3;"
   ]
  },
  {
   "cell_type": "code",
   "execution_count": 55,
   "metadata": {},
   "outputs": [],
   "source": [
    "function createRepeats(parentStrand::Dict{Symbol,String})\n",
    "    strands = Array{Dict{Symbol,String}}(undef,0)\n",
    "    for s in strengthArray, r in radiusArray, n in 1:numRepeats\n",
    "        strand = deepcopy(parentStrand)\n",
    "        strand[:name] = strand[:name]*\"-($s,$r)-repeat$n\"\n",
    "        strand[:strength] = \"$s\"\n",
    "        strand[:radius] = \"$r\"\n",
    "        push!(strands,strand)\n",
    "    end\n",
    "    strands\n",
    "end;"
   ]
  },
  {
   "cell_type": "code",
   "execution_count": 56,
   "metadata": {},
   "outputs": [],
   "source": [
    "#The base strand\n",
    "baseStrand = Dict{Symbol,String}()\n",
    "baseStrand[:seedTime] = \"2021-05-09T21:00:00Z\" #9am on Monday morning May 10 (in Auckland)\n",
    "baseStrand[:endTime] = \"2021-06-10T09:00:00Z\"#9pm in the evening of June 10 (prize 10)\n",
    "baseStrand[:minimumAppVersion] = \"58\";"
   ]
  },
  {
   "cell_type": "code",
   "execution_count": 57,
   "metadata": {},
   "outputs": [],
   "source": [
    "#The base strand for the SI epidemics\n",
    "SIstrand = deepcopy(baseStrand)\n",
    "SIstrand[:name] = \"1.04-SI\"\n",
    "SIstrand[:seedingProbability] = \"0.2\"\n",
    "SIstrand[:incubationMean] = \"43200\" #default for half day incubation\n",
    "SIstrand[:incubationShape] = \"10000\"\n",
    "SIstrand[:infectionMean] = \"3456000\" #40 days\n",
    "SIstrand[:infectiousPeriodShape] = \"10000\";"
   ]
  },
  {
   "cell_type": "code",
   "execution_count": 58,
   "metadata": {},
   "outputs": [
    {
     "data": {
      "text/plain": [
       "Dict{Symbol, String} with 9 entries:\n",
       "  :infectionMean         => \"3456000\"\n",
       "  :endTime               => \"2021-06-10T09:00:00Z\"\n",
       "  :incubationShape       => \"10000\"\n",
       "  :minimumAppVersion     => \"58\"\n",
       "  :name                  => \"1.04-SI-incYes\"\n",
       "  :seedingProbability    => \"0.2\"\n",
       "  :infectiousPeriodShape => \"10000\"\n",
       "  :seedTime              => \"2021-05-09T21:00:00Z\"\n",
       "  :incubationMean        => \"43200\""
      ]
     },
     "execution_count": 58,
     "metadata": {},
     "output_type": "execute_result"
    }
   ],
   "source": [
    "SIstrandYesIncubation = deepcopy(SIstrand)\n",
    "SIstrandYesIncubation[:name] = SIstrandYesIncubation[:name]*\"-incYes\"\n",
    "SIstrandYesIncubation"
   ]
  },
  {
   "cell_type": "code",
   "execution_count": 59,
   "metadata": {},
   "outputs": [
    {
     "data": {
      "text/plain": [
       "Dict{Symbol, String} with 9 entries:\n",
       "  :infectionMean         => \"3456000\"\n",
       "  :endTime               => \"2021-06-10T09:00:00Z\"\n",
       "  :incubationShape       => \"10000\"\n",
       "  :minimumAppVersion     => \"58\"\n",
       "  :name                  => \"1.04-SI-incNo\"\n",
       "  :seedingProbability    => \"0.2\"\n",
       "  :infectiousPeriodShape => \"10000\"\n",
       "  :seedTime              => \"2021-05-09T21:00:00Z\"\n",
       "  :incubationMean        => \"1\""
      ]
     },
     "execution_count": 59,
     "metadata": {},
     "output_type": "execute_result"
    }
   ],
   "source": [
    "SIstrandNoIncubation = deepcopy(SIstrand)\n",
    "SIstrandNoIncubation[:name] = SIstrandNoIncubation[:name]*\"-incNo\"\n",
    "SIstrandNoIncubation[:incubationMean] = \"1\" #1 second incubation \n",
    "SIstrandNoIncubation"
   ]
  },
  {
   "cell_type": "code",
   "execution_count": 60,
   "metadata": {},
   "outputs": [],
   "source": [
    "#The base strand for the SIR epidemics\n",
    "SIRstrand = deepcopy(baseStrand)\n",
    "SIRstrand[:name] = \"1.04-SIR\"\n",
    "SIRstrand[:seedingProbability] = \"0.2\" #will be this or 0.4\n",
    "SIRstrand[:incubationMean] = \"43200\" \n",
    "SIRstrand[:incubationShape] = \"10000\"\n",
    "SIRstrand[:infectionMean] = \"432000\" #5 days should vary\n",
    "SIRstrand[:infectiousPeriodShape] = \"3\";"
   ]
  },
  {
   "cell_type": "code",
   "execution_count": 61,
   "metadata": {},
   "outputs": [
    {
     "data": {
      "text/plain": [
       "Dict{Symbol, String} with 9 entries:\n",
       "  :infectionMean         => \"432000\"\n",
       "  :endTime               => \"2021-06-10T09:00:00Z\"\n",
       "  :incubationShape       => \"10000\"\n",
       "  :minimumAppVersion     => \"58\"\n",
       "  :name                  => \"1.04-SIR-days5-seedLow\"\n",
       "  :seedingProbability    => \"0.2\"\n",
       "  :infectiousPeriodShape => \"3\"\n",
       "  :seedTime              => \"2021-05-09T21:00:00Z\"\n",
       "  :incubationMean        => \"43200\""
      ]
     },
     "execution_count": 61,
     "metadata": {},
     "output_type": "execute_result"
    }
   ],
   "source": [
    "SIRstrandLowSeedShortDuration = deepcopy(SIRstrand)\n",
    "SIRstrandLowSeedShortDuration[:name] = SIRstrandLowSeedShortDuration[:name]*\"-days5-seedLow\";\n",
    "SIRstrandLowSeedShortDuration"
   ]
  },
  {
   "cell_type": "code",
   "execution_count": 62,
   "metadata": {},
   "outputs": [
    {
     "data": {
      "text/plain": [
       "Dict{Symbol, String} with 9 entries:\n",
       "  :infectionMean         => \"432000\"\n",
       "  :endTime               => \"2021-06-10T09:00:00Z\"\n",
       "  :incubationShape       => \"10000\"\n",
       "  :minimumAppVersion     => \"58\"\n",
       "  :name                  => \"1.04-SIR-days5-seedHigh\"\n",
       "  :seedingProbability    => \"0.4\"\n",
       "  :infectiousPeriodShape => \"3\"\n",
       "  :seedTime              => \"2021-05-09T21:00:00Z\"\n",
       "  :incubationMean        => \"43200\""
      ]
     },
     "execution_count": 62,
     "metadata": {},
     "output_type": "execute_result"
    }
   ],
   "source": [
    "SIRstrandHighSeedShortDuration = deepcopy(SIRstrand)\n",
    "SIRstrandHighSeedShortDuration[:seedingProbability] = \"0.4\"\n",
    "SIRstrandHighSeedShortDuration[:name] = SIRstrandHighSeedShortDuration[:name]*\"-days5-seedHigh\";\n",
    "SIRstrandHighSeedShortDuration"
   ]
  },
  {
   "cell_type": "code",
   "execution_count": 63,
   "metadata": {},
   "outputs": [
    {
     "data": {
      "text/plain": [
       "Dict{Symbol, String} with 9 entries:\n",
       "  :infectionMean         => \"864000\"\n",
       "  :endTime               => \"2021-06-10T09:00:00Z\"\n",
       "  :incubationShape       => \"10000\"\n",
       "  :minimumAppVersion     => \"58\"\n",
       "  :name                  => \"1.04-SIR-days10-seedLow\"\n",
       "  :seedingProbability    => \"0.2\"\n",
       "  :infectiousPeriodShape => \"3\"\n",
       "  :seedTime              => \"2021-05-09T21:00:00Z\"\n",
       "  :incubationMean        => \"43200\""
      ]
     },
     "execution_count": 63,
     "metadata": {},
     "output_type": "execute_result"
    }
   ],
   "source": [
    "SIRstrandLowSeedLongDuration = deepcopy(SIRstrand)\n",
    "SIRstrandLowSeedLongDuration[:infectionMean] = \"864000\" \n",
    "SIRstrandLowSeedLongDuration[:name] = SIRstrandLowSeedLongDuration[:name]*\"-days10-seedLow\";\n",
    "SIRstrandLowSeedLongDuration"
   ]
  },
  {
   "cell_type": "code",
   "execution_count": 64,
   "metadata": {},
   "outputs": [
    {
     "data": {
      "text/plain": [
       "Dict{Symbol, String} with 9 entries:\n",
       "  :infectionMean         => \"864000\"\n",
       "  :endTime               => \"2021-06-10T09:00:00Z\"\n",
       "  :incubationShape       => \"10000\"\n",
       "  :minimumAppVersion     => \"58\"\n",
       "  :name                  => \"1.04-SIR-days10-seedHigh\"\n",
       "  :seedingProbability    => \"0.4\"\n",
       "  :infectiousPeriodShape => \"3\"\n",
       "  :seedTime              => \"2021-05-09T21:00:00Z\"\n",
       "  :incubationMean        => \"43200\""
      ]
     },
     "execution_count": 64,
     "metadata": {},
     "output_type": "execute_result"
    }
   ],
   "source": [
    "SIRstranHighSeedLongDuration = deepcopy(SIRstrand)\n",
    "SIRstranHighSeedLongDuration[:infectionMean] = \"864000\" \n",
    "SIRstranHighSeedLongDuration[:seedingProbability] = \"0.4\"\n",
    "SIRstranHighSeedLongDuration[:name] = SIRstranHighSeedLongDuration[:name]*\"-days10-seedHigh\";\n",
    "SIRstranHighSeedLongDuration"
   ]
  },
  {
   "cell_type": "code",
   "execution_count": 65,
   "metadata": {},
   "outputs": [],
   "source": [
    "#An array that will hold all strands\n",
    "strands = Array{Dict{Symbol,String}}(undef,0)\n",
    "append!(strands, createRepeats(SIstrandYesIncubation))\n",
    "append!(strands, createRepeats(SIstrandNoIncubation))\n",
    "append!(strands, createRepeats(SIRstrandLowSeedShortDuration))\n",
    "append!(strands, createRepeats(SIRstrandHighSeedShortDuration))\n",
    "append!(strands, createRepeats(SIRstrandLowSeedLongDuration))\n",
    "append!(strands, createRepeats(SIRstranHighSeedLongDuration));"
   ]
  },
  {
   "cell_type": "code",
   "execution_count": 66,
   "metadata": {},
   "outputs": [
    {
     "data": {
      "text/plain": [
       "162"
      ]
     },
     "execution_count": 66,
     "metadata": {},
     "output_type": "execute_result"
    }
   ],
   "source": [
    "length(strands)"
   ]
  },
  {
   "cell_type": "code",
   "execution_count": 67,
   "metadata": {},
   "outputs": [
    {
     "name": "stdout",
     "output_type": "stream",
     "text": [
      "224: {\"name\":\"1.04-SI-incYes-(0.06,5)-repeat1\",\"seedingProbability\":\"0.2\",\"infectionProbabilityMapP\":\"0.06\",\"infectionProbabilityMapK\":\"5\",\"infectionProbabilityMapL\":\"1000000\",\"incubationPeriodMeanSec\":\"43200\",\"incubationPeriodShape\":\"10000\",\"infectiousPeriodMeanSec\":\"3456000\",\"infectiousPeriodShape\":\"10000\",\"startTime\":\"2021-05-09T21:00:00Z\",\"endTime\":\"2021-06-10T09:00:00Z\",\"minimumAppVersion\":\"58\"}\n",
      "\n",
      "225: {\"name\":\"1.04-SI-incYes-(0.06,5)-repeat2\",\"seedingProbability\":\"0.2\",\"infectionProbabilityMapP\":\"0.06\",\"infectionProbabilityMapK\":\"5\",\"infectionProbabilityMapL\":\"1000000\",\"incubationPeriodMeanSec\":\"43200\",\"incubationPeriodShape\":\"10000\",\"infectiousPeriodMeanSec\":\"3456000\",\"infectiousPeriodShape\":\"10000\",\"startTime\":\"2021-05-09T21:00:00Z\",\"endTime\":\"2021-06-10T09:00:00Z\",\"minimumAppVersion\":\"58\"}\n",
      "\n",
      "226: {\"name\":\"1.04-SI-incYes-(0.06,5)-repeat3\",\"seedingProbability\":\"0.2\",\"infectionProbabilityMapP\":\"0.06\",\"infectionProbabilityMapK\":\"5\",\"infectionProbabilityMapL\":\"1000000\",\"incubationPeriodMeanSec\":\"43200\",\"incubationPeriodShape\":\"10000\",\"infectiousPeriodMeanSec\":\"3456000\",\"infectiousPeriodShape\":\"10000\",\"startTime\":\"2021-05-09T21:00:00Z\",\"endTime\":\"2021-06-10T09:00:00Z\",\"minimumAppVersion\":\"58\"}\n",
      "\n",
      "227: {\"name\":\"1.04-SI-incYes-(0.06,15)-repeat1\",\"seedingProbability\":\"0.2\",\"infectionProbabilityMapP\":\"0.06\",\"infectionProbabilityMapK\":\"15\",\"infectionProbabilityMapL\":\"1000000\",\"incubationPeriodMeanSec\":\"43200\",\"incubationPeriodShape\":\"10000\",\"infectiousPeriodMeanSec\":\"3456000\",\"infectiousPeriodShape\":\"10000\",\"startTime\":\"2021-05-09T21:00:00Z\",\"endTime\":\"2021-06-10T09:00:00Z\",\"minimumAppVersion\":\"58\"}\n",
      "\n",
      "228: {\"name\":\"1.04-SI-incYes-(0.06,15)-repeat2\",\"seedingProbability\":\"0.2\",\"infectionProbabilityMapP\":\"0.06\",\"infectionProbabilityMapK\":\"15\",\"infectionProbabilityMapL\":\"1000000\",\"incubationPeriodMeanSec\":\"43200\",\"incubationPeriodShape\":\"10000\",\"infectiousPeriodMeanSec\":\"3456000\",\"infectiousPeriodShape\":\"10000\",\"startTime\":\"2021-05-09T21:00:00Z\",\"endTime\":\"2021-06-10T09:00:00Z\",\"minimumAppVersion\":\"58\"}\n",
      "\n",
      "229: {\"name\":\"1.04-SI-incYes-(0.06,15)-repeat3\",\"seedingProbability\":\"0.2\",\"infectionProbabilityMapP\":\"0.06\",\"infectionProbabilityMapK\":\"15\",\"infectionProbabilityMapL\":\"1000000\",\"incubationPeriodMeanSec\":\"43200\",\"incubationPeriodShape\":\"10000\",\"infectiousPeriodMeanSec\":\"3456000\",\"infectiousPeriodShape\":\"10000\",\"startTime\":\"2021-05-09T21:00:00Z\",\"endTime\":\"2021-06-10T09:00:00Z\",\"minimumAppVersion\":\"58\"}\n",
      "\n",
      "230: {\"name\":\"1.04-SI-incYes-(0.06,500)-repeat1\",\"seedingProbability\":\"0.2\",\"infectionProbabilityMapP\":\"0.06\",\"infectionProbabilityMapK\":\"500\",\"infectionProbabilityMapL\":\"1000000\",\"incubationPeriodMeanSec\":\"43200\",\"incubationPeriodShape\":\"10000\",\"infectiousPeriodMeanSec\":\"3456000\",\"infectiousPeriodShape\":\"10000\",\"startTime\":\"2021-05-09T21:00:00Z\",\"endTime\":\"2021-06-10T09:00:00Z\",\"minimumAppVersion\":\"58\"}\n",
      "\n",
      "231: {\"name\":\"1.04-SI-incYes-(0.06,500)-repeat2\",\"seedingProbability\":\"0.2\",\"infectionProbabilityMapP\":\"0.06\",\"infectionProbabilityMapK\":\"500\",\"infectionProbabilityMapL\":\"1000000\",\"incubationPeriodMeanSec\":\"43200\",\"incubationPeriodShape\":\"10000\",\"infectiousPeriodMeanSec\":\"3456000\",\"infectiousPeriodShape\":\"10000\",\"startTime\":\"2021-05-09T21:00:00Z\",\"endTime\":\"2021-06-10T09:00:00Z\",\"minimumAppVersion\":\"58\"}\n",
      "\n",
      "232: {\"name\":\"1.04-SI-incYes-(0.06,500)-repeat3\",\"seedingProbability\":\"0.2\",\"infectionProbabilityMapP\":\"0.06\",\"infectionProbabilityMapK\":\"500\",\"infectionProbabilityMapL\":\"1000000\",\"incubationPeriodMeanSec\":\"43200\",\"incubationPeriodShape\":\"10000\",\"infectiousPeriodMeanSec\":\"3456000\",\"infectiousPeriodShape\":\"10000\",\"startTime\":\"2021-05-09T21:00:00Z\",\"endTime\":\"2021-06-10T09:00:00Z\",\"minimumAppVersion\":\"58\"}\n",
      "\n",
      "233: {\"name\":\"1.04-SI-incYes-(0.16,5)-repeat1\",\"seedingProbability\":\"0.2\",\"infectionProbabilityMapP\":\"0.16\",\"infectionProbabilityMapK\":\"5\",\"infectionProbabilityMapL\":\"1000000\",\"incubationPeriodMeanSec\":\"43200\",\"incubationPeriodShape\":\"10000\",\"infectiousPeriodMeanSec\":\"3456000\",\"infectiousPeriodShape\":\"10000\",\"startTime\":\"2021-05-09T21:00:00Z\",\"endTime\":\"2021-06-10T09:00:00Z\",\"minimumAppVersion\":\"58\"}\n",
      "\n",
      "234: {\"name\":\"1.04-SI-incYes-(0.16,5)-repeat2\",\"seedingProbability\":\"0.2\",\"infectionProbabilityMapP\":\"0.16\",\"infectionProbabilityMapK\":\"5\",\"infectionProbabilityMapL\":\"1000000\",\"incubationPeriodMeanSec\":\"43200\",\"incubationPeriodShape\":\"10000\",\"infectiousPeriodMeanSec\":\"3456000\",\"infectiousPeriodShape\":\"10000\",\"startTime\":\"2021-05-09T21:00:00Z\",\"endTime\":\"2021-06-10T09:00:00Z\",\"minimumAppVersion\":\"58\"}\n",
      "\n",
      "235: {\"name\":\"1.04-SI-incYes-(0.16,5)-repeat3\",\"seedingProbability\":\"0.2\",\"infectionProbabilityMapP\":\"0.16\",\"infectionProbabilityMapK\":\"5\",\"infectionProbabilityMapL\":\"1000000\",\"incubationPeriodMeanSec\":\"43200\",\"incubationPeriodShape\":\"10000\",\"infectiousPeriodMeanSec\":\"3456000\",\"infectiousPeriodShape\":\"10000\",\"startTime\":\"2021-05-09T21:00:00Z\",\"endTime\":\"2021-06-10T09:00:00Z\",\"minimumAppVersion\":\"58\"}\n",
      "\n",
      "236: {\"name\":\"1.04-SI-incYes-(0.16,15)-repeat1\",\"seedingProbability\":\"0.2\",\"infectionProbabilityMapP\":\"0.16\",\"infectionProbabilityMapK\":\"15\",\"infectionProbabilityMapL\":\"1000000\",\"incubationPeriodMeanSec\":\"43200\",\"incubationPeriodShape\":\"10000\",\"infectiousPeriodMeanSec\":\"3456000\",\"infectiousPeriodShape\":\"10000\",\"startTime\":\"2021-05-09T21:00:00Z\",\"endTime\":\"2021-06-10T09:00:00Z\",\"minimumAppVersion\":\"58\"}\n",
      "\n",
      "237: {\"name\":\"1.04-SI-incYes-(0.16,15)-repeat2\",\"seedingProbability\":\"0.2\",\"infectionProbabilityMapP\":\"0.16\",\"infectionProbabilityMapK\":\"15\",\"infectionProbabilityMapL\":\"1000000\",\"incubationPeriodMeanSec\":\"43200\",\"incubationPeriodShape\":\"10000\",\"infectiousPeriodMeanSec\":\"3456000\",\"infectiousPeriodShape\":\"10000\",\"startTime\":\"2021-05-09T21:00:00Z\",\"endTime\":\"2021-06-10T09:00:00Z\",\"minimumAppVersion\":\"58\"}\n",
      "\n",
      "238: {\"name\":\"1.04-SI-incYes-(0.16,15)-repeat3\",\"seedingProbability\":\"0.2\",\"infectionProbabilityMapP\":\"0.16\",\"infectionProbabilityMapK\":\"15\",\"infectionProbabilityMapL\":\"1000000\",\"incubationPeriodMeanSec\":\"43200\",\"incubationPeriodShape\":\"10000\",\"infectiousPeriodMeanSec\":\"3456000\",\"infectiousPeriodShape\":\"10000\",\"startTime\":\"2021-05-09T21:00:00Z\",\"endTime\":\"2021-06-10T09:00:00Z\",\"minimumAppVersion\":\"58\"}\n",
      "\n",
      "239: {\"name\":\"1.04-SI-incYes-(0.16,500)-repeat1\",\"seedingProbability\":\"0.2\",\"infectionProbabilityMapP\":\"0.16\",\"infectionProbabilityMapK\":\"500\",\"infectionProbabilityMapL\":\"1000000\",\"incubationPeriodMeanSec\":\"43200\",\"incubationPeriodShape\":\"10000\",\"infectiousPeriodMeanSec\":\"3456000\",\"infectiousPeriodShape\":\"10000\",\"startTime\":\"2021-05-09T21:00:00Z\",\"endTime\":\"2021-06-10T09:00:00Z\",\"minimumAppVersion\":\"58\"}\n",
      "\n",
      "240: {\"name\":\"1.04-SI-incYes-(0.16,500)-repeat2\",\"seedingProbability\":\"0.2\",\"infectionProbabilityMapP\":\"0.16\",\"infectionProbabilityMapK\":\"500\",\"infectionProbabilityMapL\":\"1000000\",\"incubationPeriodMeanSec\":\"43200\",\"incubationPeriodShape\":\"10000\",\"infectiousPeriodMeanSec\":\"3456000\",\"infectiousPeriodShape\":\"10000\",\"startTime\":\"2021-05-09T21:00:00Z\",\"endTime\":\"2021-06-10T09:00:00Z\",\"minimumAppVersion\":\"58\"}\n",
      "\n",
      "241: {\"name\":\"1.04-SI-incYes-(0.16,500)-repeat3\",\"seedingProbability\":\"0.2\",\"infectionProbabilityMapP\":\"0.16\",\"infectionProbabilityMapK\":\"500\",\"infectionProbabilityMapL\":\"1000000\",\"incubationPeriodMeanSec\":\"43200\",\"incubationPeriodShape\":\"10000\",\"infectiousPeriodMeanSec\":\"3456000\",\"infectiousPeriodShape\":\"10000\",\"startTime\":\"2021-05-09T21:00:00Z\",\"endTime\":\"2021-06-10T09:00:00Z\",\"minimumAppVersion\":\"58\"}\n",
      "\n",
      "242: {\"name\":\"1.04-SI-incYes-(0.48,5)-repeat1\",\"seedingProbability\":\"0.2\",\"infectionProbabilityMapP\":\"0.48\",\"infectionProbabilityMapK\":\"5\",\"infectionProbabilityMapL\":\"1000000\",\"incubationPeriodMeanSec\":\"43200\",\"incubationPeriodShape\":\"10000\",\"infectiousPeriodMeanSec\":\"3456000\",\"infectiousPeriodShape\":\"10000\",\"startTime\":\"2021-05-09T21:00:00Z\",\"endTime\":\"2021-06-10T09:00:00Z\",\"minimumAppVersion\":\"58\"}\n",
      "\n",
      "243: {\"name\":\"1.04-SI-incYes-(0.48,5)-repeat2\",\"seedingProbability\":\"0.2\",\"infectionProbabilityMapP\":\"0.48\",\"infectionProbabilityMapK\":\"5\",\"infectionProbabilityMapL\":\"1000000\",\"incubationPeriodMeanSec\":\"43200\",\"incubationPeriodShape\":\"10000\",\"infectiousPeriodMeanSec\":\"3456000\",\"infectiousPeriodShape\":\"10000\",\"startTime\":\"2021-05-09T21:00:00Z\",\"endTime\":\"2021-06-10T09:00:00Z\",\"minimumAppVersion\":\"58\"}\n",
      "\n",
      "244: {\"name\":\"1.04-SI-incYes-(0.48,5)-repeat3\",\"seedingProbability\":\"0.2\",\"infectionProbabilityMapP\":\"0.48\",\"infectionProbabilityMapK\":\"5\",\"infectionProbabilityMapL\":\"1000000\",\"incubationPeriodMeanSec\":\"43200\",\"incubationPeriodShape\":\"10000\",\"infectiousPeriodMeanSec\":\"3456000\",\"infectiousPeriodShape\":\"10000\",\"startTime\":\"2021-05-09T21:00:00Z\",\"endTime\":\"2021-06-10T09:00:00Z\",\"minimumAppVersion\":\"58\"}\n",
      "\n",
      "245: {\"name\":\"1.04-SI-incYes-(0.48,15)-repeat1\",\"seedingProbability\":\"0.2\",\"infectionProbabilityMapP\":\"0.48\",\"infectionProbabilityMapK\":\"15\",\"infectionProbabilityMapL\":\"1000000\",\"incubationPeriodMeanSec\":\"43200\",\"incubationPeriodShape\":\"10000\",\"infectiousPeriodMeanSec\":\"3456000\",\"infectiousPeriodShape\":\"10000\",\"startTime\":\"2021-05-09T21:00:00Z\",\"endTime\":\"2021-06-10T09:00:00Z\",\"minimumAppVersion\":\"58\"}\n",
      "\n",
      "246: {\"name\":\"1.04-SI-incYes-(0.48,15)-repeat2\",\"seedingProbability\":\"0.2\",\"infectionProbabilityMapP\":\"0.48\",\"infectionProbabilityMapK\":\"15\",\"infectionProbabilityMapL\":\"1000000\",\"incubationPeriodMeanSec\":\"43200\",\"incubationPeriodShape\":\"10000\",\"infectiousPeriodMeanSec\":\"3456000\",\"infectiousPeriodShape\":\"10000\",\"startTime\":\"2021-05-09T21:00:00Z\",\"endTime\":\"2021-06-10T09:00:00Z\",\"minimumAppVersion\":\"58\"}\n",
      "\n",
      "247: {\"name\":\"1.04-SI-incYes-(0.48,15)-repeat3\",\"seedingProbability\":\"0.2\",\"infectionProbabilityMapP\":\"0.48\",\"infectionProbabilityMapK\":\"15\",\"infectionProbabilityMapL\":\"1000000\",\"incubationPeriodMeanSec\":\"43200\",\"incubationPeriodShape\":\"10000\",\"infectiousPeriodMeanSec\":\"3456000\",\"infectiousPeriodShape\":\"10000\",\"startTime\":\"2021-05-09T21:00:00Z\",\"endTime\":\"2021-06-10T09:00:00Z\",\"minimumAppVersion\":\"58\"}\n",
      "\n",
      "248: {\"name\":\"1.04-SI-incYes-(0.48,500)-repeat1\",\"seedingProbability\":\"0.2\",\"infectionProbabilityMapP\":\"0.48\",\"infectionProbabilityMapK\":\"500\",\"infectionProbabilityMapL\":\"1000000\",\"incubationPeriodMeanSec\":\"43200\",\"incubationPeriodShape\":\"10000\",\"infectiousPeriodMeanSec\":\"3456000\",\"infectiousPeriodShape\":\"10000\",\"startTime\":\"2021-05-09T21:00:00Z\",\"endTime\":\"2021-06-10T09:00:00Z\",\"minimumAppVersion\":\"58\"}\n",
      "\n"
     ]
    },
    {
     "name": "stdout",
     "output_type": "stream",
     "text": [
      "249: {\"name\":\"1.04-SI-incYes-(0.48,500)-repeat2\",\"seedingProbability\":\"0.2\",\"infectionProbabilityMapP\":\"0.48\",\"infectionProbabilityMapK\":\"500\",\"infectionProbabilityMapL\":\"1000000\",\"incubationPeriodMeanSec\":\"43200\",\"incubationPeriodShape\":\"10000\",\"infectiousPeriodMeanSec\":\"3456000\",\"infectiousPeriodShape\":\"10000\",\"startTime\":\"2021-05-09T21:00:00Z\",\"endTime\":\"2021-06-10T09:00:00Z\",\"minimumAppVersion\":\"58\"}\n",
      "\n",
      "250: {\"name\":\"1.04-SI-incYes-(0.48,500)-repeat3\",\"seedingProbability\":\"0.2\",\"infectionProbabilityMapP\":\"0.48\",\"infectionProbabilityMapK\":\"500\",\"infectionProbabilityMapL\":\"1000000\",\"incubationPeriodMeanSec\":\"43200\",\"incubationPeriodShape\":\"10000\",\"infectiousPeriodMeanSec\":\"3456000\",\"infectiousPeriodShape\":\"10000\",\"startTime\":\"2021-05-09T21:00:00Z\",\"endTime\":\"2021-06-10T09:00:00Z\",\"minimumAppVersion\":\"58\"}\n",
      "\n",
      "251: {\"name\":\"1.04-SI-incNo-(0.06,5)-repeat1\",\"seedingProbability\":\"0.2\",\"infectionProbabilityMapP\":\"0.06\",\"infectionProbabilityMapK\":\"5\",\"infectionProbabilityMapL\":\"1000000\",\"incubationPeriodMeanSec\":\"1\",\"incubationPeriodShape\":\"10000\",\"infectiousPeriodMeanSec\":\"3456000\",\"infectiousPeriodShape\":\"10000\",\"startTime\":\"2021-05-09T21:00:00Z\",\"endTime\":\"2021-06-10T09:00:00Z\",\"minimumAppVersion\":\"58\"}\n",
      "\n",
      "252: {\"name\":\"1.04-SI-incNo-(0.06,5)-repeat2\",\"seedingProbability\":\"0.2\",\"infectionProbabilityMapP\":\"0.06\",\"infectionProbabilityMapK\":\"5\",\"infectionProbabilityMapL\":\"1000000\",\"incubationPeriodMeanSec\":\"1\",\"incubationPeriodShape\":\"10000\",\"infectiousPeriodMeanSec\":\"3456000\",\"infectiousPeriodShape\":\"10000\",\"startTime\":\"2021-05-09T21:00:00Z\",\"endTime\":\"2021-06-10T09:00:00Z\",\"minimumAppVersion\":\"58\"}\n",
      "\n",
      "253: {\"name\":\"1.04-SI-incNo-(0.06,5)-repeat3\",\"seedingProbability\":\"0.2\",\"infectionProbabilityMapP\":\"0.06\",\"infectionProbabilityMapK\":\"5\",\"infectionProbabilityMapL\":\"1000000\",\"incubationPeriodMeanSec\":\"1\",\"incubationPeriodShape\":\"10000\",\"infectiousPeriodMeanSec\":\"3456000\",\"infectiousPeriodShape\":\"10000\",\"startTime\":\"2021-05-09T21:00:00Z\",\"endTime\":\"2021-06-10T09:00:00Z\",\"minimumAppVersion\":\"58\"}\n",
      "\n",
      "254: {\"name\":\"1.04-SI-incNo-(0.06,15)-repeat1\",\"seedingProbability\":\"0.2\",\"infectionProbabilityMapP\":\"0.06\",\"infectionProbabilityMapK\":\"15\",\"infectionProbabilityMapL\":\"1000000\",\"incubationPeriodMeanSec\":\"1\",\"incubationPeriodShape\":\"10000\",\"infectiousPeriodMeanSec\":\"3456000\",\"infectiousPeriodShape\":\"10000\",\"startTime\":\"2021-05-09T21:00:00Z\",\"endTime\":\"2021-06-10T09:00:00Z\",\"minimumAppVersion\":\"58\"}\n",
      "\n",
      "255: {\"name\":\"1.04-SI-incNo-(0.06,15)-repeat2\",\"seedingProbability\":\"0.2\",\"infectionProbabilityMapP\":\"0.06\",\"infectionProbabilityMapK\":\"15\",\"infectionProbabilityMapL\":\"1000000\",\"incubationPeriodMeanSec\":\"1\",\"incubationPeriodShape\":\"10000\",\"infectiousPeriodMeanSec\":\"3456000\",\"infectiousPeriodShape\":\"10000\",\"startTime\":\"2021-05-09T21:00:00Z\",\"endTime\":\"2021-06-10T09:00:00Z\",\"minimumAppVersion\":\"58\"}\n",
      "\n",
      "256: {\"name\":\"1.04-SI-incNo-(0.06,15)-repeat3\",\"seedingProbability\":\"0.2\",\"infectionProbabilityMapP\":\"0.06\",\"infectionProbabilityMapK\":\"15\",\"infectionProbabilityMapL\":\"1000000\",\"incubationPeriodMeanSec\":\"1\",\"incubationPeriodShape\":\"10000\",\"infectiousPeriodMeanSec\":\"3456000\",\"infectiousPeriodShape\":\"10000\",\"startTime\":\"2021-05-09T21:00:00Z\",\"endTime\":\"2021-06-10T09:00:00Z\",\"minimumAppVersion\":\"58\"}\n",
      "\n",
      "257: {\"name\":\"1.04-SI-incNo-(0.06,500)-repeat1\",\"seedingProbability\":\"0.2\",\"infectionProbabilityMapP\":\"0.06\",\"infectionProbabilityMapK\":\"500\",\"infectionProbabilityMapL\":\"1000000\",\"incubationPeriodMeanSec\":\"1\",\"incubationPeriodShape\":\"10000\",\"infectiousPeriodMeanSec\":\"3456000\",\"infectiousPeriodShape\":\"10000\",\"startTime\":\"2021-05-09T21:00:00Z\",\"endTime\":\"2021-06-10T09:00:00Z\",\"minimumAppVersion\":\"58\"}\n",
      "\n",
      "258: {\"name\":\"1.04-SI-incNo-(0.06,500)-repeat2\",\"seedingProbability\":\"0.2\",\"infectionProbabilityMapP\":\"0.06\",\"infectionProbabilityMapK\":\"500\",\"infectionProbabilityMapL\":\"1000000\",\"incubationPeriodMeanSec\":\"1\",\"incubationPeriodShape\":\"10000\",\"infectiousPeriodMeanSec\":\"3456000\",\"infectiousPeriodShape\":\"10000\",\"startTime\":\"2021-05-09T21:00:00Z\",\"endTime\":\"2021-06-10T09:00:00Z\",\"minimumAppVersion\":\"58\"}\n",
      "\n",
      "259: {\"name\":\"1.04-SI-incNo-(0.06,500)-repeat3\",\"seedingProbability\":\"0.2\",\"infectionProbabilityMapP\":\"0.06\",\"infectionProbabilityMapK\":\"500\",\"infectionProbabilityMapL\":\"1000000\",\"incubationPeriodMeanSec\":\"1\",\"incubationPeriodShape\":\"10000\",\"infectiousPeriodMeanSec\":\"3456000\",\"infectiousPeriodShape\":\"10000\",\"startTime\":\"2021-05-09T21:00:00Z\",\"endTime\":\"2021-06-10T09:00:00Z\",\"minimumAppVersion\":\"58\"}\n",
      "\n",
      "260: {\"name\":\"1.04-SI-incNo-(0.16,5)-repeat1\",\"seedingProbability\":\"0.2\",\"infectionProbabilityMapP\":\"0.16\",\"infectionProbabilityMapK\":\"5\",\"infectionProbabilityMapL\":\"1000000\",\"incubationPeriodMeanSec\":\"1\",\"incubationPeriodShape\":\"10000\",\"infectiousPeriodMeanSec\":\"3456000\",\"infectiousPeriodShape\":\"10000\",\"startTime\":\"2021-05-09T21:00:00Z\",\"endTime\":\"2021-06-10T09:00:00Z\",\"minimumAppVersion\":\"58\"}\n",
      "\n",
      "261: {\"name\":\"1.04-SI-incNo-(0.16,5)-repeat2\",\"seedingProbability\":\"0.2\",\"infectionProbabilityMapP\":\"0.16\",\"infectionProbabilityMapK\":\"5\",\"infectionProbabilityMapL\":\"1000000\",\"incubationPeriodMeanSec\":\"1\",\"incubationPeriodShape\":\"10000\",\"infectiousPeriodMeanSec\":\"3456000\",\"infectiousPeriodShape\":\"10000\",\"startTime\":\"2021-05-09T21:00:00Z\",\"endTime\":\"2021-06-10T09:00:00Z\",\"minimumAppVersion\":\"58\"}\n",
      "\n",
      "262: {\"name\":\"1.04-SI-incNo-(0.16,5)-repeat3\",\"seedingProbability\":\"0.2\",\"infectionProbabilityMapP\":\"0.16\",\"infectionProbabilityMapK\":\"5\",\"infectionProbabilityMapL\":\"1000000\",\"incubationPeriodMeanSec\":\"1\",\"incubationPeriodShape\":\"10000\",\"infectiousPeriodMeanSec\":\"3456000\",\"infectiousPeriodShape\":\"10000\",\"startTime\":\"2021-05-09T21:00:00Z\",\"endTime\":\"2021-06-10T09:00:00Z\",\"minimumAppVersion\":\"58\"}\n",
      "\n",
      "263: {\"name\":\"1.04-SI-incNo-(0.16,15)-repeat1\",\"seedingProbability\":\"0.2\",\"infectionProbabilityMapP\":\"0.16\",\"infectionProbabilityMapK\":\"15\",\"infectionProbabilityMapL\":\"1000000\",\"incubationPeriodMeanSec\":\"1\",\"incubationPeriodShape\":\"10000\",\"infectiousPeriodMeanSec\":\"3456000\",\"infectiousPeriodShape\":\"10000\",\"startTime\":\"2021-05-09T21:00:00Z\",\"endTime\":\"2021-06-10T09:00:00Z\",\"minimumAppVersion\":\"58\"}\n",
      "\n",
      "264: {\"name\":\"1.04-SI-incNo-(0.16,15)-repeat2\",\"seedingProbability\":\"0.2\",\"infectionProbabilityMapP\":\"0.16\",\"infectionProbabilityMapK\":\"15\",\"infectionProbabilityMapL\":\"1000000\",\"incubationPeriodMeanSec\":\"1\",\"incubationPeriodShape\":\"10000\",\"infectiousPeriodMeanSec\":\"3456000\",\"infectiousPeriodShape\":\"10000\",\"startTime\":\"2021-05-09T21:00:00Z\",\"endTime\":\"2021-06-10T09:00:00Z\",\"minimumAppVersion\":\"58\"}\n",
      "\n",
      "265: {\"name\":\"1.04-SI-incNo-(0.16,15)-repeat3\",\"seedingProbability\":\"0.2\",\"infectionProbabilityMapP\":\"0.16\",\"infectionProbabilityMapK\":\"15\",\"infectionProbabilityMapL\":\"1000000\",\"incubationPeriodMeanSec\":\"1\",\"incubationPeriodShape\":\"10000\",\"infectiousPeriodMeanSec\":\"3456000\",\"infectiousPeriodShape\":\"10000\",\"startTime\":\"2021-05-09T21:00:00Z\",\"endTime\":\"2021-06-10T09:00:00Z\",\"minimumAppVersion\":\"58\"}\n",
      "\n",
      "266: {\"name\":\"1.04-SI-incNo-(0.16,500)-repeat1\",\"seedingProbability\":\"0.2\",\"infectionProbabilityMapP\":\"0.16\",\"infectionProbabilityMapK\":\"500\",\"infectionProbabilityMapL\":\"1000000\",\"incubationPeriodMeanSec\":\"1\",\"incubationPeriodShape\":\"10000\",\"infectiousPeriodMeanSec\":\"3456000\",\"infectiousPeriodShape\":\"10000\",\"startTime\":\"2021-05-09T21:00:00Z\",\"endTime\":\"2021-06-10T09:00:00Z\",\"minimumAppVersion\":\"58\"}\n",
      "\n",
      "267: {\"name\":\"1.04-SI-incNo-(0.16,500)-repeat2\",\"seedingProbability\":\"0.2\",\"infectionProbabilityMapP\":\"0.16\",\"infectionProbabilityMapK\":\"500\",\"infectionProbabilityMapL\":\"1000000\",\"incubationPeriodMeanSec\":\"1\",\"incubationPeriodShape\":\"10000\",\"infectiousPeriodMeanSec\":\"3456000\",\"infectiousPeriodShape\":\"10000\",\"startTime\":\"2021-05-09T21:00:00Z\",\"endTime\":\"2021-06-10T09:00:00Z\",\"minimumAppVersion\":\"58\"}\n",
      "\n",
      "268: {\"name\":\"1.04-SI-incNo-(0.16,500)-repeat3\",\"seedingProbability\":\"0.2\",\"infectionProbabilityMapP\":\"0.16\",\"infectionProbabilityMapK\":\"500\",\"infectionProbabilityMapL\":\"1000000\",\"incubationPeriodMeanSec\":\"1\",\"incubationPeriodShape\":\"10000\",\"infectiousPeriodMeanSec\":\"3456000\",\"infectiousPeriodShape\":\"10000\",\"startTime\":\"2021-05-09T21:00:00Z\",\"endTime\":\"2021-06-10T09:00:00Z\",\"minimumAppVersion\":\"58\"}\n",
      "\n",
      "269: {\"name\":\"1.04-SI-incNo-(0.48,5)-repeat1\",\"seedingProbability\":\"0.2\",\"infectionProbabilityMapP\":\"0.48\",\"infectionProbabilityMapK\":\"5\",\"infectionProbabilityMapL\":\"1000000\",\"incubationPeriodMeanSec\":\"1\",\"incubationPeriodShape\":\"10000\",\"infectiousPeriodMeanSec\":\"3456000\",\"infectiousPeriodShape\":\"10000\",\"startTime\":\"2021-05-09T21:00:00Z\",\"endTime\":\"2021-06-10T09:00:00Z\",\"minimumAppVersion\":\"58\"}\n",
      "\n",
      "270: {\"name\":\"1.04-SI-incNo-(0.48,5)-repeat2\",\"seedingProbability\":\"0.2\",\"infectionProbabilityMapP\":\"0.48\",\"infectionProbabilityMapK\":\"5\",\"infectionProbabilityMapL\":\"1000000\",\"incubationPeriodMeanSec\":\"1\",\"incubationPeriodShape\":\"10000\",\"infectiousPeriodMeanSec\":\"3456000\",\"infectiousPeriodShape\":\"10000\",\"startTime\":\"2021-05-09T21:00:00Z\",\"endTime\":\"2021-06-10T09:00:00Z\",\"minimumAppVersion\":\"58\"}\n",
      "\n",
      "271: {\"name\":\"1.04-SI-incNo-(0.48,5)-repeat3\",\"seedingProbability\":\"0.2\",\"infectionProbabilityMapP\":\"0.48\",\"infectionProbabilityMapK\":\"5\",\"infectionProbabilityMapL\":\"1000000\",\"incubationPeriodMeanSec\":\"1\",\"incubationPeriodShape\":\"10000\",\"infectiousPeriodMeanSec\":\"3456000\",\"infectiousPeriodShape\":\"10000\",\"startTime\":\"2021-05-09T21:00:00Z\",\"endTime\":\"2021-06-10T09:00:00Z\",\"minimumAppVersion\":\"58\"}\n",
      "\n",
      "272: {\"name\":\"1.04-SI-incNo-(0.48,15)-repeat1\",\"seedingProbability\":\"0.2\",\"infectionProbabilityMapP\":\"0.48\",\"infectionProbabilityMapK\":\"15\",\"infectionProbabilityMapL\":\"1000000\",\"incubationPeriodMeanSec\":\"1\",\"incubationPeriodShape\":\"10000\",\"infectiousPeriodMeanSec\":\"3456000\",\"infectiousPeriodShape\":\"10000\",\"startTime\":\"2021-05-09T21:00:00Z\",\"endTime\":\"2021-06-10T09:00:00Z\",\"minimumAppVersion\":\"58\"}\n",
      "\n",
      "273: {\"name\":\"1.04-SI-incNo-(0.48,15)-repeat2\",\"seedingProbability\":\"0.2\",\"infectionProbabilityMapP\":\"0.48\",\"infectionProbabilityMapK\":\"15\",\"infectionProbabilityMapL\":\"1000000\",\"incubationPeriodMeanSec\":\"1\",\"incubationPeriodShape\":\"10000\",\"infectiousPeriodMeanSec\":\"3456000\",\"infectiousPeriodShape\":\"10000\",\"startTime\":\"2021-05-09T21:00:00Z\",\"endTime\":\"2021-06-10T09:00:00Z\",\"minimumAppVersion\":\"58\"}\n",
      "\n",
      "274: {\"name\":\"1.04-SI-incNo-(0.48,15)-repeat3\",\"seedingProbability\":\"0.2\",\"infectionProbabilityMapP\":\"0.48\",\"infectionProbabilityMapK\":\"15\",\"infectionProbabilityMapL\":\"1000000\",\"incubationPeriodMeanSec\":\"1\",\"incubationPeriodShape\":\"10000\",\"infectiousPeriodMeanSec\":\"3456000\",\"infectiousPeriodShape\":\"10000\",\"startTime\":\"2021-05-09T21:00:00Z\",\"endTime\":\"2021-06-10T09:00:00Z\",\"minimumAppVersion\":\"58\"}\n",
      "\n"
     ]
    },
    {
     "name": "stdout",
     "output_type": "stream",
     "text": [
      "275: {\"name\":\"1.04-SI-incNo-(0.48,500)-repeat1\",\"seedingProbability\":\"0.2\",\"infectionProbabilityMapP\":\"0.48\",\"infectionProbabilityMapK\":\"500\",\"infectionProbabilityMapL\":\"1000000\",\"incubationPeriodMeanSec\":\"1\",\"incubationPeriodShape\":\"10000\",\"infectiousPeriodMeanSec\":\"3456000\",\"infectiousPeriodShape\":\"10000\",\"startTime\":\"2021-05-09T21:00:00Z\",\"endTime\":\"2021-06-10T09:00:00Z\",\"minimumAppVersion\":\"58\"}\n",
      "\n",
      "276: {\"name\":\"1.04-SI-incNo-(0.48,500)-repeat2\",\"seedingProbability\":\"0.2\",\"infectionProbabilityMapP\":\"0.48\",\"infectionProbabilityMapK\":\"500\",\"infectionProbabilityMapL\":\"1000000\",\"incubationPeriodMeanSec\":\"1\",\"incubationPeriodShape\":\"10000\",\"infectiousPeriodMeanSec\":\"3456000\",\"infectiousPeriodShape\":\"10000\",\"startTime\":\"2021-05-09T21:00:00Z\",\"endTime\":\"2021-06-10T09:00:00Z\",\"minimumAppVersion\":\"58\"}\n",
      "\n",
      "277: {\"name\":\"1.04-SI-incNo-(0.48,500)-repeat3\",\"seedingProbability\":\"0.2\",\"infectionProbabilityMapP\":\"0.48\",\"infectionProbabilityMapK\":\"500\",\"infectionProbabilityMapL\":\"1000000\",\"incubationPeriodMeanSec\":\"1\",\"incubationPeriodShape\":\"10000\",\"infectiousPeriodMeanSec\":\"3456000\",\"infectiousPeriodShape\":\"10000\",\"startTime\":\"2021-05-09T21:00:00Z\",\"endTime\":\"2021-06-10T09:00:00Z\",\"minimumAppVersion\":\"58\"}\n",
      "\n",
      "278: {\"name\":\"1.04-SIR-days5-seedLow-(0.06,5)-repeat1\",\"seedingProbability\":\"0.2\",\"infectionProbabilityMapP\":\"0.06\",\"infectionProbabilityMapK\":\"5\",\"infectionProbabilityMapL\":\"1000000\",\"incubationPeriodMeanSec\":\"43200\",\"incubationPeriodShape\":\"10000\",\"infectiousPeriodMeanSec\":\"432000\",\"infectiousPeriodShape\":\"3\",\"startTime\":\"2021-05-09T21:00:00Z\",\"endTime\":\"2021-06-10T09:00:00Z\",\"minimumAppVersion\":\"58\"}\n",
      "\n",
      "279: {\"name\":\"1.04-SIR-days5-seedLow-(0.06,5)-repeat2\",\"seedingProbability\":\"0.2\",\"infectionProbabilityMapP\":\"0.06\",\"infectionProbabilityMapK\":\"5\",\"infectionProbabilityMapL\":\"1000000\",\"incubationPeriodMeanSec\":\"43200\",\"incubationPeriodShape\":\"10000\",\"infectiousPeriodMeanSec\":\"432000\",\"infectiousPeriodShape\":\"3\",\"startTime\":\"2021-05-09T21:00:00Z\",\"endTime\":\"2021-06-10T09:00:00Z\",\"minimumAppVersion\":\"58\"}\n",
      "\n",
      "280: {\"name\":\"1.04-SIR-days5-seedLow-(0.06,5)-repeat3\",\"seedingProbability\":\"0.2\",\"infectionProbabilityMapP\":\"0.06\",\"infectionProbabilityMapK\":\"5\",\"infectionProbabilityMapL\":\"1000000\",\"incubationPeriodMeanSec\":\"43200\",\"incubationPeriodShape\":\"10000\",\"infectiousPeriodMeanSec\":\"432000\",\"infectiousPeriodShape\":\"3\",\"startTime\":\"2021-05-09T21:00:00Z\",\"endTime\":\"2021-06-10T09:00:00Z\",\"minimumAppVersion\":\"58\"}\n",
      "\n",
      "281: {\"name\":\"1.04-SIR-days5-seedLow-(0.06,15)-repeat1\",\"seedingProbability\":\"0.2\",\"infectionProbabilityMapP\":\"0.06\",\"infectionProbabilityMapK\":\"15\",\"infectionProbabilityMapL\":\"1000000\",\"incubationPeriodMeanSec\":\"43200\",\"incubationPeriodShape\":\"10000\",\"infectiousPeriodMeanSec\":\"432000\",\"infectiousPeriodShape\":\"3\",\"startTime\":\"2021-05-09T21:00:00Z\",\"endTime\":\"2021-06-10T09:00:00Z\",\"minimumAppVersion\":\"58\"}\n",
      "\n",
      "282: {\"name\":\"1.04-SIR-days5-seedLow-(0.06,15)-repeat2\",\"seedingProbability\":\"0.2\",\"infectionProbabilityMapP\":\"0.06\",\"infectionProbabilityMapK\":\"15\",\"infectionProbabilityMapL\":\"1000000\",\"incubationPeriodMeanSec\":\"43200\",\"incubationPeriodShape\":\"10000\",\"infectiousPeriodMeanSec\":\"432000\",\"infectiousPeriodShape\":\"3\",\"startTime\":\"2021-05-09T21:00:00Z\",\"endTime\":\"2021-06-10T09:00:00Z\",\"minimumAppVersion\":\"58\"}\n",
      "\n",
      "283: {\"name\":\"1.04-SIR-days5-seedLow-(0.06,15)-repeat3\",\"seedingProbability\":\"0.2\",\"infectionProbabilityMapP\":\"0.06\",\"infectionProbabilityMapK\":\"15\",\"infectionProbabilityMapL\":\"1000000\",\"incubationPeriodMeanSec\":\"43200\",\"incubationPeriodShape\":\"10000\",\"infectiousPeriodMeanSec\":\"432000\",\"infectiousPeriodShape\":\"3\",\"startTime\":\"2021-05-09T21:00:00Z\",\"endTime\":\"2021-06-10T09:00:00Z\",\"minimumAppVersion\":\"58\"}\n",
      "\n",
      "284: {\"name\":\"1.04-SIR-days5-seedLow-(0.06,500)-repeat1\",\"seedingProbability\":\"0.2\",\"infectionProbabilityMapP\":\"0.06\",\"infectionProbabilityMapK\":\"500\",\"infectionProbabilityMapL\":\"1000000\",\"incubationPeriodMeanSec\":\"43200\",\"incubationPeriodShape\":\"10000\",\"infectiousPeriodMeanSec\":\"432000\",\"infectiousPeriodShape\":\"3\",\"startTime\":\"2021-05-09T21:00:00Z\",\"endTime\":\"2021-06-10T09:00:00Z\",\"minimumAppVersion\":\"58\"}\n",
      "\n",
      "285: {\"name\":\"1.04-SIR-days5-seedLow-(0.06,500)-repeat2\",\"seedingProbability\":\"0.2\",\"infectionProbabilityMapP\":\"0.06\",\"infectionProbabilityMapK\":\"500\",\"infectionProbabilityMapL\":\"1000000\",\"incubationPeriodMeanSec\":\"43200\",\"incubationPeriodShape\":\"10000\",\"infectiousPeriodMeanSec\":\"432000\",\"infectiousPeriodShape\":\"3\",\"startTime\":\"2021-05-09T21:00:00Z\",\"endTime\":\"2021-06-10T09:00:00Z\",\"minimumAppVersion\":\"58\"}\n",
      "\n",
      "286: {\"name\":\"1.04-SIR-days5-seedLow-(0.06,500)-repeat3\",\"seedingProbability\":\"0.2\",\"infectionProbabilityMapP\":\"0.06\",\"infectionProbabilityMapK\":\"500\",\"infectionProbabilityMapL\":\"1000000\",\"incubationPeriodMeanSec\":\"43200\",\"incubationPeriodShape\":\"10000\",\"infectiousPeriodMeanSec\":\"432000\",\"infectiousPeriodShape\":\"3\",\"startTime\":\"2021-05-09T21:00:00Z\",\"endTime\":\"2021-06-10T09:00:00Z\",\"minimumAppVersion\":\"58\"}\n",
      "\n",
      "287: {\"name\":\"1.04-SIR-days5-seedLow-(0.16,5)-repeat1\",\"seedingProbability\":\"0.2\",\"infectionProbabilityMapP\":\"0.16\",\"infectionProbabilityMapK\":\"5\",\"infectionProbabilityMapL\":\"1000000\",\"incubationPeriodMeanSec\":\"43200\",\"incubationPeriodShape\":\"10000\",\"infectiousPeriodMeanSec\":\"432000\",\"infectiousPeriodShape\":\"3\",\"startTime\":\"2021-05-09T21:00:00Z\",\"endTime\":\"2021-06-10T09:00:00Z\",\"minimumAppVersion\":\"58\"}\n",
      "\n",
      "288: {\"name\":\"1.04-SIR-days5-seedLow-(0.16,5)-repeat2\",\"seedingProbability\":\"0.2\",\"infectionProbabilityMapP\":\"0.16\",\"infectionProbabilityMapK\":\"5\",\"infectionProbabilityMapL\":\"1000000\",\"incubationPeriodMeanSec\":\"43200\",\"incubationPeriodShape\":\"10000\",\"infectiousPeriodMeanSec\":\"432000\",\"infectiousPeriodShape\":\"3\",\"startTime\":\"2021-05-09T21:00:00Z\",\"endTime\":\"2021-06-10T09:00:00Z\",\"minimumAppVersion\":\"58\"}\n",
      "\n",
      "289: {\"name\":\"1.04-SIR-days5-seedLow-(0.16,5)-repeat3\",\"seedingProbability\":\"0.2\",\"infectionProbabilityMapP\":\"0.16\",\"infectionProbabilityMapK\":\"5\",\"infectionProbabilityMapL\":\"1000000\",\"incubationPeriodMeanSec\":\"43200\",\"incubationPeriodShape\":\"10000\",\"infectiousPeriodMeanSec\":\"432000\",\"infectiousPeriodShape\":\"3\",\"startTime\":\"2021-05-09T21:00:00Z\",\"endTime\":\"2021-06-10T09:00:00Z\",\"minimumAppVersion\":\"58\"}\n",
      "\n",
      "290: {\"name\":\"1.04-SIR-days5-seedLow-(0.16,15)-repeat1\",\"seedingProbability\":\"0.2\",\"infectionProbabilityMapP\":\"0.16\",\"infectionProbabilityMapK\":\"15\",\"infectionProbabilityMapL\":\"1000000\",\"incubationPeriodMeanSec\":\"43200\",\"incubationPeriodShape\":\"10000\",\"infectiousPeriodMeanSec\":\"432000\",\"infectiousPeriodShape\":\"3\",\"startTime\":\"2021-05-09T21:00:00Z\",\"endTime\":\"2021-06-10T09:00:00Z\",\"minimumAppVersion\":\"58\"}\n",
      "\n",
      "291: {\"name\":\"1.04-SIR-days5-seedLow-(0.16,15)-repeat2\",\"seedingProbability\":\"0.2\",\"infectionProbabilityMapP\":\"0.16\",\"infectionProbabilityMapK\":\"15\",\"infectionProbabilityMapL\":\"1000000\",\"incubationPeriodMeanSec\":\"43200\",\"incubationPeriodShape\":\"10000\",\"infectiousPeriodMeanSec\":\"432000\",\"infectiousPeriodShape\":\"3\",\"startTime\":\"2021-05-09T21:00:00Z\",\"endTime\":\"2021-06-10T09:00:00Z\",\"minimumAppVersion\":\"58\"}\n",
      "\n",
      "292: {\"name\":\"1.04-SIR-days5-seedLow-(0.16,15)-repeat3\",\"seedingProbability\":\"0.2\",\"infectionProbabilityMapP\":\"0.16\",\"infectionProbabilityMapK\":\"15\",\"infectionProbabilityMapL\":\"1000000\",\"incubationPeriodMeanSec\":\"43200\",\"incubationPeriodShape\":\"10000\",\"infectiousPeriodMeanSec\":\"432000\",\"infectiousPeriodShape\":\"3\",\"startTime\":\"2021-05-09T21:00:00Z\",\"endTime\":\"2021-06-10T09:00:00Z\",\"minimumAppVersion\":\"58\"}\n",
      "\n",
      "293: {\"name\":\"1.04-SIR-days5-seedLow-(0.16,500)-repeat1\",\"seedingProbability\":\"0.2\",\"infectionProbabilityMapP\":\"0.16\",\"infectionProbabilityMapK\":\"500\",\"infectionProbabilityMapL\":\"1000000\",\"incubationPeriodMeanSec\":\"43200\",\"incubationPeriodShape\":\"10000\",\"infectiousPeriodMeanSec\":\"432000\",\"infectiousPeriodShape\":\"3\",\"startTime\":\"2021-05-09T21:00:00Z\",\"endTime\":\"2021-06-10T09:00:00Z\",\"minimumAppVersion\":\"58\"}\n",
      "\n",
      "294: {\"name\":\"1.04-SIR-days5-seedLow-(0.16,500)-repeat2\",\"seedingProbability\":\"0.2\",\"infectionProbabilityMapP\":\"0.16\",\"infectionProbabilityMapK\":\"500\",\"infectionProbabilityMapL\":\"1000000\",\"incubationPeriodMeanSec\":\"43200\",\"incubationPeriodShape\":\"10000\",\"infectiousPeriodMeanSec\":\"432000\",\"infectiousPeriodShape\":\"3\",\"startTime\":\"2021-05-09T21:00:00Z\",\"endTime\":\"2021-06-10T09:00:00Z\",\"minimumAppVersion\":\"58\"}\n",
      "\n",
      "295: {\"name\":\"1.04-SIR-days5-seedLow-(0.16,500)-repeat3\",\"seedingProbability\":\"0.2\",\"infectionProbabilityMapP\":\"0.16\",\"infectionProbabilityMapK\":\"500\",\"infectionProbabilityMapL\":\"1000000\",\"incubationPeriodMeanSec\":\"43200\",\"incubationPeriodShape\":\"10000\",\"infectiousPeriodMeanSec\":\"432000\",\"infectiousPeriodShape\":\"3\",\"startTime\":\"2021-05-09T21:00:00Z\",\"endTime\":\"2021-06-10T09:00:00Z\",\"minimumAppVersion\":\"58\"}\n",
      "\n",
      "296: {\"name\":\"1.04-SIR-days5-seedLow-(0.48,5)-repeat1\",\"seedingProbability\":\"0.2\",\"infectionProbabilityMapP\":\"0.48\",\"infectionProbabilityMapK\":\"5\",\"infectionProbabilityMapL\":\"1000000\",\"incubationPeriodMeanSec\":\"43200\",\"incubationPeriodShape\":\"10000\",\"infectiousPeriodMeanSec\":\"432000\",\"infectiousPeriodShape\":\"3\",\"startTime\":\"2021-05-09T21:00:00Z\",\"endTime\":\"2021-06-10T09:00:00Z\",\"minimumAppVersion\":\"58\"}\n",
      "\n",
      "297: {\"name\":\"1.04-SIR-days5-seedLow-(0.48,5)-repeat2\",\"seedingProbability\":\"0.2\",\"infectionProbabilityMapP\":\"0.48\",\"infectionProbabilityMapK\":\"5\",\"infectionProbabilityMapL\":\"1000000\",\"incubationPeriodMeanSec\":\"43200\",\"incubationPeriodShape\":\"10000\",\"infectiousPeriodMeanSec\":\"432000\",\"infectiousPeriodShape\":\"3\",\"startTime\":\"2021-05-09T21:00:00Z\",\"endTime\":\"2021-06-10T09:00:00Z\",\"minimumAppVersion\":\"58\"}\n",
      "\n",
      "298: {\"name\":\"1.04-SIR-days5-seedLow-(0.48,5)-repeat3\",\"seedingProbability\":\"0.2\",\"infectionProbabilityMapP\":\"0.48\",\"infectionProbabilityMapK\":\"5\",\"infectionProbabilityMapL\":\"1000000\",\"incubationPeriodMeanSec\":\"43200\",\"incubationPeriodShape\":\"10000\",\"infectiousPeriodMeanSec\":\"432000\",\"infectiousPeriodShape\":\"3\",\"startTime\":\"2021-05-09T21:00:00Z\",\"endTime\":\"2021-06-10T09:00:00Z\",\"minimumAppVersion\":\"58\"}\n",
      "\n",
      "299: {\"name\":\"1.04-SIR-days5-seedLow-(0.48,15)-repeat1\",\"seedingProbability\":\"0.2\",\"infectionProbabilityMapP\":\"0.48\",\"infectionProbabilityMapK\":\"15\",\"infectionProbabilityMapL\":\"1000000\",\"incubationPeriodMeanSec\":\"43200\",\"incubationPeriodShape\":\"10000\",\"infectiousPeriodMeanSec\":\"432000\",\"infectiousPeriodShape\":\"3\",\"startTime\":\"2021-05-09T21:00:00Z\",\"endTime\":\"2021-06-10T09:00:00Z\",\"minimumAppVersion\":\"58\"}\n",
      "\n",
      "300: {\"name\":\"1.04-SIR-days5-seedLow-(0.48,15)-repeat2\",\"seedingProbability\":\"0.2\",\"infectionProbabilityMapP\":\"0.48\",\"infectionProbabilityMapK\":\"15\",\"infectionProbabilityMapL\":\"1000000\",\"incubationPeriodMeanSec\":\"43200\",\"incubationPeriodShape\":\"10000\",\"infectiousPeriodMeanSec\":\"432000\",\"infectiousPeriodShape\":\"3\",\"startTime\":\"2021-05-09T21:00:00Z\",\"endTime\":\"2021-06-10T09:00:00Z\",\"minimumAppVersion\":\"58\"}\n",
      "\n"
     ]
    },
    {
     "name": "stdout",
     "output_type": "stream",
     "text": [
      "301: {\"name\":\"1.04-SIR-days5-seedLow-(0.48,15)-repeat3\",\"seedingProbability\":\"0.2\",\"infectionProbabilityMapP\":\"0.48\",\"infectionProbabilityMapK\":\"15\",\"infectionProbabilityMapL\":\"1000000\",\"incubationPeriodMeanSec\":\"43200\",\"incubationPeriodShape\":\"10000\",\"infectiousPeriodMeanSec\":\"432000\",\"infectiousPeriodShape\":\"3\",\"startTime\":\"2021-05-09T21:00:00Z\",\"endTime\":\"2021-06-10T09:00:00Z\",\"minimumAppVersion\":\"58\"}\n",
      "\n",
      "302: {\"name\":\"1.04-SIR-days5-seedLow-(0.48,500)-repeat1\",\"seedingProbability\":\"0.2\",\"infectionProbabilityMapP\":\"0.48\",\"infectionProbabilityMapK\":\"500\",\"infectionProbabilityMapL\":\"1000000\",\"incubationPeriodMeanSec\":\"43200\",\"incubationPeriodShape\":\"10000\",\"infectiousPeriodMeanSec\":\"432000\",\"infectiousPeriodShape\":\"3\",\"startTime\":\"2021-05-09T21:00:00Z\",\"endTime\":\"2021-06-10T09:00:00Z\",\"minimumAppVersion\":\"58\"}\n",
      "\n",
      "303: {\"name\":\"1.04-SIR-days5-seedLow-(0.48,500)-repeat2\",\"seedingProbability\":\"0.2\",\"infectionProbabilityMapP\":\"0.48\",\"infectionProbabilityMapK\":\"500\",\"infectionProbabilityMapL\":\"1000000\",\"incubationPeriodMeanSec\":\"43200\",\"incubationPeriodShape\":\"10000\",\"infectiousPeriodMeanSec\":\"432000\",\"infectiousPeriodShape\":\"3\",\"startTime\":\"2021-05-09T21:00:00Z\",\"endTime\":\"2021-06-10T09:00:00Z\",\"minimumAppVersion\":\"58\"}\n",
      "\n",
      "304: {\"name\":\"1.04-SIR-days5-seedLow-(0.48,500)-repeat3\",\"seedingProbability\":\"0.2\",\"infectionProbabilityMapP\":\"0.48\",\"infectionProbabilityMapK\":\"500\",\"infectionProbabilityMapL\":\"1000000\",\"incubationPeriodMeanSec\":\"43200\",\"incubationPeriodShape\":\"10000\",\"infectiousPeriodMeanSec\":\"432000\",\"infectiousPeriodShape\":\"3\",\"startTime\":\"2021-05-09T21:00:00Z\",\"endTime\":\"2021-06-10T09:00:00Z\",\"minimumAppVersion\":\"58\"}\n",
      "\n",
      "305: {\"name\":\"1.04-SIR-days5-seedHigh-(0.06,5)-repeat1\",\"seedingProbability\":\"0.4\",\"infectionProbabilityMapP\":\"0.06\",\"infectionProbabilityMapK\":\"5\",\"infectionProbabilityMapL\":\"1000000\",\"incubationPeriodMeanSec\":\"43200\",\"incubationPeriodShape\":\"10000\",\"infectiousPeriodMeanSec\":\"432000\",\"infectiousPeriodShape\":\"3\",\"startTime\":\"2021-05-09T21:00:00Z\",\"endTime\":\"2021-06-10T09:00:00Z\",\"minimumAppVersion\":\"58\"}\n",
      "\n",
      "306: {\"name\":\"1.04-SIR-days5-seedHigh-(0.06,5)-repeat2\",\"seedingProbability\":\"0.4\",\"infectionProbabilityMapP\":\"0.06\",\"infectionProbabilityMapK\":\"5\",\"infectionProbabilityMapL\":\"1000000\",\"incubationPeriodMeanSec\":\"43200\",\"incubationPeriodShape\":\"10000\",\"infectiousPeriodMeanSec\":\"432000\",\"infectiousPeriodShape\":\"3\",\"startTime\":\"2021-05-09T21:00:00Z\",\"endTime\":\"2021-06-10T09:00:00Z\",\"minimumAppVersion\":\"58\"}\n",
      "\n",
      "307: {\"name\":\"1.04-SIR-days5-seedHigh-(0.06,5)-repeat3\",\"seedingProbability\":\"0.4\",\"infectionProbabilityMapP\":\"0.06\",\"infectionProbabilityMapK\":\"5\",\"infectionProbabilityMapL\":\"1000000\",\"incubationPeriodMeanSec\":\"43200\",\"incubationPeriodShape\":\"10000\",\"infectiousPeriodMeanSec\":\"432000\",\"infectiousPeriodShape\":\"3\",\"startTime\":\"2021-05-09T21:00:00Z\",\"endTime\":\"2021-06-10T09:00:00Z\",\"minimumAppVersion\":\"58\"}\n",
      "\n",
      "308: {\"name\":\"1.04-SIR-days5-seedHigh-(0.06,15)-repeat1\",\"seedingProbability\":\"0.4\",\"infectionProbabilityMapP\":\"0.06\",\"infectionProbabilityMapK\":\"15\",\"infectionProbabilityMapL\":\"1000000\",\"incubationPeriodMeanSec\":\"43200\",\"incubationPeriodShape\":\"10000\",\"infectiousPeriodMeanSec\":\"432000\",\"infectiousPeriodShape\":\"3\",\"startTime\":\"2021-05-09T21:00:00Z\",\"endTime\":\"2021-06-10T09:00:00Z\",\"minimumAppVersion\":\"58\"}\n",
      "\n",
      "309: {\"name\":\"1.04-SIR-days5-seedHigh-(0.06,15)-repeat2\",\"seedingProbability\":\"0.4\",\"infectionProbabilityMapP\":\"0.06\",\"infectionProbabilityMapK\":\"15\",\"infectionProbabilityMapL\":\"1000000\",\"incubationPeriodMeanSec\":\"43200\",\"incubationPeriodShape\":\"10000\",\"infectiousPeriodMeanSec\":\"432000\",\"infectiousPeriodShape\":\"3\",\"startTime\":\"2021-05-09T21:00:00Z\",\"endTime\":\"2021-06-10T09:00:00Z\",\"minimumAppVersion\":\"58\"}\n",
      "\n",
      "310: {\"name\":\"1.04-SIR-days5-seedHigh-(0.06,15)-repeat3\",\"seedingProbability\":\"0.4\",\"infectionProbabilityMapP\":\"0.06\",\"infectionProbabilityMapK\":\"15\",\"infectionProbabilityMapL\":\"1000000\",\"incubationPeriodMeanSec\":\"43200\",\"incubationPeriodShape\":\"10000\",\"infectiousPeriodMeanSec\":\"432000\",\"infectiousPeriodShape\":\"3\",\"startTime\":\"2021-05-09T21:00:00Z\",\"endTime\":\"2021-06-10T09:00:00Z\",\"minimumAppVersion\":\"58\"}\n",
      "\n",
      "311: {\"name\":\"1.04-SIR-days5-seedHigh-(0.06,500)-repeat1\",\"seedingProbability\":\"0.4\",\"infectionProbabilityMapP\":\"0.06\",\"infectionProbabilityMapK\":\"500\",\"infectionProbabilityMapL\":\"1000000\",\"incubationPeriodMeanSec\":\"43200\",\"incubationPeriodShape\":\"10000\",\"infectiousPeriodMeanSec\":\"432000\",\"infectiousPeriodShape\":\"3\",\"startTime\":\"2021-05-09T21:00:00Z\",\"endTime\":\"2021-06-10T09:00:00Z\",\"minimumAppVersion\":\"58\"}\n",
      "\n",
      "312: {\"name\":\"1.04-SIR-days5-seedHigh-(0.06,500)-repeat2\",\"seedingProbability\":\"0.4\",\"infectionProbabilityMapP\":\"0.06\",\"infectionProbabilityMapK\":\"500\",\"infectionProbabilityMapL\":\"1000000\",\"incubationPeriodMeanSec\":\"43200\",\"incubationPeriodShape\":\"10000\",\"infectiousPeriodMeanSec\":\"432000\",\"infectiousPeriodShape\":\"3\",\"startTime\":\"2021-05-09T21:00:00Z\",\"endTime\":\"2021-06-10T09:00:00Z\",\"minimumAppVersion\":\"58\"}\n",
      "\n",
      "313: {\"name\":\"1.04-SIR-days5-seedHigh-(0.06,500)-repeat3\",\"seedingProbability\":\"0.4\",\"infectionProbabilityMapP\":\"0.06\",\"infectionProbabilityMapK\":\"500\",\"infectionProbabilityMapL\":\"1000000\",\"incubationPeriodMeanSec\":\"43200\",\"incubationPeriodShape\":\"10000\",\"infectiousPeriodMeanSec\":\"432000\",\"infectiousPeriodShape\":\"3\",\"startTime\":\"2021-05-09T21:00:00Z\",\"endTime\":\"2021-06-10T09:00:00Z\",\"minimumAppVersion\":\"58\"}\n",
      "\n",
      "314: {\"name\":\"1.04-SIR-days5-seedHigh-(0.16,5)-repeat1\",\"seedingProbability\":\"0.4\",\"infectionProbabilityMapP\":\"0.16\",\"infectionProbabilityMapK\":\"5\",\"infectionProbabilityMapL\":\"1000000\",\"incubationPeriodMeanSec\":\"43200\",\"incubationPeriodShape\":\"10000\",\"infectiousPeriodMeanSec\":\"432000\",\"infectiousPeriodShape\":\"3\",\"startTime\":\"2021-05-09T21:00:00Z\",\"endTime\":\"2021-06-10T09:00:00Z\",\"minimumAppVersion\":\"58\"}\n",
      "\n",
      "315: {\"name\":\"1.04-SIR-days5-seedHigh-(0.16,5)-repeat2\",\"seedingProbability\":\"0.4\",\"infectionProbabilityMapP\":\"0.16\",\"infectionProbabilityMapK\":\"5\",\"infectionProbabilityMapL\":\"1000000\",\"incubationPeriodMeanSec\":\"43200\",\"incubationPeriodShape\":\"10000\",\"infectiousPeriodMeanSec\":\"432000\",\"infectiousPeriodShape\":\"3\",\"startTime\":\"2021-05-09T21:00:00Z\",\"endTime\":\"2021-06-10T09:00:00Z\",\"minimumAppVersion\":\"58\"}\n",
      "\n",
      "316: {\"name\":\"1.04-SIR-days5-seedHigh-(0.16,5)-repeat3\",\"seedingProbability\":\"0.4\",\"infectionProbabilityMapP\":\"0.16\",\"infectionProbabilityMapK\":\"5\",\"infectionProbabilityMapL\":\"1000000\",\"incubationPeriodMeanSec\":\"43200\",\"incubationPeriodShape\":\"10000\",\"infectiousPeriodMeanSec\":\"432000\",\"infectiousPeriodShape\":\"3\",\"startTime\":\"2021-05-09T21:00:00Z\",\"endTime\":\"2021-06-10T09:00:00Z\",\"minimumAppVersion\":\"58\"}\n",
      "\n",
      "317: {\"name\":\"1.04-SIR-days5-seedHigh-(0.16,15)-repeat1\",\"seedingProbability\":\"0.4\",\"infectionProbabilityMapP\":\"0.16\",\"infectionProbabilityMapK\":\"15\",\"infectionProbabilityMapL\":\"1000000\",\"incubationPeriodMeanSec\":\"43200\",\"incubationPeriodShape\":\"10000\",\"infectiousPeriodMeanSec\":\"432000\",\"infectiousPeriodShape\":\"3\",\"startTime\":\"2021-05-09T21:00:00Z\",\"endTime\":\"2021-06-10T09:00:00Z\",\"minimumAppVersion\":\"58\"}\n",
      "\n",
      "318: {\"name\":\"1.04-SIR-days5-seedHigh-(0.16,15)-repeat2\",\"seedingProbability\":\"0.4\",\"infectionProbabilityMapP\":\"0.16\",\"infectionProbabilityMapK\":\"15\",\"infectionProbabilityMapL\":\"1000000\",\"incubationPeriodMeanSec\":\"43200\",\"incubationPeriodShape\":\"10000\",\"infectiousPeriodMeanSec\":\"432000\",\"infectiousPeriodShape\":\"3\",\"startTime\":\"2021-05-09T21:00:00Z\",\"endTime\":\"2021-06-10T09:00:00Z\",\"minimumAppVersion\":\"58\"}\n",
      "\n",
      "319: {\"name\":\"1.04-SIR-days5-seedHigh-(0.16,15)-repeat3\",\"seedingProbability\":\"0.4\",\"infectionProbabilityMapP\":\"0.16\",\"infectionProbabilityMapK\":\"15\",\"infectionProbabilityMapL\":\"1000000\",\"incubationPeriodMeanSec\":\"43200\",\"incubationPeriodShape\":\"10000\",\"infectiousPeriodMeanSec\":\"432000\",\"infectiousPeriodShape\":\"3\",\"startTime\":\"2021-05-09T21:00:00Z\",\"endTime\":\"2021-06-10T09:00:00Z\",\"minimumAppVersion\":\"58\"}\n",
      "\n",
      "320: {\"name\":\"1.04-SIR-days5-seedHigh-(0.16,500)-repeat1\",\"seedingProbability\":\"0.4\",\"infectionProbabilityMapP\":\"0.16\",\"infectionProbabilityMapK\":\"500\",\"infectionProbabilityMapL\":\"1000000\",\"incubationPeriodMeanSec\":\"43200\",\"incubationPeriodShape\":\"10000\",\"infectiousPeriodMeanSec\":\"432000\",\"infectiousPeriodShape\":\"3\",\"startTime\":\"2021-05-09T21:00:00Z\",\"endTime\":\"2021-06-10T09:00:00Z\",\"minimumAppVersion\":\"58\"}\n",
      "\n",
      "321: {\"name\":\"1.04-SIR-days5-seedHigh-(0.16,500)-repeat2\",\"seedingProbability\":\"0.4\",\"infectionProbabilityMapP\":\"0.16\",\"infectionProbabilityMapK\":\"500\",\"infectionProbabilityMapL\":\"1000000\",\"incubationPeriodMeanSec\":\"43200\",\"incubationPeriodShape\":\"10000\",\"infectiousPeriodMeanSec\":\"432000\",\"infectiousPeriodShape\":\"3\",\"startTime\":\"2021-05-09T21:00:00Z\",\"endTime\":\"2021-06-10T09:00:00Z\",\"minimumAppVersion\":\"58\"}\n",
      "\n",
      "322: {\"name\":\"1.04-SIR-days5-seedHigh-(0.16,500)-repeat3\",\"seedingProbability\":\"0.4\",\"infectionProbabilityMapP\":\"0.16\",\"infectionProbabilityMapK\":\"500\",\"infectionProbabilityMapL\":\"1000000\",\"incubationPeriodMeanSec\":\"43200\",\"incubationPeriodShape\":\"10000\",\"infectiousPeriodMeanSec\":\"432000\",\"infectiousPeriodShape\":\"3\",\"startTime\":\"2021-05-09T21:00:00Z\",\"endTime\":\"2021-06-10T09:00:00Z\",\"minimumAppVersion\":\"58\"}\n",
      "\n",
      "323: {\"name\":\"1.04-SIR-days5-seedHigh-(0.48,5)-repeat1\",\"seedingProbability\":\"0.4\",\"infectionProbabilityMapP\":\"0.48\",\"infectionProbabilityMapK\":\"5\",\"infectionProbabilityMapL\":\"1000000\",\"incubationPeriodMeanSec\":\"43200\",\"incubationPeriodShape\":\"10000\",\"infectiousPeriodMeanSec\":\"432000\",\"infectiousPeriodShape\":\"3\",\"startTime\":\"2021-05-09T21:00:00Z\",\"endTime\":\"2021-06-10T09:00:00Z\",\"minimumAppVersion\":\"58\"}\n",
      "\n",
      "324: {\"name\":\"1.04-SIR-days5-seedHigh-(0.48,5)-repeat2\",\"seedingProbability\":\"0.4\",\"infectionProbabilityMapP\":\"0.48\",\"infectionProbabilityMapK\":\"5\",\"infectionProbabilityMapL\":\"1000000\",\"incubationPeriodMeanSec\":\"43200\",\"incubationPeriodShape\":\"10000\",\"infectiousPeriodMeanSec\":\"432000\",\"infectiousPeriodShape\":\"3\",\"startTime\":\"2021-05-09T21:00:00Z\",\"endTime\":\"2021-06-10T09:00:00Z\",\"minimumAppVersion\":\"58\"}\n",
      "\n",
      "325: {\"name\":\"1.04-SIR-days5-seedHigh-(0.48,5)-repeat3\",\"seedingProbability\":\"0.4\",\"infectionProbabilityMapP\":\"0.48\",\"infectionProbabilityMapK\":\"5\",\"infectionProbabilityMapL\":\"1000000\",\"incubationPeriodMeanSec\":\"43200\",\"incubationPeriodShape\":\"10000\",\"infectiousPeriodMeanSec\":\"432000\",\"infectiousPeriodShape\":\"3\",\"startTime\":\"2021-05-09T21:00:00Z\",\"endTime\":\"2021-06-10T09:00:00Z\",\"minimumAppVersion\":\"58\"}\n",
      "\n",
      "326: {\"name\":\"1.04-SIR-days5-seedHigh-(0.48,15)-repeat1\",\"seedingProbability\":\"0.4\",\"infectionProbabilityMapP\":\"0.48\",\"infectionProbabilityMapK\":\"15\",\"infectionProbabilityMapL\":\"1000000\",\"incubationPeriodMeanSec\":\"43200\",\"incubationPeriodShape\":\"10000\",\"infectiousPeriodMeanSec\":\"432000\",\"infectiousPeriodShape\":\"3\",\"startTime\":\"2021-05-09T21:00:00Z\",\"endTime\":\"2021-06-10T09:00:00Z\",\"minimumAppVersion\":\"58\"}\n"
     ]
    },
    {
     "name": "stdout",
     "output_type": "stream",
     "text": [
      "\n",
      "327: {\"name\":\"1.04-SIR-days5-seedHigh-(0.48,15)-repeat2\",\"seedingProbability\":\"0.4\",\"infectionProbabilityMapP\":\"0.48\",\"infectionProbabilityMapK\":\"15\",\"infectionProbabilityMapL\":\"1000000\",\"incubationPeriodMeanSec\":\"43200\",\"incubationPeriodShape\":\"10000\",\"infectiousPeriodMeanSec\":\"432000\",\"infectiousPeriodShape\":\"3\",\"startTime\":\"2021-05-09T21:00:00Z\",\"endTime\":\"2021-06-10T09:00:00Z\",\"minimumAppVersion\":\"58\"}\n",
      "\n",
      "328: {\"name\":\"1.04-SIR-days5-seedHigh-(0.48,15)-repeat3\",\"seedingProbability\":\"0.4\",\"infectionProbabilityMapP\":\"0.48\",\"infectionProbabilityMapK\":\"15\",\"infectionProbabilityMapL\":\"1000000\",\"incubationPeriodMeanSec\":\"43200\",\"incubationPeriodShape\":\"10000\",\"infectiousPeriodMeanSec\":\"432000\",\"infectiousPeriodShape\":\"3\",\"startTime\":\"2021-05-09T21:00:00Z\",\"endTime\":\"2021-06-10T09:00:00Z\",\"minimumAppVersion\":\"58\"}\n",
      "\n",
      "329: {\"name\":\"1.04-SIR-days5-seedHigh-(0.48,500)-repeat1\",\"seedingProbability\":\"0.4\",\"infectionProbabilityMapP\":\"0.48\",\"infectionProbabilityMapK\":\"500\",\"infectionProbabilityMapL\":\"1000000\",\"incubationPeriodMeanSec\":\"43200\",\"incubationPeriodShape\":\"10000\",\"infectiousPeriodMeanSec\":\"432000\",\"infectiousPeriodShape\":\"3\",\"startTime\":\"2021-05-09T21:00:00Z\",\"endTime\":\"2021-06-10T09:00:00Z\",\"minimumAppVersion\":\"58\"}\n",
      "\n",
      "330: {\"name\":\"1.04-SIR-days5-seedHigh-(0.48,500)-repeat2\",\"seedingProbability\":\"0.4\",\"infectionProbabilityMapP\":\"0.48\",\"infectionProbabilityMapK\":\"500\",\"infectionProbabilityMapL\":\"1000000\",\"incubationPeriodMeanSec\":\"43200\",\"incubationPeriodShape\":\"10000\",\"infectiousPeriodMeanSec\":\"432000\",\"infectiousPeriodShape\":\"3\",\"startTime\":\"2021-05-09T21:00:00Z\",\"endTime\":\"2021-06-10T09:00:00Z\",\"minimumAppVersion\":\"58\"}\n",
      "\n",
      "331: {\"name\":\"1.04-SIR-days5-seedHigh-(0.48,500)-repeat3\",\"seedingProbability\":\"0.4\",\"infectionProbabilityMapP\":\"0.48\",\"infectionProbabilityMapK\":\"500\",\"infectionProbabilityMapL\":\"1000000\",\"incubationPeriodMeanSec\":\"43200\",\"incubationPeriodShape\":\"10000\",\"infectiousPeriodMeanSec\":\"432000\",\"infectiousPeriodShape\":\"3\",\"startTime\":\"2021-05-09T21:00:00Z\",\"endTime\":\"2021-06-10T09:00:00Z\",\"minimumAppVersion\":\"58\"}\n",
      "\n",
      "332: {\"name\":\"1.04-SIR-days10-seedLow-(0.06,5)-repeat1\",\"seedingProbability\":\"0.2\",\"infectionProbabilityMapP\":\"0.06\",\"infectionProbabilityMapK\":\"5\",\"infectionProbabilityMapL\":\"1000000\",\"incubationPeriodMeanSec\":\"43200\",\"incubationPeriodShape\":\"10000\",\"infectiousPeriodMeanSec\":\"864000\",\"infectiousPeriodShape\":\"3\",\"startTime\":\"2021-05-09T21:00:00Z\",\"endTime\":\"2021-06-10T09:00:00Z\",\"minimumAppVersion\":\"58\"}\n",
      "\n",
      "333: {\"name\":\"1.04-SIR-days10-seedLow-(0.06,5)-repeat2\",\"seedingProbability\":\"0.2\",\"infectionProbabilityMapP\":\"0.06\",\"infectionProbabilityMapK\":\"5\",\"infectionProbabilityMapL\":\"1000000\",\"incubationPeriodMeanSec\":\"43200\",\"incubationPeriodShape\":\"10000\",\"infectiousPeriodMeanSec\":\"864000\",\"infectiousPeriodShape\":\"3\",\"startTime\":\"2021-05-09T21:00:00Z\",\"endTime\":\"2021-06-10T09:00:00Z\",\"minimumAppVersion\":\"58\"}\n",
      "\n",
      "334: {\"name\":\"1.04-SIR-days10-seedLow-(0.06,5)-repeat3\",\"seedingProbability\":\"0.2\",\"infectionProbabilityMapP\":\"0.06\",\"infectionProbabilityMapK\":\"5\",\"infectionProbabilityMapL\":\"1000000\",\"incubationPeriodMeanSec\":\"43200\",\"incubationPeriodShape\":\"10000\",\"infectiousPeriodMeanSec\":\"864000\",\"infectiousPeriodShape\":\"3\",\"startTime\":\"2021-05-09T21:00:00Z\",\"endTime\":\"2021-06-10T09:00:00Z\",\"minimumAppVersion\":\"58\"}\n",
      "\n",
      "335: {\"name\":\"1.04-SIR-days10-seedLow-(0.06,15)-repeat1\",\"seedingProbability\":\"0.2\",\"infectionProbabilityMapP\":\"0.06\",\"infectionProbabilityMapK\":\"15\",\"infectionProbabilityMapL\":\"1000000\",\"incubationPeriodMeanSec\":\"43200\",\"incubationPeriodShape\":\"10000\",\"infectiousPeriodMeanSec\":\"864000\",\"infectiousPeriodShape\":\"3\",\"startTime\":\"2021-05-09T21:00:00Z\",\"endTime\":\"2021-06-10T09:00:00Z\",\"minimumAppVersion\":\"58\"}\n",
      "\n",
      "336: {\"name\":\"1.04-SIR-days10-seedLow-(0.06,15)-repeat2\",\"seedingProbability\":\"0.2\",\"infectionProbabilityMapP\":\"0.06\",\"infectionProbabilityMapK\":\"15\",\"infectionProbabilityMapL\":\"1000000\",\"incubationPeriodMeanSec\":\"43200\",\"incubationPeriodShape\":\"10000\",\"infectiousPeriodMeanSec\":\"864000\",\"infectiousPeriodShape\":\"3\",\"startTime\":\"2021-05-09T21:00:00Z\",\"endTime\":\"2021-06-10T09:00:00Z\",\"minimumAppVersion\":\"58\"}\n",
      "\n",
      "337: {\"name\":\"1.04-SIR-days10-seedLow-(0.06,15)-repeat3\",\"seedingProbability\":\"0.2\",\"infectionProbabilityMapP\":\"0.06\",\"infectionProbabilityMapK\":\"15\",\"infectionProbabilityMapL\":\"1000000\",\"incubationPeriodMeanSec\":\"43200\",\"incubationPeriodShape\":\"10000\",\"infectiousPeriodMeanSec\":\"864000\",\"infectiousPeriodShape\":\"3\",\"startTime\":\"2021-05-09T21:00:00Z\",\"endTime\":\"2021-06-10T09:00:00Z\",\"minimumAppVersion\":\"58\"}\n",
      "\n",
      "338: {\"name\":\"1.04-SIR-days10-seedLow-(0.06,500)-repeat1\",\"seedingProbability\":\"0.2\",\"infectionProbabilityMapP\":\"0.06\",\"infectionProbabilityMapK\":\"500\",\"infectionProbabilityMapL\":\"1000000\",\"incubationPeriodMeanSec\":\"43200\",\"incubationPeriodShape\":\"10000\",\"infectiousPeriodMeanSec\":\"864000\",\"infectiousPeriodShape\":\"3\",\"startTime\":\"2021-05-09T21:00:00Z\",\"endTime\":\"2021-06-10T09:00:00Z\",\"minimumAppVersion\":\"58\"}\n",
      "\n",
      "339: {\"name\":\"1.04-SIR-days10-seedLow-(0.06,500)-repeat2\",\"seedingProbability\":\"0.2\",\"infectionProbabilityMapP\":\"0.06\",\"infectionProbabilityMapK\":\"500\",\"infectionProbabilityMapL\":\"1000000\",\"incubationPeriodMeanSec\":\"43200\",\"incubationPeriodShape\":\"10000\",\"infectiousPeriodMeanSec\":\"864000\",\"infectiousPeriodShape\":\"3\",\"startTime\":\"2021-05-09T21:00:00Z\",\"endTime\":\"2021-06-10T09:00:00Z\",\"minimumAppVersion\":\"58\"}\n",
      "\n",
      "340: {\"name\":\"1.04-SIR-days10-seedLow-(0.06,500)-repeat3\",\"seedingProbability\":\"0.2\",\"infectionProbabilityMapP\":\"0.06\",\"infectionProbabilityMapK\":\"500\",\"infectionProbabilityMapL\":\"1000000\",\"incubationPeriodMeanSec\":\"43200\",\"incubationPeriodShape\":\"10000\",\"infectiousPeriodMeanSec\":\"864000\",\"infectiousPeriodShape\":\"3\",\"startTime\":\"2021-05-09T21:00:00Z\",\"endTime\":\"2021-06-10T09:00:00Z\",\"minimumAppVersion\":\"58\"}\n",
      "\n",
      "341: {\"name\":\"1.04-SIR-days10-seedLow-(0.16,5)-repeat1\",\"seedingProbability\":\"0.2\",\"infectionProbabilityMapP\":\"0.16\",\"infectionProbabilityMapK\":\"5\",\"infectionProbabilityMapL\":\"1000000\",\"incubationPeriodMeanSec\":\"43200\",\"incubationPeriodShape\":\"10000\",\"infectiousPeriodMeanSec\":\"864000\",\"infectiousPeriodShape\":\"3\",\"startTime\":\"2021-05-09T21:00:00Z\",\"endTime\":\"2021-06-10T09:00:00Z\",\"minimumAppVersion\":\"58\"}\n",
      "\n",
      "342: {\"name\":\"1.04-SIR-days10-seedLow-(0.16,5)-repeat2\",\"seedingProbability\":\"0.2\",\"infectionProbabilityMapP\":\"0.16\",\"infectionProbabilityMapK\":\"5\",\"infectionProbabilityMapL\":\"1000000\",\"incubationPeriodMeanSec\":\"43200\",\"incubationPeriodShape\":\"10000\",\"infectiousPeriodMeanSec\":\"864000\",\"infectiousPeriodShape\":\"3\",\"startTime\":\"2021-05-09T21:00:00Z\",\"endTime\":\"2021-06-10T09:00:00Z\",\"minimumAppVersion\":\"58\"}\n",
      "\n",
      "343: {\"name\":\"1.04-SIR-days10-seedLow-(0.16,5)-repeat3\",\"seedingProbability\":\"0.2\",\"infectionProbabilityMapP\":\"0.16\",\"infectionProbabilityMapK\":\"5\",\"infectionProbabilityMapL\":\"1000000\",\"incubationPeriodMeanSec\":\"43200\",\"incubationPeriodShape\":\"10000\",\"infectiousPeriodMeanSec\":\"864000\",\"infectiousPeriodShape\":\"3\",\"startTime\":\"2021-05-09T21:00:00Z\",\"endTime\":\"2021-06-10T09:00:00Z\",\"minimumAppVersion\":\"58\"}\n",
      "\n",
      "344: {\"name\":\"1.04-SIR-days10-seedLow-(0.16,15)-repeat1\",\"seedingProbability\":\"0.2\",\"infectionProbabilityMapP\":\"0.16\",\"infectionProbabilityMapK\":\"15\",\"infectionProbabilityMapL\":\"1000000\",\"incubationPeriodMeanSec\":\"43200\",\"incubationPeriodShape\":\"10000\",\"infectiousPeriodMeanSec\":\"864000\",\"infectiousPeriodShape\":\"3\",\"startTime\":\"2021-05-09T21:00:00Z\",\"endTime\":\"2021-06-10T09:00:00Z\",\"minimumAppVersion\":\"58\"}\n",
      "\n",
      "345: {\"name\":\"1.04-SIR-days10-seedLow-(0.16,15)-repeat2\",\"seedingProbability\":\"0.2\",\"infectionProbabilityMapP\":\"0.16\",\"infectionProbabilityMapK\":\"15\",\"infectionProbabilityMapL\":\"1000000\",\"incubationPeriodMeanSec\":\"43200\",\"incubationPeriodShape\":\"10000\",\"infectiousPeriodMeanSec\":\"864000\",\"infectiousPeriodShape\":\"3\",\"startTime\":\"2021-05-09T21:00:00Z\",\"endTime\":\"2021-06-10T09:00:00Z\",\"minimumAppVersion\":\"58\"}\n",
      "\n",
      "346: {\"name\":\"1.04-SIR-days10-seedLow-(0.16,15)-repeat3\",\"seedingProbability\":\"0.2\",\"infectionProbabilityMapP\":\"0.16\",\"infectionProbabilityMapK\":\"15\",\"infectionProbabilityMapL\":\"1000000\",\"incubationPeriodMeanSec\":\"43200\",\"incubationPeriodShape\":\"10000\",\"infectiousPeriodMeanSec\":\"864000\",\"infectiousPeriodShape\":\"3\",\"startTime\":\"2021-05-09T21:00:00Z\",\"endTime\":\"2021-06-10T09:00:00Z\",\"minimumAppVersion\":\"58\"}\n",
      "\n",
      "347: {\"name\":\"1.04-SIR-days10-seedLow-(0.16,500)-repeat1\",\"seedingProbability\":\"0.2\",\"infectionProbabilityMapP\":\"0.16\",\"infectionProbabilityMapK\":\"500\",\"infectionProbabilityMapL\":\"1000000\",\"incubationPeriodMeanSec\":\"43200\",\"incubationPeriodShape\":\"10000\",\"infectiousPeriodMeanSec\":\"864000\",\"infectiousPeriodShape\":\"3\",\"startTime\":\"2021-05-09T21:00:00Z\",\"endTime\":\"2021-06-10T09:00:00Z\",\"minimumAppVersion\":\"58\"}\n",
      "\n",
      "348: {\"name\":\"1.04-SIR-days10-seedLow-(0.16,500)-repeat2\",\"seedingProbability\":\"0.2\",\"infectionProbabilityMapP\":\"0.16\",\"infectionProbabilityMapK\":\"500\",\"infectionProbabilityMapL\":\"1000000\",\"incubationPeriodMeanSec\":\"43200\",\"incubationPeriodShape\":\"10000\",\"infectiousPeriodMeanSec\":\"864000\",\"infectiousPeriodShape\":\"3\",\"startTime\":\"2021-05-09T21:00:00Z\",\"endTime\":\"2021-06-10T09:00:00Z\",\"minimumAppVersion\":\"58\"}\n",
      "\n",
      "349: {\"name\":\"1.04-SIR-days10-seedLow-(0.16,500)-repeat3\",\"seedingProbability\":\"0.2\",\"infectionProbabilityMapP\":\"0.16\",\"infectionProbabilityMapK\":\"500\",\"infectionProbabilityMapL\":\"1000000\",\"incubationPeriodMeanSec\":\"43200\",\"incubationPeriodShape\":\"10000\",\"infectiousPeriodMeanSec\":\"864000\",\"infectiousPeriodShape\":\"3\",\"startTime\":\"2021-05-09T21:00:00Z\",\"endTime\":\"2021-06-10T09:00:00Z\",\"minimumAppVersion\":\"58\"}\n",
      "\n",
      "350: {\"name\":\"1.04-SIR-days10-seedLow-(0.48,5)-repeat1\",\"seedingProbability\":\"0.2\",\"infectionProbabilityMapP\":\"0.48\",\"infectionProbabilityMapK\":\"5\",\"infectionProbabilityMapL\":\"1000000\",\"incubationPeriodMeanSec\":\"43200\",\"incubationPeriodShape\":\"10000\",\"infectiousPeriodMeanSec\":\"864000\",\"infectiousPeriodShape\":\"3\",\"startTime\":\"2021-05-09T21:00:00Z\",\"endTime\":\"2021-06-10T09:00:00Z\",\"minimumAppVersion\":\"58\"}\n",
      "\n"
     ]
    },
    {
     "name": "stdout",
     "output_type": "stream",
     "text": [
      "351: {\"name\":\"1.04-SIR-days10-seedLow-(0.48,5)-repeat2\",\"seedingProbability\":\"0.2\",\"infectionProbabilityMapP\":\"0.48\",\"infectionProbabilityMapK\":\"5\",\"infectionProbabilityMapL\":\"1000000\",\"incubationPeriodMeanSec\":\"43200\",\"incubationPeriodShape\":\"10000\",\"infectiousPeriodMeanSec\":\"864000\",\"infectiousPeriodShape\":\"3\",\"startTime\":\"2021-05-09T21:00:00Z\",\"endTime\":\"2021-06-10T09:00:00Z\",\"minimumAppVersion\":\"58\"}\n",
      "\n",
      "352: {\"name\":\"1.04-SIR-days10-seedLow-(0.48,5)-repeat3\",\"seedingProbability\":\"0.2\",\"infectionProbabilityMapP\":\"0.48\",\"infectionProbabilityMapK\":\"5\",\"infectionProbabilityMapL\":\"1000000\",\"incubationPeriodMeanSec\":\"43200\",\"incubationPeriodShape\":\"10000\",\"infectiousPeriodMeanSec\":\"864000\",\"infectiousPeriodShape\":\"3\",\"startTime\":\"2021-05-09T21:00:00Z\",\"endTime\":\"2021-06-10T09:00:00Z\",\"minimumAppVersion\":\"58\"}\n",
      "\n",
      "353: {\"name\":\"1.04-SIR-days10-seedLow-(0.48,15)-repeat1\",\"seedingProbability\":\"0.2\",\"infectionProbabilityMapP\":\"0.48\",\"infectionProbabilityMapK\":\"15\",\"infectionProbabilityMapL\":\"1000000\",\"incubationPeriodMeanSec\":\"43200\",\"incubationPeriodShape\":\"10000\",\"infectiousPeriodMeanSec\":\"864000\",\"infectiousPeriodShape\":\"3\",\"startTime\":\"2021-05-09T21:00:00Z\",\"endTime\":\"2021-06-10T09:00:00Z\",\"minimumAppVersion\":\"58\"}\n",
      "\n",
      "354: {\"name\":\"1.04-SIR-days10-seedLow-(0.48,15)-repeat2\",\"seedingProbability\":\"0.2\",\"infectionProbabilityMapP\":\"0.48\",\"infectionProbabilityMapK\":\"15\",\"infectionProbabilityMapL\":\"1000000\",\"incubationPeriodMeanSec\":\"43200\",\"incubationPeriodShape\":\"10000\",\"infectiousPeriodMeanSec\":\"864000\",\"infectiousPeriodShape\":\"3\",\"startTime\":\"2021-05-09T21:00:00Z\",\"endTime\":\"2021-06-10T09:00:00Z\",\"minimumAppVersion\":\"58\"}\n",
      "\n",
      "355: {\"name\":\"1.04-SIR-days10-seedLow-(0.48,15)-repeat3\",\"seedingProbability\":\"0.2\",\"infectionProbabilityMapP\":\"0.48\",\"infectionProbabilityMapK\":\"15\",\"infectionProbabilityMapL\":\"1000000\",\"incubationPeriodMeanSec\":\"43200\",\"incubationPeriodShape\":\"10000\",\"infectiousPeriodMeanSec\":\"864000\",\"infectiousPeriodShape\":\"3\",\"startTime\":\"2021-05-09T21:00:00Z\",\"endTime\":\"2021-06-10T09:00:00Z\",\"minimumAppVersion\":\"58\"}\n",
      "\n",
      "356: {\"name\":\"1.04-SIR-days10-seedLow-(0.48,500)-repeat1\",\"seedingProbability\":\"0.2\",\"infectionProbabilityMapP\":\"0.48\",\"infectionProbabilityMapK\":\"500\",\"infectionProbabilityMapL\":\"1000000\",\"incubationPeriodMeanSec\":\"43200\",\"incubationPeriodShape\":\"10000\",\"infectiousPeriodMeanSec\":\"864000\",\"infectiousPeriodShape\":\"3\",\"startTime\":\"2021-05-09T21:00:00Z\",\"endTime\":\"2021-06-10T09:00:00Z\",\"minimumAppVersion\":\"58\"}\n",
      "\n",
      "357: {\"name\":\"1.04-SIR-days10-seedLow-(0.48,500)-repeat2\",\"seedingProbability\":\"0.2\",\"infectionProbabilityMapP\":\"0.48\",\"infectionProbabilityMapK\":\"500\",\"infectionProbabilityMapL\":\"1000000\",\"incubationPeriodMeanSec\":\"43200\",\"incubationPeriodShape\":\"10000\",\"infectiousPeriodMeanSec\":\"864000\",\"infectiousPeriodShape\":\"3\",\"startTime\":\"2021-05-09T21:00:00Z\",\"endTime\":\"2021-06-10T09:00:00Z\",\"minimumAppVersion\":\"58\"}\n",
      "\n",
      "358: {\"name\":\"1.04-SIR-days10-seedLow-(0.48,500)-repeat3\",\"seedingProbability\":\"0.2\",\"infectionProbabilityMapP\":\"0.48\",\"infectionProbabilityMapK\":\"500\",\"infectionProbabilityMapL\":\"1000000\",\"incubationPeriodMeanSec\":\"43200\",\"incubationPeriodShape\":\"10000\",\"infectiousPeriodMeanSec\":\"864000\",\"infectiousPeriodShape\":\"3\",\"startTime\":\"2021-05-09T21:00:00Z\",\"endTime\":\"2021-06-10T09:00:00Z\",\"minimumAppVersion\":\"58\"}\n",
      "\n",
      "359: {\"name\":\"1.04-SIR-days10-seedHigh-(0.06,5)-repeat1\",\"seedingProbability\":\"0.4\",\"infectionProbabilityMapP\":\"0.06\",\"infectionProbabilityMapK\":\"5\",\"infectionProbabilityMapL\":\"1000000\",\"incubationPeriodMeanSec\":\"43200\",\"incubationPeriodShape\":\"10000\",\"infectiousPeriodMeanSec\":\"864000\",\"infectiousPeriodShape\":\"3\",\"startTime\":\"2021-05-09T21:00:00Z\",\"endTime\":\"2021-06-10T09:00:00Z\",\"minimumAppVersion\":\"58\"}\n",
      "\n",
      "360: {\"name\":\"1.04-SIR-days10-seedHigh-(0.06,5)-repeat2\",\"seedingProbability\":\"0.4\",\"infectionProbabilityMapP\":\"0.06\",\"infectionProbabilityMapK\":\"5\",\"infectionProbabilityMapL\":\"1000000\",\"incubationPeriodMeanSec\":\"43200\",\"incubationPeriodShape\":\"10000\",\"infectiousPeriodMeanSec\":\"864000\",\"infectiousPeriodShape\":\"3\",\"startTime\":\"2021-05-09T21:00:00Z\",\"endTime\":\"2021-06-10T09:00:00Z\",\"minimumAppVersion\":\"58\"}\n",
      "\n",
      "361: {\"name\":\"1.04-SIR-days10-seedHigh-(0.06,5)-repeat3\",\"seedingProbability\":\"0.4\",\"infectionProbabilityMapP\":\"0.06\",\"infectionProbabilityMapK\":\"5\",\"infectionProbabilityMapL\":\"1000000\",\"incubationPeriodMeanSec\":\"43200\",\"incubationPeriodShape\":\"10000\",\"infectiousPeriodMeanSec\":\"864000\",\"infectiousPeriodShape\":\"3\",\"startTime\":\"2021-05-09T21:00:00Z\",\"endTime\":\"2021-06-10T09:00:00Z\",\"minimumAppVersion\":\"58\"}\n",
      "\n",
      "362: {\"name\":\"1.04-SIR-days10-seedHigh-(0.06,15)-repeat1\",\"seedingProbability\":\"0.4\",\"infectionProbabilityMapP\":\"0.06\",\"infectionProbabilityMapK\":\"15\",\"infectionProbabilityMapL\":\"1000000\",\"incubationPeriodMeanSec\":\"43200\",\"incubationPeriodShape\":\"10000\",\"infectiousPeriodMeanSec\":\"864000\",\"infectiousPeriodShape\":\"3\",\"startTime\":\"2021-05-09T21:00:00Z\",\"endTime\":\"2021-06-10T09:00:00Z\",\"minimumAppVersion\":\"58\"}\n",
      "\n",
      "363: {\"name\":\"1.04-SIR-days10-seedHigh-(0.06,15)-repeat2\",\"seedingProbability\":\"0.4\",\"infectionProbabilityMapP\":\"0.06\",\"infectionProbabilityMapK\":\"15\",\"infectionProbabilityMapL\":\"1000000\",\"incubationPeriodMeanSec\":\"43200\",\"incubationPeriodShape\":\"10000\",\"infectiousPeriodMeanSec\":\"864000\",\"infectiousPeriodShape\":\"3\",\"startTime\":\"2021-05-09T21:00:00Z\",\"endTime\":\"2021-06-10T09:00:00Z\",\"minimumAppVersion\":\"58\"}\n",
      "\n",
      "364: {\"name\":\"1.04-SIR-days10-seedHigh-(0.06,15)-repeat3\",\"seedingProbability\":\"0.4\",\"infectionProbabilityMapP\":\"0.06\",\"infectionProbabilityMapK\":\"15\",\"infectionProbabilityMapL\":\"1000000\",\"incubationPeriodMeanSec\":\"43200\",\"incubationPeriodShape\":\"10000\",\"infectiousPeriodMeanSec\":\"864000\",\"infectiousPeriodShape\":\"3\",\"startTime\":\"2021-05-09T21:00:00Z\",\"endTime\":\"2021-06-10T09:00:00Z\",\"minimumAppVersion\":\"58\"}\n",
      "\n",
      "365: {\"name\":\"1.04-SIR-days10-seedHigh-(0.06,500)-repeat1\",\"seedingProbability\":\"0.4\",\"infectionProbabilityMapP\":\"0.06\",\"infectionProbabilityMapK\":\"500\",\"infectionProbabilityMapL\":\"1000000\",\"incubationPeriodMeanSec\":\"43200\",\"incubationPeriodShape\":\"10000\",\"infectiousPeriodMeanSec\":\"864000\",\"infectiousPeriodShape\":\"3\",\"startTime\":\"2021-05-09T21:00:00Z\",\"endTime\":\"2021-06-10T09:00:00Z\",\"minimumAppVersion\":\"58\"}\n",
      "\n",
      "366: {\"name\":\"1.04-SIR-days10-seedHigh-(0.06,500)-repeat2\",\"seedingProbability\":\"0.4\",\"infectionProbabilityMapP\":\"0.06\",\"infectionProbabilityMapK\":\"500\",\"infectionProbabilityMapL\":\"1000000\",\"incubationPeriodMeanSec\":\"43200\",\"incubationPeriodShape\":\"10000\",\"infectiousPeriodMeanSec\":\"864000\",\"infectiousPeriodShape\":\"3\",\"startTime\":\"2021-05-09T21:00:00Z\",\"endTime\":\"2021-06-10T09:00:00Z\",\"minimumAppVersion\":\"58\"}\n",
      "\n",
      "367: {\"name\":\"1.04-SIR-days10-seedHigh-(0.06,500)-repeat3\",\"seedingProbability\":\"0.4\",\"infectionProbabilityMapP\":\"0.06\",\"infectionProbabilityMapK\":\"500\",\"infectionProbabilityMapL\":\"1000000\",\"incubationPeriodMeanSec\":\"43200\",\"incubationPeriodShape\":\"10000\",\"infectiousPeriodMeanSec\":\"864000\",\"infectiousPeriodShape\":\"3\",\"startTime\":\"2021-05-09T21:00:00Z\",\"endTime\":\"2021-06-10T09:00:00Z\",\"minimumAppVersion\":\"58\"}\n",
      "\n",
      "368: {\"name\":\"1.04-SIR-days10-seedHigh-(0.16,5)-repeat1\",\"seedingProbability\":\"0.4\",\"infectionProbabilityMapP\":\"0.16\",\"infectionProbabilityMapK\":\"5\",\"infectionProbabilityMapL\":\"1000000\",\"incubationPeriodMeanSec\":\"43200\",\"incubationPeriodShape\":\"10000\",\"infectiousPeriodMeanSec\":\"864000\",\"infectiousPeriodShape\":\"3\",\"startTime\":\"2021-05-09T21:00:00Z\",\"endTime\":\"2021-06-10T09:00:00Z\",\"minimumAppVersion\":\"58\"}\n",
      "\n",
      "369: {\"name\":\"1.04-SIR-days10-seedHigh-(0.16,5)-repeat2\",\"seedingProbability\":\"0.4\",\"infectionProbabilityMapP\":\"0.16\",\"infectionProbabilityMapK\":\"5\",\"infectionProbabilityMapL\":\"1000000\",\"incubationPeriodMeanSec\":\"43200\",\"incubationPeriodShape\":\"10000\",\"infectiousPeriodMeanSec\":\"864000\",\"infectiousPeriodShape\":\"3\",\"startTime\":\"2021-05-09T21:00:00Z\",\"endTime\":\"2021-06-10T09:00:00Z\",\"minimumAppVersion\":\"58\"}\n",
      "\n",
      "370: {\"name\":\"1.04-SIR-days10-seedHigh-(0.16,5)-repeat3\",\"seedingProbability\":\"0.4\",\"infectionProbabilityMapP\":\"0.16\",\"infectionProbabilityMapK\":\"5\",\"infectionProbabilityMapL\":\"1000000\",\"incubationPeriodMeanSec\":\"43200\",\"incubationPeriodShape\":\"10000\",\"infectiousPeriodMeanSec\":\"864000\",\"infectiousPeriodShape\":\"3\",\"startTime\":\"2021-05-09T21:00:00Z\",\"endTime\":\"2021-06-10T09:00:00Z\",\"minimumAppVersion\":\"58\"}\n",
      "\n",
      "371: {\"name\":\"1.04-SIR-days10-seedHigh-(0.16,15)-repeat1\",\"seedingProbability\":\"0.4\",\"infectionProbabilityMapP\":\"0.16\",\"infectionProbabilityMapK\":\"15\",\"infectionProbabilityMapL\":\"1000000\",\"incubationPeriodMeanSec\":\"43200\",\"incubationPeriodShape\":\"10000\",\"infectiousPeriodMeanSec\":\"864000\",\"infectiousPeriodShape\":\"3\",\"startTime\":\"2021-05-09T21:00:00Z\",\"endTime\":\"2021-06-10T09:00:00Z\",\"minimumAppVersion\":\"58\"}\n",
      "\n",
      "372: {\"name\":\"1.04-SIR-days10-seedHigh-(0.16,15)-repeat2\",\"seedingProbability\":\"0.4\",\"infectionProbabilityMapP\":\"0.16\",\"infectionProbabilityMapK\":\"15\",\"infectionProbabilityMapL\":\"1000000\",\"incubationPeriodMeanSec\":\"43200\",\"incubationPeriodShape\":\"10000\",\"infectiousPeriodMeanSec\":\"864000\",\"infectiousPeriodShape\":\"3\",\"startTime\":\"2021-05-09T21:00:00Z\",\"endTime\":\"2021-06-10T09:00:00Z\",\"minimumAppVersion\":\"58\"}\n",
      "\n",
      "373: {\"name\":\"1.04-SIR-days10-seedHigh-(0.16,15)-repeat3\",\"seedingProbability\":\"0.4\",\"infectionProbabilityMapP\":\"0.16\",\"infectionProbabilityMapK\":\"15\",\"infectionProbabilityMapL\":\"1000000\",\"incubationPeriodMeanSec\":\"43200\",\"incubationPeriodShape\":\"10000\",\"infectiousPeriodMeanSec\":\"864000\",\"infectiousPeriodShape\":\"3\",\"startTime\":\"2021-05-09T21:00:00Z\",\"endTime\":\"2021-06-10T09:00:00Z\",\"minimumAppVersion\":\"58\"}\n",
      "\n",
      "374: {\"name\":\"1.04-SIR-days10-seedHigh-(0.16,500)-repeat1\",\"seedingProbability\":\"0.4\",\"infectionProbabilityMapP\":\"0.16\",\"infectionProbabilityMapK\":\"500\",\"infectionProbabilityMapL\":\"1000000\",\"incubationPeriodMeanSec\":\"43200\",\"incubationPeriodShape\":\"10000\",\"infectiousPeriodMeanSec\":\"864000\",\"infectiousPeriodShape\":\"3\",\"startTime\":\"2021-05-09T21:00:00Z\",\"endTime\":\"2021-06-10T09:00:00Z\",\"minimumAppVersion\":\"58\"}\n",
      "\n",
      "375: {\"name\":\"1.04-SIR-days10-seedHigh-(0.16,500)-repeat2\",\"seedingProbability\":\"0.4\",\"infectionProbabilityMapP\":\"0.16\",\"infectionProbabilityMapK\":\"500\",\"infectionProbabilityMapL\":\"1000000\",\"incubationPeriodMeanSec\":\"43200\",\"incubationPeriodShape\":\"10000\",\"infectiousPeriodMeanSec\":\"864000\",\"infectiousPeriodShape\":\"3\",\"startTime\":\"2021-05-09T21:00:00Z\",\"endTime\":\"2021-06-10T09:00:00Z\",\"minimumAppVersion\":\"58\"}\n",
      "\n",
      "376: {\"name\":\"1.04-SIR-days10-seedHigh-(0.16,500)-repeat3\",\"seedingProbability\":\"0.4\",\"infectionProbabilityMapP\":\"0.16\",\"infectionProbabilityMapK\":\"500\",\"infectionProbabilityMapL\":\"1000000\",\"incubationPeriodMeanSec\":\"43200\",\"incubationPeriodShape\":\"10000\",\"infectiousPeriodMeanSec\":\"864000\",\"infectiousPeriodShape\":\"3\",\"startTime\":\"2021-05-09T21:00:00Z\",\"endTime\":\"2021-06-10T09:00:00Z\",\"minimumAppVersion\":\"58\"}\n"
     ]
    },
    {
     "name": "stdout",
     "output_type": "stream",
     "text": [
      "\n",
      "377: {\"name\":\"1.04-SIR-days10-seedHigh-(0.48,5)-repeat1\",\"seedingProbability\":\"0.4\",\"infectionProbabilityMapP\":\"0.48\",\"infectionProbabilityMapK\":\"5\",\"infectionProbabilityMapL\":\"1000000\",\"incubationPeriodMeanSec\":\"43200\",\"incubationPeriodShape\":\"10000\",\"infectiousPeriodMeanSec\":\"864000\",\"infectiousPeriodShape\":\"3\",\"startTime\":\"2021-05-09T21:00:00Z\",\"endTime\":\"2021-06-10T09:00:00Z\",\"minimumAppVersion\":\"58\"}\n",
      "\n",
      "378: {\"name\":\"1.04-SIR-days10-seedHigh-(0.48,5)-repeat2\",\"seedingProbability\":\"0.4\",\"infectionProbabilityMapP\":\"0.48\",\"infectionProbabilityMapK\":\"5\",\"infectionProbabilityMapL\":\"1000000\",\"incubationPeriodMeanSec\":\"43200\",\"incubationPeriodShape\":\"10000\",\"infectiousPeriodMeanSec\":\"864000\",\"infectiousPeriodShape\":\"3\",\"startTime\":\"2021-05-09T21:00:00Z\",\"endTime\":\"2021-06-10T09:00:00Z\",\"minimumAppVersion\":\"58\"}\n",
      "\n",
      "379: {\"name\":\"1.04-SIR-days10-seedHigh-(0.48,5)-repeat3\",\"seedingProbability\":\"0.4\",\"infectionProbabilityMapP\":\"0.48\",\"infectionProbabilityMapK\":\"5\",\"infectionProbabilityMapL\":\"1000000\",\"incubationPeriodMeanSec\":\"43200\",\"incubationPeriodShape\":\"10000\",\"infectiousPeriodMeanSec\":\"864000\",\"infectiousPeriodShape\":\"3\",\"startTime\":\"2021-05-09T21:00:00Z\",\"endTime\":\"2021-06-10T09:00:00Z\",\"minimumAppVersion\":\"58\"}\n",
      "\n",
      "380: {\"name\":\"1.04-SIR-days10-seedHigh-(0.48,15)-repeat1\",\"seedingProbability\":\"0.4\",\"infectionProbabilityMapP\":\"0.48\",\"infectionProbabilityMapK\":\"15\",\"infectionProbabilityMapL\":\"1000000\",\"incubationPeriodMeanSec\":\"43200\",\"incubationPeriodShape\":\"10000\",\"infectiousPeriodMeanSec\":\"864000\",\"infectiousPeriodShape\":\"3\",\"startTime\":\"2021-05-09T21:00:00Z\",\"endTime\":\"2021-06-10T09:00:00Z\",\"minimumAppVersion\":\"58\"}\n",
      "\n",
      "381: {\"name\":\"1.04-SIR-days10-seedHigh-(0.48,15)-repeat2\",\"seedingProbability\":\"0.4\",\"infectionProbabilityMapP\":\"0.48\",\"infectionProbabilityMapK\":\"15\",\"infectionProbabilityMapL\":\"1000000\",\"incubationPeriodMeanSec\":\"43200\",\"incubationPeriodShape\":\"10000\",\"infectiousPeriodMeanSec\":\"864000\",\"infectiousPeriodShape\":\"3\",\"startTime\":\"2021-05-09T21:00:00Z\",\"endTime\":\"2021-06-10T09:00:00Z\",\"minimumAppVersion\":\"58\"}\n",
      "\n",
      "382: {\"name\":\"1.04-SIR-days10-seedHigh-(0.48,15)-repeat3\",\"seedingProbability\":\"0.4\",\"infectionProbabilityMapP\":\"0.48\",\"infectionProbabilityMapK\":\"15\",\"infectionProbabilityMapL\":\"1000000\",\"incubationPeriodMeanSec\":\"43200\",\"incubationPeriodShape\":\"10000\",\"infectiousPeriodMeanSec\":\"864000\",\"infectiousPeriodShape\":\"3\",\"startTime\":\"2021-05-09T21:00:00Z\",\"endTime\":\"2021-06-10T09:00:00Z\",\"minimumAppVersion\":\"58\"}\n",
      "\n",
      "383: {\"name\":\"1.04-SIR-days10-seedHigh-(0.48,500)-repeat1\",\"seedingProbability\":\"0.4\",\"infectionProbabilityMapP\":\"0.48\",\"infectionProbabilityMapK\":\"500\",\"infectionProbabilityMapL\":\"1000000\",\"incubationPeriodMeanSec\":\"43200\",\"incubationPeriodShape\":\"10000\",\"infectiousPeriodMeanSec\":\"864000\",\"infectiousPeriodShape\":\"3\",\"startTime\":\"2021-05-09T21:00:00Z\",\"endTime\":\"2021-06-10T09:00:00Z\",\"minimumAppVersion\":\"58\"}\n",
      "\n",
      "384: {\"name\":\"1.04-SIR-days10-seedHigh-(0.48,500)-repeat2\",\"seedingProbability\":\"0.4\",\"infectionProbabilityMapP\":\"0.48\",\"infectionProbabilityMapK\":\"500\",\"infectionProbabilityMapL\":\"1000000\",\"incubationPeriodMeanSec\":\"43200\",\"incubationPeriodShape\":\"10000\",\"infectiousPeriodMeanSec\":\"864000\",\"infectiousPeriodShape\":\"3\",\"startTime\":\"2021-05-09T21:00:00Z\",\"endTime\":\"2021-06-10T09:00:00Z\",\"minimumAppVersion\":\"58\"}\n",
      "\n",
      "385: {\"name\":\"1.04-SIR-days10-seedHigh-(0.48,500)-repeat3\",\"seedingProbability\":\"0.4\",\"infectionProbabilityMapP\":\"0.48\",\"infectionProbabilityMapK\":\"500\",\"infectionProbabilityMapL\":\"1000000\",\"incubationPeriodMeanSec\":\"43200\",\"incubationPeriodShape\":\"10000\",\"infectiousPeriodMeanSec\":\"864000\",\"infectiousPeriodShape\":\"3\",\"startTime\":\"2021-05-09T21:00:00Z\",\"endTime\":\"2021-06-10T09:00:00Z\",\"minimumAppVersion\":\"58\"}\n",
      "\n"
     ]
    }
   ],
   "source": [
    "function strandJSON(sd::Dict{Symbol,String})\n",
    "    str = \"\"\"\n",
    "        {\\\"name\\\":\\\"$(sd[:name])\\\",\n",
    "         \\\"seedingProbability\\\":\\\"$(sd[:seedingProbability])\\\",\n",
    "         \\\"infectionProbabilityMapP\\\":\\\"$(sd[:strength])\\\",\n",
    "         \\\"infectionProbabilityMapK\\\":\\\"$(sd[:radius])\\\",\n",
    "         \\\"infectionProbabilityMapL\\\":\\\"1000000\\\",\n",
    "         \\\"incubationPeriodMeanSec\\\":\\\"$(sd[:incubationMean])\\\",\n",
    "         \\\"incubationPeriodShape\\\":\\\"$(sd[:incubationShape])\\\",\n",
    "         \\\"infectiousPeriodMeanSec\\\":\\\"$(sd[:infectionMean])\\\",\n",
    "         \\\"infectiousPeriodShape\\\":\\\"$(sd[:infectiousPeriodShape])\\\",\n",
    "         \\\"startTime\\\":\\\"$(sd[:seedTime])\\\",\n",
    "         \\\"endTime\\\":\\\"$(sd[:endTime])\\\",\n",
    "         \\\"minimumAppVersion\\\":\\\"$(sd[:minimumAppVersion])\\\"}\n",
    "    \"\"\"\n",
    "    join(map(x -> isspace(str[x]) ? \"\" : str[x], 1:length(str))) #how the $%@$% to remove white space in Julia strings?\n",
    "end\n",
    "\n",
    "strandStrings = strandJSON.(strands)\n",
    "\n",
    "newID = 223 #last strand in system\n",
    "for s in strandStrings\n",
    "    newID +=1\n",
    "    println(newID,\": \", s,\"\\n\")\n",
    "end"
   ]
  },
  {
   "cell_type": "code",
   "execution_count": null,
   "metadata": {},
   "outputs": [],
   "source": []
  }
 ],
 "metadata": {
  "kernelspec": {
   "display_name": "Julia 1.6.0",
   "language": "julia",
   "name": "julia-1.6"
  },
  "language_info": {
   "file_extension": ".jl",
   "mimetype": "application/julia",
   "name": "julia",
   "version": "1.6.0"
  }
 },
 "nbformat": 4,
 "nbformat_minor": 4
}
