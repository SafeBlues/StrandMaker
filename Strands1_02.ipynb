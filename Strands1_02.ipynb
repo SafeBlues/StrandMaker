{
 "cells": [
  {
   "cell_type": "markdown",
   "metadata": {},
   "source": [
    "# Strands for Phase 1, release 0.03 (1.03)\n",
    "12 strands in total"
   ]
  },
  {
   "cell_type": "markdown",
   "metadata": {},
   "source": [
    "Note that release 0.02 was simply one strand\n",
    "\n",
    "`\n",
    "{\n",
    "   \"name\": \"version-updater-to-59\",\n",
    "   \"strandId\": \"213\",\n",
    "   \"seedingProbability\": 0.5,\n",
    "   \"infectionProbabilityMapP\": 0.48,\n",
    "   \"infectionProbabilityMapK\": 500,\n",
    "   \"infectionProbabilityMapL\": 1000000,\n",
    "   \"incubationPeriodMeanSec\": 1,\n",
    "   \"incubationPeriodShape\": 10000,\n",
    "   \"infectiousPeriodMeanSec\": 3456000,\n",
    "   \"infectiousPeriodShape\": 10000,\n",
    "   \"minimumAppVersion\": 59,\n",
    "   \"startTime\": \"2021-05-04T21:00:00Z\",\n",
    "   \"endTime\": \"2021-05-10T09:00:00Z\"\n",
    "  }\n",
    "  `"
   ]
  },
  {
   "cell_type": "code",
   "execution_count": 52,
   "metadata": {},
   "outputs": [],
   "source": [
    "#fixed strength and radius and num repeat configurations\n",
    "strengthArray = [0.16,0.48]\n",
    "radiusArray = [500]\n",
    "numRepeats = 5;"
   ]
  },
  {
   "cell_type": "code",
   "execution_count": 53,
   "metadata": {},
   "outputs": [],
   "source": [
    "function createRepeats(parentStrand::Dict{Symbol,String})\n",
    "    strands = Array{Dict{Symbol,String}}(undef,0)\n",
    "    for s in strengthArray, r in radiusArray, n in 1:numRepeats\n",
    "        strand = deepcopy(parentStrand)\n",
    "        strand[:name] = strand[:name]*\"-($s,$r)-repeat$n\"\n",
    "        strand[:strength] = \"$s\"\n",
    "        strand[:radius] = \"$r\"\n",
    "        push!(strands,strand)\n",
    "    end\n",
    "    strands\n",
    "end;"
   ]
  },
  {
   "cell_type": "code",
   "execution_count": 54,
   "metadata": {},
   "outputs": [],
   "source": [
    "#The base strand\n",
    "baseStrand = Dict{Symbol,String}()\n",
    "baseStrand[:seedTime] = \"2021-05-05T19:00:00Z\" #8am on Monday morning May 3 (in Auckland)\n",
    "baseStrand[:endTime] = \"2021-06-10T09:00:00Z\"#8pm in the evening of June 10 (prize 10)\n",
    "baseStrand[:minimumAppVersion] = \"58\";"
   ]
  },
  {
   "cell_type": "code",
   "execution_count": 55,
   "metadata": {},
   "outputs": [
    {
     "data": {
      "text/plain": [
       "Dict{Symbol, String} with 9 entries:\n",
       "  :infectionMean         => \"3456000\"\n",
       "  :endTime               => \"2021-06-10T09:00:00Z\"\n",
       "  :incubationShape       => \"10000\"\n",
       "  :minimumAppVersion     => \"58\"\n",
       "  :name                  => \"1.03-SI\"\n",
       "  :seedingProbability    => \"0.4\"\n",
       "  :infectiousPeriodShape => \"10000\"\n",
       "  :seedTime              => \"2021-05-05T19:00:00Z\"\n",
       "  :incubationMean        => \"43200\""
      ]
     },
     "execution_count": 55,
     "metadata": {},
     "output_type": "execute_result"
    }
   ],
   "source": [
    "#The base strand for the SI epidemics\n",
    "SIstrand = deepcopy(baseStrand)\n",
    "SIstrand[:name] = \"1.03-SI\"\n",
    "SIstrand[:seedingProbability] = \"0.4\"\n",
    "SIstrand[:incubationMean] = \"43200\" #default for half day incubation\n",
    "SIstrand[:incubationShape] = \"10000\"\n",
    "SIstrand[:infectionMean] = \"3456000\" #40 days\n",
    "SIstrand[:infectiousPeriodShape] = \"10000\";\n",
    "SIstrand"
   ]
  },
  {
   "cell_type": "code",
   "execution_count": 56,
   "metadata": {},
   "outputs": [],
   "source": [
    "#An array that will hold all strands\n",
    "strands = Array{Dict{Symbol,String}}(undef,0)\n",
    "append!(strands, createRepeats(SIstrand));"
   ]
  },
  {
   "cell_type": "code",
   "execution_count": 57,
   "metadata": {},
   "outputs": [
    {
     "data": {
      "text/plain": [
       "10"
      ]
     },
     "execution_count": 57,
     "metadata": {},
     "output_type": "execute_result"
    }
   ],
   "source": [
    "length(strands)"
   ]
  },
  {
   "cell_type": "code",
   "execution_count": 60,
   "metadata": {},
   "outputs": [
    {
     "name": "stdout",
     "output_type": "stream",
     "text": [
      "214: {\"name\":\"1.03-SI-(0.16,500)-repeat1\",\"seedingProbability\":\"0.4\",\"infectionProbabilityMapP\":\"0.16\",\"infectionProbabilityMapK\":\"500\",\"infectionProbabilityMapL\":\"1000000\",\"incubationPeriodMeanSec\":\"43200\",\"incubationPeriodShape\":\"10000\",\"infectiousPeriodMeanSec\":\"3456000\",\"infectiousPeriodShape\":\"10000\",\"startTime\":\"2021-05-05T19:00:00Z\",\"endTime\":\"2021-06-10T09:00:00Z\",\"minimumAppVersion\":\"58\"}\n",
      "\n",
      "215: {\"name\":\"1.03-SI-(0.16,500)-repeat2\",\"seedingProbability\":\"0.4\",\"infectionProbabilityMapP\":\"0.16\",\"infectionProbabilityMapK\":\"500\",\"infectionProbabilityMapL\":\"1000000\",\"incubationPeriodMeanSec\":\"43200\",\"incubationPeriodShape\":\"10000\",\"infectiousPeriodMeanSec\":\"3456000\",\"infectiousPeriodShape\":\"10000\",\"startTime\":\"2021-05-05T19:00:00Z\",\"endTime\":\"2021-06-10T09:00:00Z\",\"minimumAppVersion\":\"58\"}\n",
      "\n",
      "216: {\"name\":\"1.03-SI-(0.16,500)-repeat3\",\"seedingProbability\":\"0.4\",\"infectionProbabilityMapP\":\"0.16\",\"infectionProbabilityMapK\":\"500\",\"infectionProbabilityMapL\":\"1000000\",\"incubationPeriodMeanSec\":\"43200\",\"incubationPeriodShape\":\"10000\",\"infectiousPeriodMeanSec\":\"3456000\",\"infectiousPeriodShape\":\"10000\",\"startTime\":\"2021-05-05T19:00:00Z\",\"endTime\":\"2021-06-10T09:00:00Z\",\"minimumAppVersion\":\"58\"}\n",
      "\n",
      "217: {\"name\":\"1.03-SI-(0.16,500)-repeat4\",\"seedingProbability\":\"0.4\",\"infectionProbabilityMapP\":\"0.16\",\"infectionProbabilityMapK\":\"500\",\"infectionProbabilityMapL\":\"1000000\",\"incubationPeriodMeanSec\":\"43200\",\"incubationPeriodShape\":\"10000\",\"infectiousPeriodMeanSec\":\"3456000\",\"infectiousPeriodShape\":\"10000\",\"startTime\":\"2021-05-05T19:00:00Z\",\"endTime\":\"2021-06-10T09:00:00Z\",\"minimumAppVersion\":\"58\"}\n",
      "\n",
      "218: {\"name\":\"1.03-SI-(0.16,500)-repeat5\",\"seedingProbability\":\"0.4\",\"infectionProbabilityMapP\":\"0.16\",\"infectionProbabilityMapK\":\"500\",\"infectionProbabilityMapL\":\"1000000\",\"incubationPeriodMeanSec\":\"43200\",\"incubationPeriodShape\":\"10000\",\"infectiousPeriodMeanSec\":\"3456000\",\"infectiousPeriodShape\":\"10000\",\"startTime\":\"2021-05-05T19:00:00Z\",\"endTime\":\"2021-06-10T09:00:00Z\",\"minimumAppVersion\":\"58\"}\n",
      "\n",
      "219: {\"name\":\"1.03-SI-(0.48,500)-repeat1\",\"seedingProbability\":\"0.4\",\"infectionProbabilityMapP\":\"0.48\",\"infectionProbabilityMapK\":\"500\",\"infectionProbabilityMapL\":\"1000000\",\"incubationPeriodMeanSec\":\"43200\",\"incubationPeriodShape\":\"10000\",\"infectiousPeriodMeanSec\":\"3456000\",\"infectiousPeriodShape\":\"10000\",\"startTime\":\"2021-05-05T19:00:00Z\",\"endTime\":\"2021-06-10T09:00:00Z\",\"minimumAppVersion\":\"58\"}\n",
      "\n",
      "220: {\"name\":\"1.03-SI-(0.48,500)-repeat2\",\"seedingProbability\":\"0.4\",\"infectionProbabilityMapP\":\"0.48\",\"infectionProbabilityMapK\":\"500\",\"infectionProbabilityMapL\":\"1000000\",\"incubationPeriodMeanSec\":\"43200\",\"incubationPeriodShape\":\"10000\",\"infectiousPeriodMeanSec\":\"3456000\",\"infectiousPeriodShape\":\"10000\",\"startTime\":\"2021-05-05T19:00:00Z\",\"endTime\":\"2021-06-10T09:00:00Z\",\"minimumAppVersion\":\"58\"}\n",
      "\n",
      "221: {\"name\":\"1.03-SI-(0.48,500)-repeat3\",\"seedingProbability\":\"0.4\",\"infectionProbabilityMapP\":\"0.48\",\"infectionProbabilityMapK\":\"500\",\"infectionProbabilityMapL\":\"1000000\",\"incubationPeriodMeanSec\":\"43200\",\"incubationPeriodShape\":\"10000\",\"infectiousPeriodMeanSec\":\"3456000\",\"infectiousPeriodShape\":\"10000\",\"startTime\":\"2021-05-05T19:00:00Z\",\"endTime\":\"2021-06-10T09:00:00Z\",\"minimumAppVersion\":\"58\"}\n",
      "\n",
      "222: {\"name\":\"1.03-SI-(0.48,500)-repeat4\",\"seedingProbability\":\"0.4\",\"infectionProbabilityMapP\":\"0.48\",\"infectionProbabilityMapK\":\"500\",\"infectionProbabilityMapL\":\"1000000\",\"incubationPeriodMeanSec\":\"43200\",\"incubationPeriodShape\":\"10000\",\"infectiousPeriodMeanSec\":\"3456000\",\"infectiousPeriodShape\":\"10000\",\"startTime\":\"2021-05-05T19:00:00Z\",\"endTime\":\"2021-06-10T09:00:00Z\",\"minimumAppVersion\":\"58\"}\n",
      "\n",
      "223: {\"name\":\"1.03-SI-(0.48,500)-repeat5\",\"seedingProbability\":\"0.4\",\"infectionProbabilityMapP\":\"0.48\",\"infectionProbabilityMapK\":\"500\",\"infectionProbabilityMapL\":\"1000000\",\"incubationPeriodMeanSec\":\"43200\",\"incubationPeriodShape\":\"10000\",\"infectiousPeriodMeanSec\":\"3456000\",\"infectiousPeriodShape\":\"10000\",\"startTime\":\"2021-05-05T19:00:00Z\",\"endTime\":\"2021-06-10T09:00:00Z\",\"minimumAppVersion\":\"58\"}\n",
      "\n"
     ]
    }
   ],
   "source": [
    "function strandJSON(sd::Dict{Symbol,String})\n",
    "    str = \"\"\"\n",
    "        {\\\"name\\\":\\\"$(sd[:name])\\\",\n",
    "         \\\"seedingProbability\\\":\\\"$(sd[:seedingProbability])\\\",\n",
    "         \\\"infectionProbabilityMapP\\\":\\\"$(sd[:strength])\\\",\n",
    "         \\\"infectionProbabilityMapK\\\":\\\"$(sd[:radius])\\\",\n",
    "         \\\"infectionProbabilityMapL\\\":\\\"1000000\\\",\n",
    "         \\\"incubationPeriodMeanSec\\\":\\\"$(sd[:incubationMean])\\\",\n",
    "         \\\"incubationPeriodShape\\\":\\\"$(sd[:incubationShape])\\\",\n",
    "         \\\"infectiousPeriodMeanSec\\\":\\\"$(sd[:infectionMean])\\\",\n",
    "         \\\"infectiousPeriodShape\\\":\\\"$(sd[:infectiousPeriodShape])\\\",\n",
    "         \\\"startTime\\\":\\\"$(sd[:seedTime])\\\",\n",
    "         \\\"endTime\\\":\\\"$(sd[:endTime])\\\",\n",
    "         \\\"minimumAppVersion\\\":\\\"$(sd[:minimumAppVersion])\\\"}\n",
    "    \"\"\"\n",
    "    join(map(x -> isspace(str[x]) ? \"\" : str[x], 1:length(str))) #how the $%@$% to remove white space in Julia strings?\n",
    "end\n",
    "\n",
    "strandStrings = strandJSON.(strands)\n",
    "\n",
    "newID = 213 #last strand in system see https://api.safeblues.org/admin/list\n",
    "for s in strandStrings\n",
    "    newID +=1\n",
    "    println(newID,\": \", s,\"\\n\")\n",
    "end"
   ]
  },
  {
   "cell_type": "code",
   "execution_count": null,
   "metadata": {},
   "outputs": [],
   "source": []
  }
 ],
 "metadata": {
  "kernelspec": {
   "display_name": "Julia 1.6.0",
   "language": "julia",
   "name": "julia-1.6"
  },
  "language_info": {
   "file_extension": ".jl",
   "mimetype": "application/julia",
   "name": "julia",
   "version": "1.6.0"
  }
 },
 "nbformat": 4,
 "nbformat_minor": 4
}
