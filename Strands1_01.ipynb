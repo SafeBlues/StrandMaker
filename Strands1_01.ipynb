{
 "cells": [
  {
   "cell_type": "markdown",
   "metadata": {},
   "source": [
    "# Strands for Phase 1, release 0.01 (1.01)\n",
    "162 strands in total"
   ]
  },
  {
   "cell_type": "code",
   "execution_count": 1,
   "metadata": {},
   "outputs": [],
   "source": [
    "#fixed strength and radius and num repeat configurations\n",
    "strengthArray = [0.06,0.16,0.48]\n",
    "radiusArray = [5,15,500]\n",
    "numRepeats = 3;"
   ]
  },
  {
   "cell_type": "code",
   "execution_count": 2,
   "metadata": {},
   "outputs": [],
   "source": [
    "function createRepeats(parentStrand::Dict{Symbol,String})\n",
    "    strands = Array{Dict{Symbol,String}}(undef,0)\n",
    "    for s in strengthArray, r in radiusArray, n in 1:numRepeats\n",
    "        strand = deepcopy(parentStrand)\n",
    "        strand[:name] = strand[:name]*\"-($s,$r)-repeat$n\"\n",
    "        strand[:strength] = \"$s\"\n",
    "        strand[:radius] = \"$r\"\n",
    "        push!(strands,strand)\n",
    "    end\n",
    "    strands\n",
    "end;"
   ]
  },
  {
   "cell_type": "code",
   "execution_count": 3,
   "metadata": {},
   "outputs": [],
   "source": [
    "#The base strand\n",
    "baseStrand = Dict{Symbol,String}()\n",
    "baseStrand[:seedTime] = \"2021-05-02T21:00:00Z\" #8am on Monday morning May 3 (in Auckland)\n",
    "baseStrand[:endTime] = \"2021-06-10T09:00:00Z\"#8pm in the evening of June 10 (prize 10)\n",
    "baseStrand[:minimumAppVersion] = \"58\";"
   ]
  },
  {
   "cell_type": "code",
   "execution_count": 4,
   "metadata": {},
   "outputs": [],
   "source": [
    "#The base strand for the SI epidemics\n",
    "SIstrand = deepcopy(baseStrand)\n",
    "SIstrand[:name] = \"1.01-SI\"\n",
    "SIstrand[:seedingProbability] = \"0.1\"\n",
    "SIstrand[:incubationMean] = \"43200\" #default for half day incubation\n",
    "SIstrand[:incubationShape] = \"10000\"\n",
    "SIstrand[:infectionMean] = \"3456000\" #40 days\n",
    "SIstrand[:infectiousPeriodShape] = \"10000\";"
   ]
  },
  {
   "cell_type": "code",
   "execution_count": 5,
   "metadata": {},
   "outputs": [
    {
     "data": {
      "text/plain": [
       "Dict{Symbol, String} with 9 entries:\n",
       "  :infectionMean         => \"3456000\"\n",
       "  :endTime               => \"2021-06-10T09:00:00Z\"\n",
       "  :incubationShape       => \"10000\"\n",
       "  :minimumAppVersion     => \"58\"\n",
       "  :name                  => \"1.01-SI-incYes\"\n",
       "  :seedingProbability    => \"0.1\"\n",
       "  :infectiousPeriodShape => \"10000\"\n",
       "  :seedTime              => \"2021-05-02T21:00:00Z\"\n",
       "  :incubationMean        => \"43200\""
      ]
     },
     "execution_count": 5,
     "metadata": {},
     "output_type": "execute_result"
    }
   ],
   "source": [
    "SIstrandYesIncubation = deepcopy(SIstrand)\n",
    "SIstrandYesIncubation[:name] = SIstrandYesIncubation[:name]*\"-incYes\"\n",
    "SIstrandYesIncubation"
   ]
  },
  {
   "cell_type": "code",
   "execution_count": 6,
   "metadata": {},
   "outputs": [
    {
     "data": {
      "text/plain": [
       "Dict{Symbol, String} with 9 entries:\n",
       "  :infectionMean         => \"3456000\"\n",
       "  :endTime               => \"2021-06-10T09:00:00Z\"\n",
       "  :incubationShape       => \"10000\"\n",
       "  :minimumAppVersion     => \"58\"\n",
       "  :name                  => \"1.01-SI-incNo\"\n",
       "  :seedingProbability    => \"0.1\"\n",
       "  :infectiousPeriodShape => \"10000\"\n",
       "  :seedTime              => \"2021-05-02T21:00:00Z\"\n",
       "  :incubationMean        => \"1\""
      ]
     },
     "execution_count": 6,
     "metadata": {},
     "output_type": "execute_result"
    }
   ],
   "source": [
    "SIstrandNoIncubation = deepcopy(SIstrand)\n",
    "SIstrandNoIncubation[:name] = SIstrandNoIncubation[:name]*\"-incNo\"\n",
    "SIstrandNoIncubation[:incubationMean] = \"1\" #1 second incubation \n",
    "SIstrandNoIncubation"
   ]
  },
  {
   "cell_type": "code",
   "execution_count": 7,
   "metadata": {},
   "outputs": [],
   "source": [
    "#The base strand for the SIR epidemics\n",
    "SIRstrand = deepcopy(baseStrand)\n",
    "SIRstrand[:name] = \"1.01-SIR\"\n",
    "SIRstrand[:seedingProbability] = \"0.1\" #will be this or 0.3\n",
    "SIRstrand[:incubationMean] = \"43200\" \n",
    "SIRstrand[:incubationShape] = \"10000\"\n",
    "SIRstrand[:infectionMean] = \"432000\" #5 days should vary\n",
    "SIRstrand[:infectiousPeriodShape] = \"3\";"
   ]
  },
  {
   "cell_type": "code",
   "execution_count": 8,
   "metadata": {},
   "outputs": [
    {
     "data": {
      "text/plain": [
       "Dict{Symbol, String} with 9 entries:\n",
       "  :infectionMean         => \"432000\"\n",
       "  :endTime               => \"2021-06-10T09:00:00Z\"\n",
       "  :incubationShape       => \"10000\"\n",
       "  :minimumAppVersion     => \"58\"\n",
       "  :name                  => \"1.01-SIR-days5-seedLow\"\n",
       "  :seedingProbability    => \"0.1\"\n",
       "  :infectiousPeriodShape => \"3\"\n",
       "  :seedTime              => \"2021-05-02T21:00:00Z\"\n",
       "  :incubationMean        => \"43200\""
      ]
     },
     "execution_count": 8,
     "metadata": {},
     "output_type": "execute_result"
    }
   ],
   "source": [
    "SIRstrandLowSeedShortDuration = deepcopy(SIRstrand)\n",
    "SIRstrandLowSeedShortDuration[:name] = SIRstrandLowSeedShortDuration[:name]*\"-days5-seedLow\";\n",
    "SIRstrandLowSeedShortDuration"
   ]
  },
  {
   "cell_type": "code",
   "execution_count": 9,
   "metadata": {},
   "outputs": [
    {
     "data": {
      "text/plain": [
       "Dict{Symbol, String} with 9 entries:\n",
       "  :infectionMean         => \"432000\"\n",
       "  :endTime               => \"2021-06-10T09:00:00Z\"\n",
       "  :incubationShape       => \"10000\"\n",
       "  :minimumAppVersion     => \"58\"\n",
       "  :name                  => \"1.01-SIR-days5-seedHigh\"\n",
       "  :seedingProbability    => \"0.3\"\n",
       "  :infectiousPeriodShape => \"3\"\n",
       "  :seedTime              => \"2021-05-02T21:00:00Z\"\n",
       "  :incubationMean        => \"43200\""
      ]
     },
     "execution_count": 9,
     "metadata": {},
     "output_type": "execute_result"
    }
   ],
   "source": [
    "SIRstrandHighSeedShortDuration = deepcopy(SIRstrand)\n",
    "SIRstrandHighSeedShortDuration[:seedingProbability] = \"0.3\"\n",
    "SIRstrandHighSeedShortDuration[:name] = SIRstrandHighSeedShortDuration[:name]*\"-days5-seedHigh\";\n",
    "SIRstrandHighSeedShortDuration"
   ]
  },
  {
   "cell_type": "code",
   "execution_count": 10,
   "metadata": {},
   "outputs": [
    {
     "data": {
      "text/plain": [
       "Dict{Symbol, String} with 9 entries:\n",
       "  :infectionMean         => \"864000\"\n",
       "  :endTime               => \"2021-06-10T09:00:00Z\"\n",
       "  :incubationShape       => \"10000\"\n",
       "  :minimumAppVersion     => \"58\"\n",
       "  :name                  => \"1.01-SIR-days10-seedLow\"\n",
       "  :seedingProbability    => \"0.1\"\n",
       "  :infectiousPeriodShape => \"3\"\n",
       "  :seedTime              => \"2021-05-02T21:00:00Z\"\n",
       "  :incubationMean        => \"43200\""
      ]
     },
     "execution_count": 10,
     "metadata": {},
     "output_type": "execute_result"
    }
   ],
   "source": [
    "SIRstrandLowSeedLongDuration = deepcopy(SIRstrand)\n",
    "SIRstrandLowSeedLongDuration[:infectionMean] = \"864000\" \n",
    "SIRstrandLowSeedLongDuration[:name] = SIRstrandLowSeedLongDuration[:name]*\"-days10-seedLow\";\n",
    "SIRstrandLowSeedLongDuration"
   ]
  },
  {
   "cell_type": "code",
   "execution_count": 11,
   "metadata": {},
   "outputs": [
    {
     "data": {
      "text/plain": [
       "Dict{Symbol, String} with 9 entries:\n",
       "  :infectionMean         => \"864000\"\n",
       "  :endTime               => \"2021-06-10T09:00:00Z\"\n",
       "  :incubationShape       => \"10000\"\n",
       "  :minimumAppVersion     => \"58\"\n",
       "  :name                  => \"1.01-SIR-days10-seedHigh\"\n",
       "  :seedingProbability    => \"0.3\"\n",
       "  :infectiousPeriodShape => \"3\"\n",
       "  :seedTime              => \"2021-05-02T21:00:00Z\"\n",
       "  :incubationMean        => \"43200\""
      ]
     },
     "execution_count": 11,
     "metadata": {},
     "output_type": "execute_result"
    }
   ],
   "source": [
    "SIRstranHighSeedLongDuration = deepcopy(SIRstrand)\n",
    "SIRstranHighSeedLongDuration[:infectionMean] = \"864000\" \n",
    "SIRstranHighSeedLongDuration[:seedingProbability] = \"0.3\"\n",
    "SIRstranHighSeedLongDuration[:name] = SIRstranHighSeedLongDuration[:name]*\"-days10-seedHigh\";\n",
    "SIRstranHighSeedLongDuration"
   ]
  },
  {
   "cell_type": "code",
   "execution_count": 12,
   "metadata": {},
   "outputs": [],
   "source": [
    "#An array that will hold all strands\n",
    "strands = Array{Dict{Symbol,String}}(undef,0)\n",
    "append!(strands, createRepeats(SIstrandYesIncubation))\n",
    "append!(strands, createRepeats(SIstrandNoIncubation))\n",
    "append!(strands, createRepeats(SIRstrandLowSeedShortDuration))\n",
    "append!(strands, createRepeats(SIRstrandHighSeedShortDuration))\n",
    "append!(strands, createRepeats(SIRstrandLowSeedLongDuration))\n",
    "append!(strands, createRepeats(SIRstranHighSeedLongDuration));"
   ]
  },
  {
   "cell_type": "code",
   "execution_count": 13,
   "metadata": {},
   "outputs": [
    {
     "data": {
      "text/plain": [
       "162"
      ]
     },
     "execution_count": 13,
     "metadata": {},
     "output_type": "execute_result"
    }
   ],
   "source": [
    "length(strands)"
   ]
  },
  {
   "cell_type": "code",
   "execution_count": 14,
   "metadata": {},
   "outputs": [
    {
     "name": "stdout",
     "output_type": "stream",
     "text": [
      "51: {\"name\":\"1.01-SI-incYes-(0.06,5)-repeat1\",\"seedingProbability\":\"0.1\",\"infectionProbabilityMapP\":\"0.06\",\"infectionProbabilityMapK\":\"5\",\"infectionProbabilityMapL\":\"1000000\",\"incubationPeriodMeanSec\":\"43200\",\"incubationPeriodShape\":\"10000\",\"infectiousPeriodMeanSec\":\"3456000\",\"infectiousPeriodShape\":\"10000\",\"startTime\":\"2021-05-02T21:00:00Z\",\"endTime\":\"2021-06-10T09:00:00Z\",\"minimumAppVersion\":\"58\"}\n",
      "\n",
      "52: {\"name\":\"1.01-SI-incYes-(0.06,5)-repeat2\",\"seedingProbability\":\"0.1\",\"infectionProbabilityMapP\":\"0.06\",\"infectionProbabilityMapK\":\"5\",\"infectionProbabilityMapL\":\"1000000\",\"incubationPeriodMeanSec\":\"43200\",\"incubationPeriodShape\":\"10000\",\"infectiousPeriodMeanSec\":\"3456000\",\"infectiousPeriodShape\":\"10000\",\"startTime\":\"2021-05-02T21:00:00Z\",\"endTime\":\"2021-06-10T09:00:00Z\",\"minimumAppVersion\":\"58\"}\n",
      "\n",
      "53: {\"name\":\"1.01-SI-incYes-(0.06,5)-repeat3\",\"seedingProbability\":\"0.1\",\"infectionProbabilityMapP\":\"0.06\",\"infectionProbabilityMapK\":\"5\",\"infectionProbabilityMapL\":\"1000000\",\"incubationPeriodMeanSec\":\"43200\",\"incubationPeriodShape\":\"10000\",\"infectiousPeriodMeanSec\":\"3456000\",\"infectiousPeriodShape\":\"10000\",\"startTime\":\"2021-05-02T21:00:00Z\",\"endTime\":\"2021-06-10T09:00:00Z\",\"minimumAppVersion\":\"58\"}\n",
      "\n",
      "54: {\"name\":\"1.01-SI-incYes-(0.06,15)-repeat1\",\"seedingProbability\":\"0.1\",\"infectionProbabilityMapP\":\"0.06\",\"infectionProbabilityMapK\":\"15\",\"infectionProbabilityMapL\":\"1000000\",\"incubationPeriodMeanSec\":\"43200\",\"incubationPeriodShape\":\"10000\",\"infectiousPeriodMeanSec\":\"3456000\",\"infectiousPeriodShape\":\"10000\",\"startTime\":\"2021-05-02T21:00:00Z\",\"endTime\":\"2021-06-10T09:00:00Z\",\"minimumAppVersion\":\"58\"}\n",
      "\n",
      "55: {\"name\":\"1.01-SI-incYes-(0.06,15)-repeat2\",\"seedingProbability\":\"0.1\",\"infectionProbabilityMapP\":\"0.06\",\"infectionProbabilityMapK\":\"15\",\"infectionProbabilityMapL\":\"1000000\",\"incubationPeriodMeanSec\":\"43200\",\"incubationPeriodShape\":\"10000\",\"infectiousPeriodMeanSec\":\"3456000\",\"infectiousPeriodShape\":\"10000\",\"startTime\":\"2021-05-02T21:00:00Z\",\"endTime\":\"2021-06-10T09:00:00Z\",\"minimumAppVersion\":\"58\"}\n",
      "\n",
      "56: {\"name\":\"1.01-SI-incYes-(0.06,15)-repeat3\",\"seedingProbability\":\"0.1\",\"infectionProbabilityMapP\":\"0.06\",\"infectionProbabilityMapK\":\"15\",\"infectionProbabilityMapL\":\"1000000\",\"incubationPeriodMeanSec\":\"43200\",\"incubationPeriodShape\":\"10000\",\"infectiousPeriodMeanSec\":\"3456000\",\"infectiousPeriodShape\":\"10000\",\"startTime\":\"2021-05-02T21:00:00Z\",\"endTime\":\"2021-06-10T09:00:00Z\",\"minimumAppVersion\":\"58\"}\n",
      "\n",
      "57: {\"name\":\"1.01-SI-incYes-(0.06,500)-repeat1\",\"seedingProbability\":\"0.1\",\"infectionProbabilityMapP\":\"0.06\",\"infectionProbabilityMapK\":\"500\",\"infectionProbabilityMapL\":\"1000000\",\"incubationPeriodMeanSec\":\"43200\",\"incubationPeriodShape\":\"10000\",\"infectiousPeriodMeanSec\":\"3456000\",\"infectiousPeriodShape\":\"10000\",\"startTime\":\"2021-05-02T21:00:00Z\",\"endTime\":\"2021-06-10T09:00:00Z\",\"minimumAppVersion\":\"58\"}\n",
      "\n",
      "58: {\"name\":\"1.01-SI-incYes-(0.06,500)-repeat2\",\"seedingProbability\":\"0.1\",\"infectionProbabilityMapP\":\"0.06\",\"infectionProbabilityMapK\":\"500\",\"infectionProbabilityMapL\":\"1000000\",\"incubationPeriodMeanSec\":\"43200\",\"incubationPeriodShape\":\"10000\",\"infectiousPeriodMeanSec\":\"3456000\",\"infectiousPeriodShape\":\"10000\",\"startTime\":\"2021-05-02T21:00:00Z\",\"endTime\":\"2021-06-10T09:00:00Z\",\"minimumAppVersion\":\"58\"}\n",
      "\n",
      "59: {\"name\":\"1.01-SI-incYes-(0.06,500)-repeat3\",\"seedingProbability\":\"0.1\",\"infectionProbabilityMapP\":\"0.06\",\"infectionProbabilityMapK\":\"500\",\"infectionProbabilityMapL\":\"1000000\",\"incubationPeriodMeanSec\":\"43200\",\"incubationPeriodShape\":\"10000\",\"infectiousPeriodMeanSec\":\"3456000\",\"infectiousPeriodShape\":\"10000\",\"startTime\":\"2021-05-02T21:00:00Z\",\"endTime\":\"2021-06-10T09:00:00Z\",\"minimumAppVersion\":\"58\"}\n",
      "\n",
      "60: {\"name\":\"1.01-SI-incYes-(0.16,5)-repeat1\",\"seedingProbability\":\"0.1\",\"infectionProbabilityMapP\":\"0.16\",\"infectionProbabilityMapK\":\"5\",\"infectionProbabilityMapL\":\"1000000\",\"incubationPeriodMeanSec\":\"43200\",\"incubationPeriodShape\":\"10000\",\"infectiousPeriodMeanSec\":\"3456000\",\"infectiousPeriodShape\":\"10000\",\"startTime\":\"2021-05-02T21:00:00Z\",\"endTime\":\"2021-06-10T09:00:00Z\",\"minimumAppVersion\":\"58\"}\n",
      "\n",
      "61: {\"name\":\"1.01-SI-incYes-(0.16,5)-repeat2\",\"seedingProbability\":\"0.1\",\"infectionProbabilityMapP\":\"0.16\",\"infectionProbabilityMapK\":\"5\",\"infectionProbabilityMapL\":\"1000000\",\"incubationPeriodMeanSec\":\"43200\",\"incubationPeriodShape\":\"10000\",\"infectiousPeriodMeanSec\":\"3456000\",\"infectiousPeriodShape\":\"10000\",\"startTime\":\"2021-05-02T21:00:00Z\",\"endTime\":\"2021-06-10T09:00:00Z\",\"minimumAppVersion\":\"58\"}\n",
      "\n",
      "62: {\"name\":\"1.01-SI-incYes-(0.16,5)-repeat3\",\"seedingProbability\":\"0.1\",\"infectionProbabilityMapP\":\"0.16\",\"infectionProbabilityMapK\":\"5\",\"infectionProbabilityMapL\":\"1000000\",\"incubationPeriodMeanSec\":\"43200\",\"incubationPeriodShape\":\"10000\",\"infectiousPeriodMeanSec\":\"3456000\",\"infectiousPeriodShape\":\"10000\",\"startTime\":\"2021-05-02T21:00:00Z\",\"endTime\":\"2021-06-10T09:00:00Z\",\"minimumAppVersion\":\"58\"}\n",
      "\n",
      "63: {\"name\":\"1.01-SI-incYes-(0.16,15)-repeat1\",\"seedingProbability\":\"0.1\",\"infectionProbabilityMapP\":\"0.16\",\"infectionProbabilityMapK\":\"15\",\"infectionProbabilityMapL\":\"1000000\",\"incubationPeriodMeanSec\":\"43200\",\"incubationPeriodShape\":\"10000\",\"infectiousPeriodMeanSec\":\"3456000\",\"infectiousPeriodShape\":\"10000\",\"startTime\":\"2021-05-02T21:00:00Z\",\"endTime\":\"2021-06-10T09:00:00Z\",\"minimumAppVersion\":\"58\"}\n",
      "\n",
      "64: {\"name\":\"1.01-SI-incYes-(0.16,15)-repeat2\",\"seedingProbability\":\"0.1\",\"infectionProbabilityMapP\":\"0.16\",\"infectionProbabilityMapK\":\"15\",\"infectionProbabilityMapL\":\"1000000\",\"incubationPeriodMeanSec\":\"43200\",\"incubationPeriodShape\":\"10000\",\"infectiousPeriodMeanSec\":\"3456000\",\"infectiousPeriodShape\":\"10000\",\"startTime\":\"2021-05-02T21:00:00Z\",\"endTime\":\"2021-06-10T09:00:00Z\",\"minimumAppVersion\":\"58\"}\n",
      "\n",
      "65: {\"name\":\"1.01-SI-incYes-(0.16,15)-repeat3\",\"seedingProbability\":\"0.1\",\"infectionProbabilityMapP\":\"0.16\",\"infectionProbabilityMapK\":\"15\",\"infectionProbabilityMapL\":\"1000000\",\"incubationPeriodMeanSec\":\"43200\",\"incubationPeriodShape\":\"10000\",\"infectiousPeriodMeanSec\":\"3456000\",\"infectiousPeriodShape\":\"10000\",\"startTime\":\"2021-05-02T21:00:00Z\",\"endTime\":\"2021-06-10T09:00:00Z\",\"minimumAppVersion\":\"58\"}\n",
      "\n",
      "66: {\"name\":\"1.01-SI-incYes-(0.16,500)-repeat1\",\"seedingProbability\":\"0.1\",\"infectionProbabilityMapP\":\"0.16\",\"infectionProbabilityMapK\":\"500\",\"infectionProbabilityMapL\":\"1000000\",\"incubationPeriodMeanSec\":\"43200\",\"incubationPeriodShape\":\"10000\",\"infectiousPeriodMeanSec\":\"3456000\",\"infectiousPeriodShape\":\"10000\",\"startTime\":\"2021-05-02T21:00:00Z\",\"endTime\":\"2021-06-10T09:00:00Z\",\"minimumAppVersion\":\"58\"}\n",
      "\n",
      "67: {\"name\":\"1.01-SI-incYes-(0.16,500)-repeat2\",\"seedingProbability\":\"0.1\",\"infectionProbabilityMapP\":\"0.16\",\"infectionProbabilityMapK\":\"500\",\"infectionProbabilityMapL\":\"1000000\",\"incubationPeriodMeanSec\":\"43200\",\"incubationPeriodShape\":\"10000\",\"infectiousPeriodMeanSec\":\"3456000\",\"infectiousPeriodShape\":\"10000\",\"startTime\":\"2021-05-02T21:00:00Z\",\"endTime\":\"2021-06-10T09:00:00Z\",\"minimumAppVersion\":\"58\"}\n",
      "\n",
      "68: {\"name\":\"1.01-SI-incYes-(0.16,500)-repeat3\",\"seedingProbability\":\"0.1\",\"infectionProbabilityMapP\":\"0.16\",\"infectionProbabilityMapK\":\"500\",\"infectionProbabilityMapL\":\"1000000\",\"incubationPeriodMeanSec\":\"43200\",\"incubationPeriodShape\":\"10000\",\"infectiousPeriodMeanSec\":\"3456000\",\"infectiousPeriodShape\":\"10000\",\"startTime\":\"2021-05-02T21:00:00Z\",\"endTime\":\"2021-06-10T09:00:00Z\",\"minimumAppVersion\":\"58\"}\n",
      "\n",
      "69: {\"name\":\"1.01-SI-incYes-(0.48,5)-repeat1\",\"seedingProbability\":\"0.1\",\"infectionProbabilityMapP\":\"0.48\",\"infectionProbabilityMapK\":\"5\",\"infectionProbabilityMapL\":\"1000000\",\"incubationPeriodMeanSec\":\"43200\",\"incubationPeriodShape\":\"10000\",\"infectiousPeriodMeanSec\":\"3456000\",\"infectiousPeriodShape\":\"10000\",\"startTime\":\"2021-05-02T21:00:00Z\",\"endTime\":\"2021-06-10T09:00:00Z\",\"minimumAppVersion\":\"58\"}\n",
      "\n",
      "70: {\"name\":\"1.01-SI-incYes-(0.48,5)-repeat2\",\"seedingProbability\":\"0.1\",\"infectionProbabilityMapP\":\"0.48\",\"infectionProbabilityMapK\":\"5\",\"infectionProbabilityMapL\":\"1000000\",\"incubationPeriodMeanSec\":\"43200\",\"incubationPeriodShape\":\"10000\",\"infectiousPeriodMeanSec\":\"3456000\",\"infectiousPeriodShape\":\"10000\",\"startTime\":\"2021-05-02T21:00:00Z\",\"endTime\":\"2021-06-10T09:00:00Z\",\"minimumAppVersion\":\"58\"}\n",
      "\n",
      "71: {\"name\":\"1.01-SI-incYes-(0.48,5)-repeat3\",\"seedingProbability\":\"0.1\",\"infectionProbabilityMapP\":\"0.48\",\"infectionProbabilityMapK\":\"5\",\"infectionProbabilityMapL\":\"1000000\",\"incubationPeriodMeanSec\":\"43200\",\"incubationPeriodShape\":\"10000\",\"infectiousPeriodMeanSec\":\"3456000\",\"infectiousPeriodShape\":\"10000\",\"startTime\":\"2021-05-02T21:00:00Z\",\"endTime\":\"2021-06-10T09:00:00Z\",\"minimumAppVersion\":\"58\"}\n",
      "\n",
      "72: {\"name\":\"1.01-SI-incYes-(0.48,15)-repeat1\",\"seedingProbability\":\"0.1\",\"infectionProbabilityMapP\":\"0.48\",\"infectionProbabilityMapK\":\"15\",\"infectionProbabilityMapL\":\"1000000\",\"incubationPeriodMeanSec\":\"43200\",\"incubationPeriodShape\":\"10000\",\"infectiousPeriodMeanSec\":\"3456000\",\"infectiousPeriodShape\":\"10000\",\"startTime\":\"2021-05-02T21:00:00Z\",\"endTime\":\"2021-06-10T09:00:00Z\",\"minimumAppVersion\":\"58\"}\n",
      "\n",
      "73: {\"name\":\"1.01-SI-incYes-(0.48,15)-repeat2\",\"seedingProbability\":\"0.1\",\"infectionProbabilityMapP\":\"0.48\",\"infectionProbabilityMapK\":\"15\",\"infectionProbabilityMapL\":\"1000000\",\"incubationPeriodMeanSec\":\"43200\",\"incubationPeriodShape\":\"10000\",\"infectiousPeriodMeanSec\":\"3456000\",\"infectiousPeriodShape\":\"10000\",\"startTime\":\"2021-05-02T21:00:00Z\",\"endTime\":\"2021-06-10T09:00:00Z\",\"minimumAppVersion\":\"58\"}\n",
      "\n",
      "74: {\"name\":\"1.01-SI-incYes-(0.48,15)-repeat3\",\"seedingProbability\":\"0.1\",\"infectionProbabilityMapP\":\"0.48\",\"infectionProbabilityMapK\":\"15\",\"infectionProbabilityMapL\":\"1000000\",\"incubationPeriodMeanSec\":\"43200\",\"incubationPeriodShape\":\"10000\",\"infectiousPeriodMeanSec\":\"3456000\",\"infectiousPeriodShape\":\"10000\",\"startTime\":\"2021-05-02T21:00:00Z\",\"endTime\":\"2021-06-10T09:00:00Z\",\"minimumAppVersion\":\"58\"}\n",
      "\n",
      "75: {\"name\":\"1.01-SI-incYes-(0.48,500)-repeat1\",\"seedingProbability\":\"0.1\",\"infectionProbabilityMapP\":\"0.48\",\"infectionProbabilityMapK\":\"500\",\"infectionProbabilityMapL\":\"1000000\",\"incubationPeriodMeanSec\":\"43200\",\"incubationPeriodShape\":\"10000\",\"infectiousPeriodMeanSec\":\"3456000\",\"infectiousPeriodShape\":\"10000\",\"startTime\":\"2021-05-02T21:00:00Z\",\"endTime\":\"2021-06-10T09:00:00Z\",\"minimumAppVersion\":\"58\"}\n",
      "\n"
     ]
    },
    {
     "name": "stdout",
     "output_type": "stream",
     "text": [
      "76: {\"name\":\"1.01-SI-incYes-(0.48,500)-repeat2\",\"seedingProbability\":\"0.1\",\"infectionProbabilityMapP\":\"0.48\",\"infectionProbabilityMapK\":\"500\",\"infectionProbabilityMapL\":\"1000000\",\"incubationPeriodMeanSec\":\"43200\",\"incubationPeriodShape\":\"10000\",\"infectiousPeriodMeanSec\":\"3456000\",\"infectiousPeriodShape\":\"10000\",\"startTime\":\"2021-05-02T21:00:00Z\",\"endTime\":\"2021-06-10T09:00:00Z\",\"minimumAppVersion\":\"58\"}\n",
      "\n",
      "77: {\"name\":\"1.01-SI-incYes-(0.48,500)-repeat3\",\"seedingProbability\":\"0.1\",\"infectionProbabilityMapP\":\"0.48\",\"infectionProbabilityMapK\":\"500\",\"infectionProbabilityMapL\":\"1000000\",\"incubationPeriodMeanSec\":\"43200\",\"incubationPeriodShape\":\"10000\",\"infectiousPeriodMeanSec\":\"3456000\",\"infectiousPeriodShape\":\"10000\",\"startTime\":\"2021-05-02T21:00:00Z\",\"endTime\":\"2021-06-10T09:00:00Z\",\"minimumAppVersion\":\"58\"}\n",
      "\n",
      "78: {\"name\":\"1.01-SI-incNo-(0.06,5)-repeat1\",\"seedingProbability\":\"0.1\",\"infectionProbabilityMapP\":\"0.06\",\"infectionProbabilityMapK\":\"5\",\"infectionProbabilityMapL\":\"1000000\",\"incubationPeriodMeanSec\":\"1\",\"incubationPeriodShape\":\"10000\",\"infectiousPeriodMeanSec\":\"3456000\",\"infectiousPeriodShape\":\"10000\",\"startTime\":\"2021-05-02T21:00:00Z\",\"endTime\":\"2021-06-10T09:00:00Z\",\"minimumAppVersion\":\"58\"}\n",
      "\n",
      "79: {\"name\":\"1.01-SI-incNo-(0.06,5)-repeat2\",\"seedingProbability\":\"0.1\",\"infectionProbabilityMapP\":\"0.06\",\"infectionProbabilityMapK\":\"5\",\"infectionProbabilityMapL\":\"1000000\",\"incubationPeriodMeanSec\":\"1\",\"incubationPeriodShape\":\"10000\",\"infectiousPeriodMeanSec\":\"3456000\",\"infectiousPeriodShape\":\"10000\",\"startTime\":\"2021-05-02T21:00:00Z\",\"endTime\":\"2021-06-10T09:00:00Z\",\"minimumAppVersion\":\"58\"}\n",
      "\n",
      "80: {\"name\":\"1.01-SI-incNo-(0.06,5)-repeat3\",\"seedingProbability\":\"0.1\",\"infectionProbabilityMapP\":\"0.06\",\"infectionProbabilityMapK\":\"5\",\"infectionProbabilityMapL\":\"1000000\",\"incubationPeriodMeanSec\":\"1\",\"incubationPeriodShape\":\"10000\",\"infectiousPeriodMeanSec\":\"3456000\",\"infectiousPeriodShape\":\"10000\",\"startTime\":\"2021-05-02T21:00:00Z\",\"endTime\":\"2021-06-10T09:00:00Z\",\"minimumAppVersion\":\"58\"}\n",
      "\n",
      "81: {\"name\":\"1.01-SI-incNo-(0.06,15)-repeat1\",\"seedingProbability\":\"0.1\",\"infectionProbabilityMapP\":\"0.06\",\"infectionProbabilityMapK\":\"15\",\"infectionProbabilityMapL\":\"1000000\",\"incubationPeriodMeanSec\":\"1\",\"incubationPeriodShape\":\"10000\",\"infectiousPeriodMeanSec\":\"3456000\",\"infectiousPeriodShape\":\"10000\",\"startTime\":\"2021-05-02T21:00:00Z\",\"endTime\":\"2021-06-10T09:00:00Z\",\"minimumAppVersion\":\"58\"}\n",
      "\n",
      "82: {\"name\":\"1.01-SI-incNo-(0.06,15)-repeat2\",\"seedingProbability\":\"0.1\",\"infectionProbabilityMapP\":\"0.06\",\"infectionProbabilityMapK\":\"15\",\"infectionProbabilityMapL\":\"1000000\",\"incubationPeriodMeanSec\":\"1\",\"incubationPeriodShape\":\"10000\",\"infectiousPeriodMeanSec\":\"3456000\",\"infectiousPeriodShape\":\"10000\",\"startTime\":\"2021-05-02T21:00:00Z\",\"endTime\":\"2021-06-10T09:00:00Z\",\"minimumAppVersion\":\"58\"}\n",
      "\n",
      "83: {\"name\":\"1.01-SI-incNo-(0.06,15)-repeat3\",\"seedingProbability\":\"0.1\",\"infectionProbabilityMapP\":\"0.06\",\"infectionProbabilityMapK\":\"15\",\"infectionProbabilityMapL\":\"1000000\",\"incubationPeriodMeanSec\":\"1\",\"incubationPeriodShape\":\"10000\",\"infectiousPeriodMeanSec\":\"3456000\",\"infectiousPeriodShape\":\"10000\",\"startTime\":\"2021-05-02T21:00:00Z\",\"endTime\":\"2021-06-10T09:00:00Z\",\"minimumAppVersion\":\"58\"}\n",
      "\n",
      "84: {\"name\":\"1.01-SI-incNo-(0.06,500)-repeat1\",\"seedingProbability\":\"0.1\",\"infectionProbabilityMapP\":\"0.06\",\"infectionProbabilityMapK\":\"500\",\"infectionProbabilityMapL\":\"1000000\",\"incubationPeriodMeanSec\":\"1\",\"incubationPeriodShape\":\"10000\",\"infectiousPeriodMeanSec\":\"3456000\",\"infectiousPeriodShape\":\"10000\",\"startTime\":\"2021-05-02T21:00:00Z\",\"endTime\":\"2021-06-10T09:00:00Z\",\"minimumAppVersion\":\"58\"}\n",
      "\n",
      "85: {\"name\":\"1.01-SI-incNo-(0.06,500)-repeat2\",\"seedingProbability\":\"0.1\",\"infectionProbabilityMapP\":\"0.06\",\"infectionProbabilityMapK\":\"500\",\"infectionProbabilityMapL\":\"1000000\",\"incubationPeriodMeanSec\":\"1\",\"incubationPeriodShape\":\"10000\",\"infectiousPeriodMeanSec\":\"3456000\",\"infectiousPeriodShape\":\"10000\",\"startTime\":\"2021-05-02T21:00:00Z\",\"endTime\":\"2021-06-10T09:00:00Z\",\"minimumAppVersion\":\"58\"}\n",
      "\n",
      "86: {\"name\":\"1.01-SI-incNo-(0.06,500)-repeat3\",\"seedingProbability\":\"0.1\",\"infectionProbabilityMapP\":\"0.06\",\"infectionProbabilityMapK\":\"500\",\"infectionProbabilityMapL\":\"1000000\",\"incubationPeriodMeanSec\":\"1\",\"incubationPeriodShape\":\"10000\",\"infectiousPeriodMeanSec\":\"3456000\",\"infectiousPeriodShape\":\"10000\",\"startTime\":\"2021-05-02T21:00:00Z\",\"endTime\":\"2021-06-10T09:00:00Z\",\"minimumAppVersion\":\"58\"}\n",
      "\n",
      "87: {\"name\":\"1.01-SI-incNo-(0.16,5)-repeat1\",\"seedingProbability\":\"0.1\",\"infectionProbabilityMapP\":\"0.16\",\"infectionProbabilityMapK\":\"5\",\"infectionProbabilityMapL\":\"1000000\",\"incubationPeriodMeanSec\":\"1\",\"incubationPeriodShape\":\"10000\",\"infectiousPeriodMeanSec\":\"3456000\",\"infectiousPeriodShape\":\"10000\",\"startTime\":\"2021-05-02T21:00:00Z\",\"endTime\":\"2021-06-10T09:00:00Z\",\"minimumAppVersion\":\"58\"}\n",
      "\n",
      "88: {\"name\":\"1.01-SI-incNo-(0.16,5)-repeat2\",\"seedingProbability\":\"0.1\",\"infectionProbabilityMapP\":\"0.16\",\"infectionProbabilityMapK\":\"5\",\"infectionProbabilityMapL\":\"1000000\",\"incubationPeriodMeanSec\":\"1\",\"incubationPeriodShape\":\"10000\",\"infectiousPeriodMeanSec\":\"3456000\",\"infectiousPeriodShape\":\"10000\",\"startTime\":\"2021-05-02T21:00:00Z\",\"endTime\":\"2021-06-10T09:00:00Z\",\"minimumAppVersion\":\"58\"}\n",
      "\n",
      "89: {\"name\":\"1.01-SI-incNo-(0.16,5)-repeat3\",\"seedingProbability\":\"0.1\",\"infectionProbabilityMapP\":\"0.16\",\"infectionProbabilityMapK\":\"5\",\"infectionProbabilityMapL\":\"1000000\",\"incubationPeriodMeanSec\":\"1\",\"incubationPeriodShape\":\"10000\",\"infectiousPeriodMeanSec\":\"3456000\",\"infectiousPeriodShape\":\"10000\",\"startTime\":\"2021-05-02T21:00:00Z\",\"endTime\":\"2021-06-10T09:00:00Z\",\"minimumAppVersion\":\"58\"}\n",
      "\n",
      "90: {\"name\":\"1.01-SI-incNo-(0.16,15)-repeat1\",\"seedingProbability\":\"0.1\",\"infectionProbabilityMapP\":\"0.16\",\"infectionProbabilityMapK\":\"15\",\"infectionProbabilityMapL\":\"1000000\",\"incubationPeriodMeanSec\":\"1\",\"incubationPeriodShape\":\"10000\",\"infectiousPeriodMeanSec\":\"3456000\",\"infectiousPeriodShape\":\"10000\",\"startTime\":\"2021-05-02T21:00:00Z\",\"endTime\":\"2021-06-10T09:00:00Z\",\"minimumAppVersion\":\"58\"}\n",
      "\n",
      "91: {\"name\":\"1.01-SI-incNo-(0.16,15)-repeat2\",\"seedingProbability\":\"0.1\",\"infectionProbabilityMapP\":\"0.16\",\"infectionProbabilityMapK\":\"15\",\"infectionProbabilityMapL\":\"1000000\",\"incubationPeriodMeanSec\":\"1\",\"incubationPeriodShape\":\"10000\",\"infectiousPeriodMeanSec\":\"3456000\",\"infectiousPeriodShape\":\"10000\",\"startTime\":\"2021-05-02T21:00:00Z\",\"endTime\":\"2021-06-10T09:00:00Z\",\"minimumAppVersion\":\"58\"}\n",
      "\n",
      "92: {\"name\":\"1.01-SI-incNo-(0.16,15)-repeat3\",\"seedingProbability\":\"0.1\",\"infectionProbabilityMapP\":\"0.16\",\"infectionProbabilityMapK\":\"15\",\"infectionProbabilityMapL\":\"1000000\",\"incubationPeriodMeanSec\":\"1\",\"incubationPeriodShape\":\"10000\",\"infectiousPeriodMeanSec\":\"3456000\",\"infectiousPeriodShape\":\"10000\",\"startTime\":\"2021-05-02T21:00:00Z\",\"endTime\":\"2021-06-10T09:00:00Z\",\"minimumAppVersion\":\"58\"}\n",
      "\n",
      "93: {\"name\":\"1.01-SI-incNo-(0.16,500)-repeat1\",\"seedingProbability\":\"0.1\",\"infectionProbabilityMapP\":\"0.16\",\"infectionProbabilityMapK\":\"500\",\"infectionProbabilityMapL\":\"1000000\",\"incubationPeriodMeanSec\":\"1\",\"incubationPeriodShape\":\"10000\",\"infectiousPeriodMeanSec\":\"3456000\",\"infectiousPeriodShape\":\"10000\",\"startTime\":\"2021-05-02T21:00:00Z\",\"endTime\":\"2021-06-10T09:00:00Z\",\"minimumAppVersion\":\"58\"}\n",
      "\n",
      "94: {\"name\":\"1.01-SI-incNo-(0.16,500)-repeat2\",\"seedingProbability\":\"0.1\",\"infectionProbabilityMapP\":\"0.16\",\"infectionProbabilityMapK\":\"500\",\"infectionProbabilityMapL\":\"1000000\",\"incubationPeriodMeanSec\":\"1\",\"incubationPeriodShape\":\"10000\",\"infectiousPeriodMeanSec\":\"3456000\",\"infectiousPeriodShape\":\"10000\",\"startTime\":\"2021-05-02T21:00:00Z\",\"endTime\":\"2021-06-10T09:00:00Z\",\"minimumAppVersion\":\"58\"}\n",
      "\n",
      "95: {\"name\":\"1.01-SI-incNo-(0.16,500)-repeat3\",\"seedingProbability\":\"0.1\",\"infectionProbabilityMapP\":\"0.16\",\"infectionProbabilityMapK\":\"500\",\"infectionProbabilityMapL\":\"1000000\",\"incubationPeriodMeanSec\":\"1\",\"incubationPeriodShape\":\"10000\",\"infectiousPeriodMeanSec\":\"3456000\",\"infectiousPeriodShape\":\"10000\",\"startTime\":\"2021-05-02T21:00:00Z\",\"endTime\":\"2021-06-10T09:00:00Z\",\"minimumAppVersion\":\"58\"}\n",
      "\n",
      "96: {\"name\":\"1.01-SI-incNo-(0.48,5)-repeat1\",\"seedingProbability\":\"0.1\",\"infectionProbabilityMapP\":\"0.48\",\"infectionProbabilityMapK\":\"5\",\"infectionProbabilityMapL\":\"1000000\",\"incubationPeriodMeanSec\":\"1\",\"incubationPeriodShape\":\"10000\",\"infectiousPeriodMeanSec\":\"3456000\",\"infectiousPeriodShape\":\"10000\",\"startTime\":\"2021-05-02T21:00:00Z\",\"endTime\":\"2021-06-10T09:00:00Z\",\"minimumAppVersion\":\"58\"}\n",
      "\n",
      "97: {\"name\":\"1.01-SI-incNo-(0.48,5)-repeat2\",\"seedingProbability\":\"0.1\",\"infectionProbabilityMapP\":\"0.48\",\"infectionProbabilityMapK\":\"5\",\"infectionProbabilityMapL\":\"1000000\",\"incubationPeriodMeanSec\":\"1\",\"incubationPeriodShape\":\"10000\",\"infectiousPeriodMeanSec\":\"3456000\",\"infectiousPeriodShape\":\"10000\",\"startTime\":\"2021-05-02T21:00:00Z\",\"endTime\":\"2021-06-10T09:00:00Z\",\"minimumAppVersion\":\"58\"}\n",
      "\n",
      "98: {\"name\":\"1.01-SI-incNo-(0.48,5)-repeat3\",\"seedingProbability\":\"0.1\",\"infectionProbabilityMapP\":\"0.48\",\"infectionProbabilityMapK\":\"5\",\"infectionProbabilityMapL\":\"1000000\",\"incubationPeriodMeanSec\":\"1\",\"incubationPeriodShape\":\"10000\",\"infectiousPeriodMeanSec\":\"3456000\",\"infectiousPeriodShape\":\"10000\",\"startTime\":\"2021-05-02T21:00:00Z\",\"endTime\":\"2021-06-10T09:00:00Z\",\"minimumAppVersion\":\"58\"}\n",
      "\n",
      "99: {\"name\":\"1.01-SI-incNo-(0.48,15)-repeat1\",\"seedingProbability\":\"0.1\",\"infectionProbabilityMapP\":\"0.48\",\"infectionProbabilityMapK\":\"15\",\"infectionProbabilityMapL\":\"1000000\",\"incubationPeriodMeanSec\":\"1\",\"incubationPeriodShape\":\"10000\",\"infectiousPeriodMeanSec\":\"3456000\",\"infectiousPeriodShape\":\"10000\",\"startTime\":\"2021-05-02T21:00:00Z\",\"endTime\":\"2021-06-10T09:00:00Z\",\"minimumAppVersion\":\"58\"}\n",
      "\n",
      "100: {\"name\":\"1.01-SI-incNo-(0.48,15)-repeat2\",\"seedingProbability\":\"0.1\",\"infectionProbabilityMapP\":\"0.48\",\"infectionProbabilityMapK\":\"15\",\"infectionProbabilityMapL\":\"1000000\",\"incubationPeriodMeanSec\":\"1\",\"incubationPeriodShape\":\"10000\",\"infectiousPeriodMeanSec\":\"3456000\",\"infectiousPeriodShape\":\"10000\",\"startTime\":\"2021-05-02T21:00:00Z\",\"endTime\":\"2021-06-10T09:00:00Z\",\"minimumAppVersion\":\"58\"}\n",
      "\n",
      "101: {\"name\":\"1.01-SI-incNo-(0.48,15)-repeat3\",\"seedingProbability\":\"0.1\",\"infectionProbabilityMapP\":\"0.48\",\"infectionProbabilityMapK\":\"15\",\"infectionProbabilityMapL\":\"1000000\",\"incubationPeriodMeanSec\":\"1\",\"incubationPeriodShape\":\"10000\",\"infectiousPeriodMeanSec\":\"3456000\",\"infectiousPeriodShape\":\"10000\",\"startTime\":\"2021-05-02T21:00:00Z\",\"endTime\":\"2021-06-10T09:00:00Z\",\"minimumAppVersion\":\"58\"}\n",
      "\n"
     ]
    },
    {
     "name": "stdout",
     "output_type": "stream",
     "text": [
      "102: {\"name\":\"1.01-SI-incNo-(0.48,500)-repeat1\",\"seedingProbability\":\"0.1\",\"infectionProbabilityMapP\":\"0.48\",\"infectionProbabilityMapK\":\"500\",\"infectionProbabilityMapL\":\"1000000\",\"incubationPeriodMeanSec\":\"1\",\"incubationPeriodShape\":\"10000\",\"infectiousPeriodMeanSec\":\"3456000\",\"infectiousPeriodShape\":\"10000\",\"startTime\":\"2021-05-02T21:00:00Z\",\"endTime\":\"2021-06-10T09:00:00Z\",\"minimumAppVersion\":\"58\"}\n",
      "\n",
      "103: {\"name\":\"1.01-SI-incNo-(0.48,500)-repeat2\",\"seedingProbability\":\"0.1\",\"infectionProbabilityMapP\":\"0.48\",\"infectionProbabilityMapK\":\"500\",\"infectionProbabilityMapL\":\"1000000\",\"incubationPeriodMeanSec\":\"1\",\"incubationPeriodShape\":\"10000\",\"infectiousPeriodMeanSec\":\"3456000\",\"infectiousPeriodShape\":\"10000\",\"startTime\":\"2021-05-02T21:00:00Z\",\"endTime\":\"2021-06-10T09:00:00Z\",\"minimumAppVersion\":\"58\"}\n",
      "\n",
      "104: {\"name\":\"1.01-SI-incNo-(0.48,500)-repeat3\",\"seedingProbability\":\"0.1\",\"infectionProbabilityMapP\":\"0.48\",\"infectionProbabilityMapK\":\"500\",\"infectionProbabilityMapL\":\"1000000\",\"incubationPeriodMeanSec\":\"1\",\"incubationPeriodShape\":\"10000\",\"infectiousPeriodMeanSec\":\"3456000\",\"infectiousPeriodShape\":\"10000\",\"startTime\":\"2021-05-02T21:00:00Z\",\"endTime\":\"2021-06-10T09:00:00Z\",\"minimumAppVersion\":\"58\"}\n",
      "\n",
      "105: {\"name\":\"1.01-SIR-days5-seedLow-(0.06,5)-repeat1\",\"seedingProbability\":\"0.1\",\"infectionProbabilityMapP\":\"0.06\",\"infectionProbabilityMapK\":\"5\",\"infectionProbabilityMapL\":\"1000000\",\"incubationPeriodMeanSec\":\"43200\",\"incubationPeriodShape\":\"10000\",\"infectiousPeriodMeanSec\":\"432000\",\"infectiousPeriodShape\":\"3\",\"startTime\":\"2021-05-02T21:00:00Z\",\"endTime\":\"2021-06-10T09:00:00Z\",\"minimumAppVersion\":\"58\"}\n",
      "\n",
      "106: {\"name\":\"1.01-SIR-days5-seedLow-(0.06,5)-repeat2\",\"seedingProbability\":\"0.1\",\"infectionProbabilityMapP\":\"0.06\",\"infectionProbabilityMapK\":\"5\",\"infectionProbabilityMapL\":\"1000000\",\"incubationPeriodMeanSec\":\"43200\",\"incubationPeriodShape\":\"10000\",\"infectiousPeriodMeanSec\":\"432000\",\"infectiousPeriodShape\":\"3\",\"startTime\":\"2021-05-02T21:00:00Z\",\"endTime\":\"2021-06-10T09:00:00Z\",\"minimumAppVersion\":\"58\"}\n",
      "\n",
      "107: {\"name\":\"1.01-SIR-days5-seedLow-(0.06,5)-repeat3\",\"seedingProbability\":\"0.1\",\"infectionProbabilityMapP\":\"0.06\",\"infectionProbabilityMapK\":\"5\",\"infectionProbabilityMapL\":\"1000000\",\"incubationPeriodMeanSec\":\"43200\",\"incubationPeriodShape\":\"10000\",\"infectiousPeriodMeanSec\":\"432000\",\"infectiousPeriodShape\":\"3\",\"startTime\":\"2021-05-02T21:00:00Z\",\"endTime\":\"2021-06-10T09:00:00Z\",\"minimumAppVersion\":\"58\"}\n",
      "\n",
      "108: {\"name\":\"1.01-SIR-days5-seedLow-(0.06,15)-repeat1\",\"seedingProbability\":\"0.1\",\"infectionProbabilityMapP\":\"0.06\",\"infectionProbabilityMapK\":\"15\",\"infectionProbabilityMapL\":\"1000000\",\"incubationPeriodMeanSec\":\"43200\",\"incubationPeriodShape\":\"10000\",\"infectiousPeriodMeanSec\":\"432000\",\"infectiousPeriodShape\":\"3\",\"startTime\":\"2021-05-02T21:00:00Z\",\"endTime\":\"2021-06-10T09:00:00Z\",\"minimumAppVersion\":\"58\"}\n",
      "\n",
      "109: {\"name\":\"1.01-SIR-days5-seedLow-(0.06,15)-repeat2\",\"seedingProbability\":\"0.1\",\"infectionProbabilityMapP\":\"0.06\",\"infectionProbabilityMapK\":\"15\",\"infectionProbabilityMapL\":\"1000000\",\"incubationPeriodMeanSec\":\"43200\",\"incubationPeriodShape\":\"10000\",\"infectiousPeriodMeanSec\":\"432000\",\"infectiousPeriodShape\":\"3\",\"startTime\":\"2021-05-02T21:00:00Z\",\"endTime\":\"2021-06-10T09:00:00Z\",\"minimumAppVersion\":\"58\"}\n",
      "\n",
      "110: {\"name\":\"1.01-SIR-days5-seedLow-(0.06,15)-repeat3\",\"seedingProbability\":\"0.1\",\"infectionProbabilityMapP\":\"0.06\",\"infectionProbabilityMapK\":\"15\",\"infectionProbabilityMapL\":\"1000000\",\"incubationPeriodMeanSec\":\"43200\",\"incubationPeriodShape\":\"10000\",\"infectiousPeriodMeanSec\":\"432000\",\"infectiousPeriodShape\":\"3\",\"startTime\":\"2021-05-02T21:00:00Z\",\"endTime\":\"2021-06-10T09:00:00Z\",\"minimumAppVersion\":\"58\"}\n",
      "\n",
      "111: {\"name\":\"1.01-SIR-days5-seedLow-(0.06,500)-repeat1\",\"seedingProbability\":\"0.1\",\"infectionProbabilityMapP\":\"0.06\",\"infectionProbabilityMapK\":\"500\",\"infectionProbabilityMapL\":\"1000000\",\"incubationPeriodMeanSec\":\"43200\",\"incubationPeriodShape\":\"10000\",\"infectiousPeriodMeanSec\":\"432000\",\"infectiousPeriodShape\":\"3\",\"startTime\":\"2021-05-02T21:00:00Z\",\"endTime\":\"2021-06-10T09:00:00Z\",\"minimumAppVersion\":\"58\"}\n",
      "\n",
      "112: {\"name\":\"1.01-SIR-days5-seedLow-(0.06,500)-repeat2\",\"seedingProbability\":\"0.1\",\"infectionProbabilityMapP\":\"0.06\",\"infectionProbabilityMapK\":\"500\",\"infectionProbabilityMapL\":\"1000000\",\"incubationPeriodMeanSec\":\"43200\",\"incubationPeriodShape\":\"10000\",\"infectiousPeriodMeanSec\":\"432000\",\"infectiousPeriodShape\":\"3\",\"startTime\":\"2021-05-02T21:00:00Z\",\"endTime\":\"2021-06-10T09:00:00Z\",\"minimumAppVersion\":\"58\"}\n",
      "\n",
      "113: {\"name\":\"1.01-SIR-days5-seedLow-(0.06,500)-repeat3\",\"seedingProbability\":\"0.1\",\"infectionProbabilityMapP\":\"0.06\",\"infectionProbabilityMapK\":\"500\",\"infectionProbabilityMapL\":\"1000000\",\"incubationPeriodMeanSec\":\"43200\",\"incubationPeriodShape\":\"10000\",\"infectiousPeriodMeanSec\":\"432000\",\"infectiousPeriodShape\":\"3\",\"startTime\":\"2021-05-02T21:00:00Z\",\"endTime\":\"2021-06-10T09:00:00Z\",\"minimumAppVersion\":\"58\"}\n",
      "\n",
      "114: {\"name\":\"1.01-SIR-days5-seedLow-(0.16,5)-repeat1\",\"seedingProbability\":\"0.1\",\"infectionProbabilityMapP\":\"0.16\",\"infectionProbabilityMapK\":\"5\",\"infectionProbabilityMapL\":\"1000000\",\"incubationPeriodMeanSec\":\"43200\",\"incubationPeriodShape\":\"10000\",\"infectiousPeriodMeanSec\":\"432000\",\"infectiousPeriodShape\":\"3\",\"startTime\":\"2021-05-02T21:00:00Z\",\"endTime\":\"2021-06-10T09:00:00Z\",\"minimumAppVersion\":\"58\"}\n",
      "\n",
      "115: {\"name\":\"1.01-SIR-days5-seedLow-(0.16,5)-repeat2\",\"seedingProbability\":\"0.1\",\"infectionProbabilityMapP\":\"0.16\",\"infectionProbabilityMapK\":\"5\",\"infectionProbabilityMapL\":\"1000000\",\"incubationPeriodMeanSec\":\"43200\",\"incubationPeriodShape\":\"10000\",\"infectiousPeriodMeanSec\":\"432000\",\"infectiousPeriodShape\":\"3\",\"startTime\":\"2021-05-02T21:00:00Z\",\"endTime\":\"2021-06-10T09:00:00Z\",\"minimumAppVersion\":\"58\"}\n",
      "\n",
      "116: {\"name\":\"1.01-SIR-days5-seedLow-(0.16,5)-repeat3\",\"seedingProbability\":\"0.1\",\"infectionProbabilityMapP\":\"0.16\",\"infectionProbabilityMapK\":\"5\",\"infectionProbabilityMapL\":\"1000000\",\"incubationPeriodMeanSec\":\"43200\",\"incubationPeriodShape\":\"10000\",\"infectiousPeriodMeanSec\":\"432000\",\"infectiousPeriodShape\":\"3\",\"startTime\":\"2021-05-02T21:00:00Z\",\"endTime\":\"2021-06-10T09:00:00Z\",\"minimumAppVersion\":\"58\"}\n",
      "\n",
      "117: {\"name\":\"1.01-SIR-days5-seedLow-(0.16,15)-repeat1\",\"seedingProbability\":\"0.1\",\"infectionProbabilityMapP\":\"0.16\",\"infectionProbabilityMapK\":\"15\",\"infectionProbabilityMapL\":\"1000000\",\"incubationPeriodMeanSec\":\"43200\",\"incubationPeriodShape\":\"10000\",\"infectiousPeriodMeanSec\":\"432000\",\"infectiousPeriodShape\":\"3\",\"startTime\":\"2021-05-02T21:00:00Z\",\"endTime\":\"2021-06-10T09:00:00Z\",\"minimumAppVersion\":\"58\"}\n",
      "\n",
      "118: {\"name\":\"1.01-SIR-days5-seedLow-(0.16,15)-repeat2\",\"seedingProbability\":\"0.1\",\"infectionProbabilityMapP\":\"0.16\",\"infectionProbabilityMapK\":\"15\",\"infectionProbabilityMapL\":\"1000000\",\"incubationPeriodMeanSec\":\"43200\",\"incubationPeriodShape\":\"10000\",\"infectiousPeriodMeanSec\":\"432000\",\"infectiousPeriodShape\":\"3\",\"startTime\":\"2021-05-02T21:00:00Z\",\"endTime\":\"2021-06-10T09:00:00Z\",\"minimumAppVersion\":\"58\"}\n",
      "\n",
      "119: {\"name\":\"1.01-SIR-days5-seedLow-(0.16,15)-repeat3\",\"seedingProbability\":\"0.1\",\"infectionProbabilityMapP\":\"0.16\",\"infectionProbabilityMapK\":\"15\",\"infectionProbabilityMapL\":\"1000000\",\"incubationPeriodMeanSec\":\"43200\",\"incubationPeriodShape\":\"10000\",\"infectiousPeriodMeanSec\":\"432000\",\"infectiousPeriodShape\":\"3\",\"startTime\":\"2021-05-02T21:00:00Z\",\"endTime\":\"2021-06-10T09:00:00Z\",\"minimumAppVersion\":\"58\"}\n",
      "\n",
      "120: {\"name\":\"1.01-SIR-days5-seedLow-(0.16,500)-repeat1\",\"seedingProbability\":\"0.1\",\"infectionProbabilityMapP\":\"0.16\",\"infectionProbabilityMapK\":\"500\",\"infectionProbabilityMapL\":\"1000000\",\"incubationPeriodMeanSec\":\"43200\",\"incubationPeriodShape\":\"10000\",\"infectiousPeriodMeanSec\":\"432000\",\"infectiousPeriodShape\":\"3\",\"startTime\":\"2021-05-02T21:00:00Z\",\"endTime\":\"2021-06-10T09:00:00Z\",\"minimumAppVersion\":\"58\"}\n",
      "\n",
      "121: {\"name\":\"1.01-SIR-days5-seedLow-(0.16,500)-repeat2\",\"seedingProbability\":\"0.1\",\"infectionProbabilityMapP\":\"0.16\",\"infectionProbabilityMapK\":\"500\",\"infectionProbabilityMapL\":\"1000000\",\"incubationPeriodMeanSec\":\"43200\",\"incubationPeriodShape\":\"10000\",\"infectiousPeriodMeanSec\":\"432000\",\"infectiousPeriodShape\":\"3\",\"startTime\":\"2021-05-02T21:00:00Z\",\"endTime\":\"2021-06-10T09:00:00Z\",\"minimumAppVersion\":\"58\"}\n",
      "\n",
      "122: {\"name\":\"1.01-SIR-days5-seedLow-(0.16,500)-repeat3\",\"seedingProbability\":\"0.1\",\"infectionProbabilityMapP\":\"0.16\",\"infectionProbabilityMapK\":\"500\",\"infectionProbabilityMapL\":\"1000000\",\"incubationPeriodMeanSec\":\"43200\",\"incubationPeriodShape\":\"10000\",\"infectiousPeriodMeanSec\":\"432000\",\"infectiousPeriodShape\":\"3\",\"startTime\":\"2021-05-02T21:00:00Z\",\"endTime\":\"2021-06-10T09:00:00Z\",\"minimumAppVersion\":\"58\"}\n",
      "\n",
      "123: {\"name\":\"1.01-SIR-days5-seedLow-(0.48,5)-repeat1\",\"seedingProbability\":\"0.1\",\"infectionProbabilityMapP\":\"0.48\",\"infectionProbabilityMapK\":\"5\",\"infectionProbabilityMapL\":\"1000000\",\"incubationPeriodMeanSec\":\"43200\",\"incubationPeriodShape\":\"10000\",\"infectiousPeriodMeanSec\":\"432000\",\"infectiousPeriodShape\":\"3\",\"startTime\":\"2021-05-02T21:00:00Z\",\"endTime\":\"2021-06-10T09:00:00Z\",\"minimumAppVersion\":\"58\"}\n",
      "\n",
      "124: {\"name\":\"1.01-SIR-days5-seedLow-(0.48,5)-repeat2\",\"seedingProbability\":\"0.1\",\"infectionProbabilityMapP\":\"0.48\",\"infectionProbabilityMapK\":\"5\",\"infectionProbabilityMapL\":\"1000000\",\"incubationPeriodMeanSec\":\"43200\",\"incubationPeriodShape\":\"10000\",\"infectiousPeriodMeanSec\":\"432000\",\"infectiousPeriodShape\":\"3\",\"startTime\":\"2021-05-02T21:00:00Z\",\"endTime\":\"2021-06-10T09:00:00Z\",\"minimumAppVersion\":\"58\"}\n",
      "\n",
      "125: {\"name\":\"1.01-SIR-days5-seedLow-(0.48,5)-repeat3\",\"seedingProbability\":\"0.1\",\"infectionProbabilityMapP\":\"0.48\",\"infectionProbabilityMapK\":\"5\",\"infectionProbabilityMapL\":\"1000000\",\"incubationPeriodMeanSec\":\"43200\",\"incubationPeriodShape\":\"10000\",\"infectiousPeriodMeanSec\":\"432000\",\"infectiousPeriodShape\":\"3\",\"startTime\":\"2021-05-02T21:00:00Z\",\"endTime\":\"2021-06-10T09:00:00Z\",\"minimumAppVersion\":\"58\"}\n",
      "\n",
      "126: {\"name\":\"1.01-SIR-days5-seedLow-(0.48,15)-repeat1\",\"seedingProbability\":\"0.1\",\"infectionProbabilityMapP\":\"0.48\",\"infectionProbabilityMapK\":\"15\",\"infectionProbabilityMapL\":\"1000000\",\"incubationPeriodMeanSec\":\"43200\",\"incubationPeriodShape\":\"10000\",\"infectiousPeriodMeanSec\":\"432000\",\"infectiousPeriodShape\":\"3\",\"startTime\":\"2021-05-02T21:00:00Z\",\"endTime\":\"2021-06-10T09:00:00Z\",\"minimumAppVersion\":\"58\"}\n",
      "\n",
      "127: {\"name\":\"1.01-SIR-days5-seedLow-(0.48,15)-repeat2\",\"seedingProbability\":\"0.1\",\"infectionProbabilityMapP\":\"0.48\",\"infectionProbabilityMapK\":\"15\",\"infectionProbabilityMapL\":\"1000000\",\"incubationPeriodMeanSec\":\"43200\",\"incubationPeriodShape\":\"10000\",\"infectiousPeriodMeanSec\":\"432000\",\"infectiousPeriodShape\":\"3\",\"startTime\":\"2021-05-02T21:00:00Z\",\"endTime\":\"2021-06-10T09:00:00Z\",\"minimumAppVersion\":\"58\"}\n",
      "\n"
     ]
    },
    {
     "name": "stdout",
     "output_type": "stream",
     "text": [
      "128: {\"name\":\"1.01-SIR-days5-seedLow-(0.48,15)-repeat3\",\"seedingProbability\":\"0.1\",\"infectionProbabilityMapP\":\"0.48\",\"infectionProbabilityMapK\":\"15\",\"infectionProbabilityMapL\":\"1000000\",\"incubationPeriodMeanSec\":\"43200\",\"incubationPeriodShape\":\"10000\",\"infectiousPeriodMeanSec\":\"432000\",\"infectiousPeriodShape\":\"3\",\"startTime\":\"2021-05-02T21:00:00Z\",\"endTime\":\"2021-06-10T09:00:00Z\",\"minimumAppVersion\":\"58\"}\n",
      "\n",
      "129: {\"name\":\"1.01-SIR-days5-seedLow-(0.48,500)-repeat1\",\"seedingProbability\":\"0.1\",\"infectionProbabilityMapP\":\"0.48\",\"infectionProbabilityMapK\":\"500\",\"infectionProbabilityMapL\":\"1000000\",\"incubationPeriodMeanSec\":\"43200\",\"incubationPeriodShape\":\"10000\",\"infectiousPeriodMeanSec\":\"432000\",\"infectiousPeriodShape\":\"3\",\"startTime\":\"2021-05-02T21:00:00Z\",\"endTime\":\"2021-06-10T09:00:00Z\",\"minimumAppVersion\":\"58\"}\n",
      "\n",
      "130: {\"name\":\"1.01-SIR-days5-seedLow-(0.48,500)-repeat2\",\"seedingProbability\":\"0.1\",\"infectionProbabilityMapP\":\"0.48\",\"infectionProbabilityMapK\":\"500\",\"infectionProbabilityMapL\":\"1000000\",\"incubationPeriodMeanSec\":\"43200\",\"incubationPeriodShape\":\"10000\",\"infectiousPeriodMeanSec\":\"432000\",\"infectiousPeriodShape\":\"3\",\"startTime\":\"2021-05-02T21:00:00Z\",\"endTime\":\"2021-06-10T09:00:00Z\",\"minimumAppVersion\":\"58\"}\n",
      "\n",
      "131: {\"name\":\"1.01-SIR-days5-seedLow-(0.48,500)-repeat3\",\"seedingProbability\":\"0.1\",\"infectionProbabilityMapP\":\"0.48\",\"infectionProbabilityMapK\":\"500\",\"infectionProbabilityMapL\":\"1000000\",\"incubationPeriodMeanSec\":\"43200\",\"incubationPeriodShape\":\"10000\",\"infectiousPeriodMeanSec\":\"432000\",\"infectiousPeriodShape\":\"3\",\"startTime\":\"2021-05-02T21:00:00Z\",\"endTime\":\"2021-06-10T09:00:00Z\",\"minimumAppVersion\":\"58\"}\n",
      "\n",
      "132: {\"name\":\"1.01-SIR-days5-seedHigh-(0.06,5)-repeat1\",\"seedingProbability\":\"0.3\",\"infectionProbabilityMapP\":\"0.06\",\"infectionProbabilityMapK\":\"5\",\"infectionProbabilityMapL\":\"1000000\",\"incubationPeriodMeanSec\":\"43200\",\"incubationPeriodShape\":\"10000\",\"infectiousPeriodMeanSec\":\"432000\",\"infectiousPeriodShape\":\"3\",\"startTime\":\"2021-05-02T21:00:00Z\",\"endTime\":\"2021-06-10T09:00:00Z\",\"minimumAppVersion\":\"58\"}\n",
      "\n",
      "133: {\"name\":\"1.01-SIR-days5-seedHigh-(0.06,5)-repeat2\",\"seedingProbability\":\"0.3\",\"infectionProbabilityMapP\":\"0.06\",\"infectionProbabilityMapK\":\"5\",\"infectionProbabilityMapL\":\"1000000\",\"incubationPeriodMeanSec\":\"43200\",\"incubationPeriodShape\":\"10000\",\"infectiousPeriodMeanSec\":\"432000\",\"infectiousPeriodShape\":\"3\",\"startTime\":\"2021-05-02T21:00:00Z\",\"endTime\":\"2021-06-10T09:00:00Z\",\"minimumAppVersion\":\"58\"}\n",
      "\n",
      "134: {\"name\":\"1.01-SIR-days5-seedHigh-(0.06,5)-repeat3\",\"seedingProbability\":\"0.3\",\"infectionProbabilityMapP\":\"0.06\",\"infectionProbabilityMapK\":\"5\",\"infectionProbabilityMapL\":\"1000000\",\"incubationPeriodMeanSec\":\"43200\",\"incubationPeriodShape\":\"10000\",\"infectiousPeriodMeanSec\":\"432000\",\"infectiousPeriodShape\":\"3\",\"startTime\":\"2021-05-02T21:00:00Z\",\"endTime\":\"2021-06-10T09:00:00Z\",\"minimumAppVersion\":\"58\"}\n",
      "\n",
      "135: {\"name\":\"1.01-SIR-days5-seedHigh-(0.06,15)-repeat1\",\"seedingProbability\":\"0.3\",\"infectionProbabilityMapP\":\"0.06\",\"infectionProbabilityMapK\":\"15\",\"infectionProbabilityMapL\":\"1000000\",\"incubationPeriodMeanSec\":\"43200\",\"incubationPeriodShape\":\"10000\",\"infectiousPeriodMeanSec\":\"432000\",\"infectiousPeriodShape\":\"3\",\"startTime\":\"2021-05-02T21:00:00Z\",\"endTime\":\"2021-06-10T09:00:00Z\",\"minimumAppVersion\":\"58\"}\n",
      "\n",
      "136: {\"name\":\"1.01-SIR-days5-seedHigh-(0.06,15)-repeat2\",\"seedingProbability\":\"0.3\",\"infectionProbabilityMapP\":\"0.06\",\"infectionProbabilityMapK\":\"15\",\"infectionProbabilityMapL\":\"1000000\",\"incubationPeriodMeanSec\":\"43200\",\"incubationPeriodShape\":\"10000\",\"infectiousPeriodMeanSec\":\"432000\",\"infectiousPeriodShape\":\"3\",\"startTime\":\"2021-05-02T21:00:00Z\",\"endTime\":\"2021-06-10T09:00:00Z\",\"minimumAppVersion\":\"58\"}\n",
      "\n",
      "137: {\"name\":\"1.01-SIR-days5-seedHigh-(0.06,15)-repeat3\",\"seedingProbability\":\"0.3\",\"infectionProbabilityMapP\":\"0.06\",\"infectionProbabilityMapK\":\"15\",\"infectionProbabilityMapL\":\"1000000\",\"incubationPeriodMeanSec\":\"43200\",\"incubationPeriodShape\":\"10000\",\"infectiousPeriodMeanSec\":\"432000\",\"infectiousPeriodShape\":\"3\",\"startTime\":\"2021-05-02T21:00:00Z\",\"endTime\":\"2021-06-10T09:00:00Z\",\"minimumAppVersion\":\"58\"}\n",
      "\n",
      "138: {\"name\":\"1.01-SIR-days5-seedHigh-(0.06,500)-repeat1\",\"seedingProbability\":\"0.3\",\"infectionProbabilityMapP\":\"0.06\",\"infectionProbabilityMapK\":\"500\",\"infectionProbabilityMapL\":\"1000000\",\"incubationPeriodMeanSec\":\"43200\",\"incubationPeriodShape\":\"10000\",\"infectiousPeriodMeanSec\":\"432000\",\"infectiousPeriodShape\":\"3\",\"startTime\":\"2021-05-02T21:00:00Z\",\"endTime\":\"2021-06-10T09:00:00Z\",\"minimumAppVersion\":\"58\"}\n",
      "\n",
      "139: {\"name\":\"1.01-SIR-days5-seedHigh-(0.06,500)-repeat2\",\"seedingProbability\":\"0.3\",\"infectionProbabilityMapP\":\"0.06\",\"infectionProbabilityMapK\":\"500\",\"infectionProbabilityMapL\":\"1000000\",\"incubationPeriodMeanSec\":\"43200\",\"incubationPeriodShape\":\"10000\",\"infectiousPeriodMeanSec\":\"432000\",\"infectiousPeriodShape\":\"3\",\"startTime\":\"2021-05-02T21:00:00Z\",\"endTime\":\"2021-06-10T09:00:00Z\",\"minimumAppVersion\":\"58\"}\n",
      "\n",
      "140: {\"name\":\"1.01-SIR-days5-seedHigh-(0.06,500)-repeat3\",\"seedingProbability\":\"0.3\",\"infectionProbabilityMapP\":\"0.06\",\"infectionProbabilityMapK\":\"500\",\"infectionProbabilityMapL\":\"1000000\",\"incubationPeriodMeanSec\":\"43200\",\"incubationPeriodShape\":\"10000\",\"infectiousPeriodMeanSec\":\"432000\",\"infectiousPeriodShape\":\"3\",\"startTime\":\"2021-05-02T21:00:00Z\",\"endTime\":\"2021-06-10T09:00:00Z\",\"minimumAppVersion\":\"58\"}\n",
      "\n",
      "141: {\"name\":\"1.01-SIR-days5-seedHigh-(0.16,5)-repeat1\",\"seedingProbability\":\"0.3\",\"infectionProbabilityMapP\":\"0.16\",\"infectionProbabilityMapK\":\"5\",\"infectionProbabilityMapL\":\"1000000\",\"incubationPeriodMeanSec\":\"43200\",\"incubationPeriodShape\":\"10000\",\"infectiousPeriodMeanSec\":\"432000\",\"infectiousPeriodShape\":\"3\",\"startTime\":\"2021-05-02T21:00:00Z\",\"endTime\":\"2021-06-10T09:00:00Z\",\"minimumAppVersion\":\"58\"}\n",
      "\n",
      "142: {\"name\":\"1.01-SIR-days5-seedHigh-(0.16,5)-repeat2\",\"seedingProbability\":\"0.3\",\"infectionProbabilityMapP\":\"0.16\",\"infectionProbabilityMapK\":\"5\",\"infectionProbabilityMapL\":\"1000000\",\"incubationPeriodMeanSec\":\"43200\",\"incubationPeriodShape\":\"10000\",\"infectiousPeriodMeanSec\":\"432000\",\"infectiousPeriodShape\":\"3\",\"startTime\":\"2021-05-02T21:00:00Z\",\"endTime\":\"2021-06-10T09:00:00Z\",\"minimumAppVersion\":\"58\"}\n",
      "\n",
      "143: {\"name\":\"1.01-SIR-days5-seedHigh-(0.16,5)-repeat3\",\"seedingProbability\":\"0.3\",\"infectionProbabilityMapP\":\"0.16\",\"infectionProbabilityMapK\":\"5\",\"infectionProbabilityMapL\":\"1000000\",\"incubationPeriodMeanSec\":\"43200\",\"incubationPeriodShape\":\"10000\",\"infectiousPeriodMeanSec\":\"432000\",\"infectiousPeriodShape\":\"3\",\"startTime\":\"2021-05-02T21:00:00Z\",\"endTime\":\"2021-06-10T09:00:00Z\",\"minimumAppVersion\":\"58\"}\n",
      "\n",
      "144: {\"name\":\"1.01-SIR-days5-seedHigh-(0.16,15)-repeat1\",\"seedingProbability\":\"0.3\",\"infectionProbabilityMapP\":\"0.16\",\"infectionProbabilityMapK\":\"15\",\"infectionProbabilityMapL\":\"1000000\",\"incubationPeriodMeanSec\":\"43200\",\"incubationPeriodShape\":\"10000\",\"infectiousPeriodMeanSec\":\"432000\",\"infectiousPeriodShape\":\"3\",\"startTime\":\"2021-05-02T21:00:00Z\",\"endTime\":\"2021-06-10T09:00:00Z\",\"minimumAppVersion\":\"58\"}\n",
      "\n",
      "145: {\"name\":\"1.01-SIR-days5-seedHigh-(0.16,15)-repeat2\",\"seedingProbability\":\"0.3\",\"infectionProbabilityMapP\":\"0.16\",\"infectionProbabilityMapK\":\"15\",\"infectionProbabilityMapL\":\"1000000\",\"incubationPeriodMeanSec\":\"43200\",\"incubationPeriodShape\":\"10000\",\"infectiousPeriodMeanSec\":\"432000\",\"infectiousPeriodShape\":\"3\",\"startTime\":\"2021-05-02T21:00:00Z\",\"endTime\":\"2021-06-10T09:00:00Z\",\"minimumAppVersion\":\"58\"}\n",
      "\n",
      "146: {\"name\":\"1.01-SIR-days5-seedHigh-(0.16,15)-repeat3\",\"seedingProbability\":\"0.3\",\"infectionProbabilityMapP\":\"0.16\",\"infectionProbabilityMapK\":\"15\",\"infectionProbabilityMapL\":\"1000000\",\"incubationPeriodMeanSec\":\"43200\",\"incubationPeriodShape\":\"10000\",\"infectiousPeriodMeanSec\":\"432000\",\"infectiousPeriodShape\":\"3\",\"startTime\":\"2021-05-02T21:00:00Z\",\"endTime\":\"2021-06-10T09:00:00Z\",\"minimumAppVersion\":\"58\"}\n",
      "\n",
      "147: {\"name\":\"1.01-SIR-days5-seedHigh-(0.16,500)-repeat1\",\"seedingProbability\":\"0.3\",\"infectionProbabilityMapP\":\"0.16\",\"infectionProbabilityMapK\":\"500\",\"infectionProbabilityMapL\":\"1000000\",\"incubationPeriodMeanSec\":\"43200\",\"incubationPeriodShape\":\"10000\",\"infectiousPeriodMeanSec\":\"432000\",\"infectiousPeriodShape\":\"3\",\"startTime\":\"2021-05-02T21:00:00Z\",\"endTime\":\"2021-06-10T09:00:00Z\",\"minimumAppVersion\":\"58\"}\n",
      "\n",
      "148: {\"name\":\"1.01-SIR-days5-seedHigh-(0.16,500)-repeat2\",\"seedingProbability\":\"0.3\",\"infectionProbabilityMapP\":\"0.16\",\"infectionProbabilityMapK\":\"500\",\"infectionProbabilityMapL\":\"1000000\",\"incubationPeriodMeanSec\":\"43200\",\"incubationPeriodShape\":\"10000\",\"infectiousPeriodMeanSec\":\"432000\",\"infectiousPeriodShape\":\"3\",\"startTime\":\"2021-05-02T21:00:00Z\",\"endTime\":\"2021-06-10T09:00:00Z\",\"minimumAppVersion\":\"58\"}\n",
      "\n",
      "149: {\"name\":\"1.01-SIR-days5-seedHigh-(0.16,500)-repeat3\",\"seedingProbability\":\"0.3\",\"infectionProbabilityMapP\":\"0.16\",\"infectionProbabilityMapK\":\"500\",\"infectionProbabilityMapL\":\"1000000\",\"incubationPeriodMeanSec\":\"43200\",\"incubationPeriodShape\":\"10000\",\"infectiousPeriodMeanSec\":\"432000\",\"infectiousPeriodShape\":\"3\",\"startTime\":\"2021-05-02T21:00:00Z\",\"endTime\":\"2021-06-10T09:00:00Z\",\"minimumAppVersion\":\"58\"}\n",
      "\n",
      "150: {\"name\":\"1.01-SIR-days5-seedHigh-(0.48,5)-repeat1\",\"seedingProbability\":\"0.3\",\"infectionProbabilityMapP\":\"0.48\",\"infectionProbabilityMapK\":\"5\",\"infectionProbabilityMapL\":\"1000000\",\"incubationPeriodMeanSec\":\"43200\",\"incubationPeriodShape\":\"10000\",\"infectiousPeriodMeanSec\":\"432000\",\"infectiousPeriodShape\":\"3\",\"startTime\":\"2021-05-02T21:00:00Z\",\"endTime\":\"2021-06-10T09:00:00Z\",\"minimumAppVersion\":\"58\"}\n",
      "\n",
      "151: {\"name\":\"1.01-SIR-days5-seedHigh-(0.48,5)-repeat2\",\"seedingProbability\":\"0.3\",\"infectionProbabilityMapP\":\"0.48\",\"infectionProbabilityMapK\":\"5\",\"infectionProbabilityMapL\":\"1000000\",\"incubationPeriodMeanSec\":\"43200\",\"incubationPeriodShape\":\"10000\",\"infectiousPeriodMeanSec\":\"432000\",\"infectiousPeriodShape\":\"3\",\"startTime\":\"2021-05-02T21:00:00Z\",\"endTime\":\"2021-06-10T09:00:00Z\",\"minimumAppVersion\":\"58\"}\n",
      "\n",
      "152: {\"name\":\"1.01-SIR-days5-seedHigh-(0.48,5)-repeat3\",\"seedingProbability\":\"0.3\",\"infectionProbabilityMapP\":\"0.48\",\"infectionProbabilityMapK\":\"5\",\"infectionProbabilityMapL\":\"1000000\",\"incubationPeriodMeanSec\":\"43200\",\"incubationPeriodShape\":\"10000\",\"infectiousPeriodMeanSec\":\"432000\",\"infectiousPeriodShape\":\"3\",\"startTime\":\"2021-05-02T21:00:00Z\",\"endTime\":\"2021-06-10T09:00:00Z\",\"minimumAppVersion\":\"58\"}\n",
      "\n",
      "153: {\"name\":\"1.01-SIR-days5-seedHigh-(0.48,15)-repeat1\",\"seedingProbability\":\"0.3\",\"infectionProbabilityMapP\":\"0.48\",\"infectionProbabilityMapK\":\"15\",\"infectionProbabilityMapL\":\"1000000\",\"incubationPeriodMeanSec\":\"43200\",\"incubationPeriodShape\":\"10000\",\"infectiousPeriodMeanSec\":\"432000\",\"infectiousPeriodShape\":\"3\",\"startTime\":\"2021-05-02T21:00:00Z\",\"endTime\":\"2021-06-10T09:00:00Z\",\"minimumAppVersion\":\"58\"}\n"
     ]
    },
    {
     "name": "stdout",
     "output_type": "stream",
     "text": [
      "\n",
      "154: {\"name\":\"1.01-SIR-days5-seedHigh-(0.48,15)-repeat2\",\"seedingProbability\":\"0.3\",\"infectionProbabilityMapP\":\"0.48\",\"infectionProbabilityMapK\":\"15\",\"infectionProbabilityMapL\":\"1000000\",\"incubationPeriodMeanSec\":\"43200\",\"incubationPeriodShape\":\"10000\",\"infectiousPeriodMeanSec\":\"432000\",\"infectiousPeriodShape\":\"3\",\"startTime\":\"2021-05-02T21:00:00Z\",\"endTime\":\"2021-06-10T09:00:00Z\",\"minimumAppVersion\":\"58\"}\n",
      "\n",
      "155: {\"name\":\"1.01-SIR-days5-seedHigh-(0.48,15)-repeat3\",\"seedingProbability\":\"0.3\",\"infectionProbabilityMapP\":\"0.48\",\"infectionProbabilityMapK\":\"15\",\"infectionProbabilityMapL\":\"1000000\",\"incubationPeriodMeanSec\":\"43200\",\"incubationPeriodShape\":\"10000\",\"infectiousPeriodMeanSec\":\"432000\",\"infectiousPeriodShape\":\"3\",\"startTime\":\"2021-05-02T21:00:00Z\",\"endTime\":\"2021-06-10T09:00:00Z\",\"minimumAppVersion\":\"58\"}\n",
      "\n",
      "156: {\"name\":\"1.01-SIR-days5-seedHigh-(0.48,500)-repeat1\",\"seedingProbability\":\"0.3\",\"infectionProbabilityMapP\":\"0.48\",\"infectionProbabilityMapK\":\"500\",\"infectionProbabilityMapL\":\"1000000\",\"incubationPeriodMeanSec\":\"43200\",\"incubationPeriodShape\":\"10000\",\"infectiousPeriodMeanSec\":\"432000\",\"infectiousPeriodShape\":\"3\",\"startTime\":\"2021-05-02T21:00:00Z\",\"endTime\":\"2021-06-10T09:00:00Z\",\"minimumAppVersion\":\"58\"}\n",
      "\n",
      "157: {\"name\":\"1.01-SIR-days5-seedHigh-(0.48,500)-repeat2\",\"seedingProbability\":\"0.3\",\"infectionProbabilityMapP\":\"0.48\",\"infectionProbabilityMapK\":\"500\",\"infectionProbabilityMapL\":\"1000000\",\"incubationPeriodMeanSec\":\"43200\",\"incubationPeriodShape\":\"10000\",\"infectiousPeriodMeanSec\":\"432000\",\"infectiousPeriodShape\":\"3\",\"startTime\":\"2021-05-02T21:00:00Z\",\"endTime\":\"2021-06-10T09:00:00Z\",\"minimumAppVersion\":\"58\"}\n",
      "\n",
      "158: {\"name\":\"1.01-SIR-days5-seedHigh-(0.48,500)-repeat3\",\"seedingProbability\":\"0.3\",\"infectionProbabilityMapP\":\"0.48\",\"infectionProbabilityMapK\":\"500\",\"infectionProbabilityMapL\":\"1000000\",\"incubationPeriodMeanSec\":\"43200\",\"incubationPeriodShape\":\"10000\",\"infectiousPeriodMeanSec\":\"432000\",\"infectiousPeriodShape\":\"3\",\"startTime\":\"2021-05-02T21:00:00Z\",\"endTime\":\"2021-06-10T09:00:00Z\",\"minimumAppVersion\":\"58\"}\n",
      "\n",
      "159: {\"name\":\"1.01-SIR-days10-seedLow-(0.06,5)-repeat1\",\"seedingProbability\":\"0.1\",\"infectionProbabilityMapP\":\"0.06\",\"infectionProbabilityMapK\":\"5\",\"infectionProbabilityMapL\":\"1000000\",\"incubationPeriodMeanSec\":\"43200\",\"incubationPeriodShape\":\"10000\",\"infectiousPeriodMeanSec\":\"864000\",\"infectiousPeriodShape\":\"3\",\"startTime\":\"2021-05-02T21:00:00Z\",\"endTime\":\"2021-06-10T09:00:00Z\",\"minimumAppVersion\":\"58\"}\n",
      "\n",
      "160: {\"name\":\"1.01-SIR-days10-seedLow-(0.06,5)-repeat2\",\"seedingProbability\":\"0.1\",\"infectionProbabilityMapP\":\"0.06\",\"infectionProbabilityMapK\":\"5\",\"infectionProbabilityMapL\":\"1000000\",\"incubationPeriodMeanSec\":\"43200\",\"incubationPeriodShape\":\"10000\",\"infectiousPeriodMeanSec\":\"864000\",\"infectiousPeriodShape\":\"3\",\"startTime\":\"2021-05-02T21:00:00Z\",\"endTime\":\"2021-06-10T09:00:00Z\",\"minimumAppVersion\":\"58\"}\n",
      "\n",
      "161: {\"name\":\"1.01-SIR-days10-seedLow-(0.06,5)-repeat3\",\"seedingProbability\":\"0.1\",\"infectionProbabilityMapP\":\"0.06\",\"infectionProbabilityMapK\":\"5\",\"infectionProbabilityMapL\":\"1000000\",\"incubationPeriodMeanSec\":\"43200\",\"incubationPeriodShape\":\"10000\",\"infectiousPeriodMeanSec\":\"864000\",\"infectiousPeriodShape\":\"3\",\"startTime\":\"2021-05-02T21:00:00Z\",\"endTime\":\"2021-06-10T09:00:00Z\",\"minimumAppVersion\":\"58\"}\n",
      "\n",
      "162: {\"name\":\"1.01-SIR-days10-seedLow-(0.06,15)-repeat1\",\"seedingProbability\":\"0.1\",\"infectionProbabilityMapP\":\"0.06\",\"infectionProbabilityMapK\":\"15\",\"infectionProbabilityMapL\":\"1000000\",\"incubationPeriodMeanSec\":\"43200\",\"incubationPeriodShape\":\"10000\",\"infectiousPeriodMeanSec\":\"864000\",\"infectiousPeriodShape\":\"3\",\"startTime\":\"2021-05-02T21:00:00Z\",\"endTime\":\"2021-06-10T09:00:00Z\",\"minimumAppVersion\":\"58\"}\n",
      "\n",
      "163: {\"name\":\"1.01-SIR-days10-seedLow-(0.06,15)-repeat2\",\"seedingProbability\":\"0.1\",\"infectionProbabilityMapP\":\"0.06\",\"infectionProbabilityMapK\":\"15\",\"infectionProbabilityMapL\":\"1000000\",\"incubationPeriodMeanSec\":\"43200\",\"incubationPeriodShape\":\"10000\",\"infectiousPeriodMeanSec\":\"864000\",\"infectiousPeriodShape\":\"3\",\"startTime\":\"2021-05-02T21:00:00Z\",\"endTime\":\"2021-06-10T09:00:00Z\",\"minimumAppVersion\":\"58\"}\n",
      "\n",
      "164: {\"name\":\"1.01-SIR-days10-seedLow-(0.06,15)-repeat3\",\"seedingProbability\":\"0.1\",\"infectionProbabilityMapP\":\"0.06\",\"infectionProbabilityMapK\":\"15\",\"infectionProbabilityMapL\":\"1000000\",\"incubationPeriodMeanSec\":\"43200\",\"incubationPeriodShape\":\"10000\",\"infectiousPeriodMeanSec\":\"864000\",\"infectiousPeriodShape\":\"3\",\"startTime\":\"2021-05-02T21:00:00Z\",\"endTime\":\"2021-06-10T09:00:00Z\",\"minimumAppVersion\":\"58\"}\n",
      "\n",
      "165: {\"name\":\"1.01-SIR-days10-seedLow-(0.06,500)-repeat1\",\"seedingProbability\":\"0.1\",\"infectionProbabilityMapP\":\"0.06\",\"infectionProbabilityMapK\":\"500\",\"infectionProbabilityMapL\":\"1000000\",\"incubationPeriodMeanSec\":\"43200\",\"incubationPeriodShape\":\"10000\",\"infectiousPeriodMeanSec\":\"864000\",\"infectiousPeriodShape\":\"3\",\"startTime\":\"2021-05-02T21:00:00Z\",\"endTime\":\"2021-06-10T09:00:00Z\",\"minimumAppVersion\":\"58\"}\n",
      "\n",
      "166: {\"name\":\"1.01-SIR-days10-seedLow-(0.06,500)-repeat2\",\"seedingProbability\":\"0.1\",\"infectionProbabilityMapP\":\"0.06\",\"infectionProbabilityMapK\":\"500\",\"infectionProbabilityMapL\":\"1000000\",\"incubationPeriodMeanSec\":\"43200\",\"incubationPeriodShape\":\"10000\",\"infectiousPeriodMeanSec\":\"864000\",\"infectiousPeriodShape\":\"3\",\"startTime\":\"2021-05-02T21:00:00Z\",\"endTime\":\"2021-06-10T09:00:00Z\",\"minimumAppVersion\":\"58\"}\n",
      "\n",
      "167: {\"name\":\"1.01-SIR-days10-seedLow-(0.06,500)-repeat3\",\"seedingProbability\":\"0.1\",\"infectionProbabilityMapP\":\"0.06\",\"infectionProbabilityMapK\":\"500\",\"infectionProbabilityMapL\":\"1000000\",\"incubationPeriodMeanSec\":\"43200\",\"incubationPeriodShape\":\"10000\",\"infectiousPeriodMeanSec\":\"864000\",\"infectiousPeriodShape\":\"3\",\"startTime\":\"2021-05-02T21:00:00Z\",\"endTime\":\"2021-06-10T09:00:00Z\",\"minimumAppVersion\":\"58\"}\n",
      "\n",
      "168: {\"name\":\"1.01-SIR-days10-seedLow-(0.16,5)-repeat1\",\"seedingProbability\":\"0.1\",\"infectionProbabilityMapP\":\"0.16\",\"infectionProbabilityMapK\":\"5\",\"infectionProbabilityMapL\":\"1000000\",\"incubationPeriodMeanSec\":\"43200\",\"incubationPeriodShape\":\"10000\",\"infectiousPeriodMeanSec\":\"864000\",\"infectiousPeriodShape\":\"3\",\"startTime\":\"2021-05-02T21:00:00Z\",\"endTime\":\"2021-06-10T09:00:00Z\",\"minimumAppVersion\":\"58\"}\n",
      "\n",
      "169: {\"name\":\"1.01-SIR-days10-seedLow-(0.16,5)-repeat2\",\"seedingProbability\":\"0.1\",\"infectionProbabilityMapP\":\"0.16\",\"infectionProbabilityMapK\":\"5\",\"infectionProbabilityMapL\":\"1000000\",\"incubationPeriodMeanSec\":\"43200\",\"incubationPeriodShape\":\"10000\",\"infectiousPeriodMeanSec\":\"864000\",\"infectiousPeriodShape\":\"3\",\"startTime\":\"2021-05-02T21:00:00Z\",\"endTime\":\"2021-06-10T09:00:00Z\",\"minimumAppVersion\":\"58\"}\n",
      "\n",
      "170: {\"name\":\"1.01-SIR-days10-seedLow-(0.16,5)-repeat3\",\"seedingProbability\":\"0.1\",\"infectionProbabilityMapP\":\"0.16\",\"infectionProbabilityMapK\":\"5\",\"infectionProbabilityMapL\":\"1000000\",\"incubationPeriodMeanSec\":\"43200\",\"incubationPeriodShape\":\"10000\",\"infectiousPeriodMeanSec\":\"864000\",\"infectiousPeriodShape\":\"3\",\"startTime\":\"2021-05-02T21:00:00Z\",\"endTime\":\"2021-06-10T09:00:00Z\",\"minimumAppVersion\":\"58\"}\n",
      "\n",
      "171: {\"name\":\"1.01-SIR-days10-seedLow-(0.16,15)-repeat1\",\"seedingProbability\":\"0.1\",\"infectionProbabilityMapP\":\"0.16\",\"infectionProbabilityMapK\":\"15\",\"infectionProbabilityMapL\":\"1000000\",\"incubationPeriodMeanSec\":\"43200\",\"incubationPeriodShape\":\"10000\",\"infectiousPeriodMeanSec\":\"864000\",\"infectiousPeriodShape\":\"3\",\"startTime\":\"2021-05-02T21:00:00Z\",\"endTime\":\"2021-06-10T09:00:00Z\",\"minimumAppVersion\":\"58\"}\n",
      "\n",
      "172: {\"name\":\"1.01-SIR-days10-seedLow-(0.16,15)-repeat2\",\"seedingProbability\":\"0.1\",\"infectionProbabilityMapP\":\"0.16\",\"infectionProbabilityMapK\":\"15\",\"infectionProbabilityMapL\":\"1000000\",\"incubationPeriodMeanSec\":\"43200\",\"incubationPeriodShape\":\"10000\",\"infectiousPeriodMeanSec\":\"864000\",\"infectiousPeriodShape\":\"3\",\"startTime\":\"2021-05-02T21:00:00Z\",\"endTime\":\"2021-06-10T09:00:00Z\",\"minimumAppVersion\":\"58\"}\n",
      "\n",
      "173: {\"name\":\"1.01-SIR-days10-seedLow-(0.16,15)-repeat3\",\"seedingProbability\":\"0.1\",\"infectionProbabilityMapP\":\"0.16\",\"infectionProbabilityMapK\":\"15\",\"infectionProbabilityMapL\":\"1000000\",\"incubationPeriodMeanSec\":\"43200\",\"incubationPeriodShape\":\"10000\",\"infectiousPeriodMeanSec\":\"864000\",\"infectiousPeriodShape\":\"3\",\"startTime\":\"2021-05-02T21:00:00Z\",\"endTime\":\"2021-06-10T09:00:00Z\",\"minimumAppVersion\":\"58\"}\n",
      "\n",
      "174: {\"name\":\"1.01-SIR-days10-seedLow-(0.16,500)-repeat1\",\"seedingProbability\":\"0.1\",\"infectionProbabilityMapP\":\"0.16\",\"infectionProbabilityMapK\":\"500\",\"infectionProbabilityMapL\":\"1000000\",\"incubationPeriodMeanSec\":\"43200\",\"incubationPeriodShape\":\"10000\",\"infectiousPeriodMeanSec\":\"864000\",\"infectiousPeriodShape\":\"3\",\"startTime\":\"2021-05-02T21:00:00Z\",\"endTime\":\"2021-06-10T09:00:00Z\",\"minimumAppVersion\":\"58\"}\n",
      "\n",
      "175: {\"name\":\"1.01-SIR-days10-seedLow-(0.16,500)-repeat2\",\"seedingProbability\":\"0.1\",\"infectionProbabilityMapP\":\"0.16\",\"infectionProbabilityMapK\":\"500\",\"infectionProbabilityMapL\":\"1000000\",\"incubationPeriodMeanSec\":\"43200\",\"incubationPeriodShape\":\"10000\",\"infectiousPeriodMeanSec\":\"864000\",\"infectiousPeriodShape\":\"3\",\"startTime\":\"2021-05-02T21:00:00Z\",\"endTime\":\"2021-06-10T09:00:00Z\",\"minimumAppVersion\":\"58\"}\n",
      "\n",
      "176: {\"name\":\"1.01-SIR-days10-seedLow-(0.16,500)-repeat3\",\"seedingProbability\":\"0.1\",\"infectionProbabilityMapP\":\"0.16\",\"infectionProbabilityMapK\":\"500\",\"infectionProbabilityMapL\":\"1000000\",\"incubationPeriodMeanSec\":\"43200\",\"incubationPeriodShape\":\"10000\",\"infectiousPeriodMeanSec\":\"864000\",\"infectiousPeriodShape\":\"3\",\"startTime\":\"2021-05-02T21:00:00Z\",\"endTime\":\"2021-06-10T09:00:00Z\",\"minimumAppVersion\":\"58\"}\n",
      "\n",
      "177: {\"name\":\"1.01-SIR-days10-seedLow-(0.48,5)-repeat1\",\"seedingProbability\":\"0.1\",\"infectionProbabilityMapP\":\"0.48\",\"infectionProbabilityMapK\":\"5\",\"infectionProbabilityMapL\":\"1000000\",\"incubationPeriodMeanSec\":\"43200\",\"incubationPeriodShape\":\"10000\",\"infectiousPeriodMeanSec\":\"864000\",\"infectiousPeriodShape\":\"3\",\"startTime\":\"2021-05-02T21:00:00Z\",\"endTime\":\"2021-06-10T09:00:00Z\",\"minimumAppVersion\":\"58\"}\n",
      "\n"
     ]
    },
    {
     "name": "stdout",
     "output_type": "stream",
     "text": [
      "178: {\"name\":\"1.01-SIR-days10-seedLow-(0.48,5)-repeat2\",\"seedingProbability\":\"0.1\",\"infectionProbabilityMapP\":\"0.48\",\"infectionProbabilityMapK\":\"5\",\"infectionProbabilityMapL\":\"1000000\",\"incubationPeriodMeanSec\":\"43200\",\"incubationPeriodShape\":\"10000\",\"infectiousPeriodMeanSec\":\"864000\",\"infectiousPeriodShape\":\"3\",\"startTime\":\"2021-05-02T21:00:00Z\",\"endTime\":\"2021-06-10T09:00:00Z\",\"minimumAppVersion\":\"58\"}\n",
      "\n",
      "179: {\"name\":\"1.01-SIR-days10-seedLow-(0.48,5)-repeat3\",\"seedingProbability\":\"0.1\",\"infectionProbabilityMapP\":\"0.48\",\"infectionProbabilityMapK\":\"5\",\"infectionProbabilityMapL\":\"1000000\",\"incubationPeriodMeanSec\":\"43200\",\"incubationPeriodShape\":\"10000\",\"infectiousPeriodMeanSec\":\"864000\",\"infectiousPeriodShape\":\"3\",\"startTime\":\"2021-05-02T21:00:00Z\",\"endTime\":\"2021-06-10T09:00:00Z\",\"minimumAppVersion\":\"58\"}\n",
      "\n",
      "180: {\"name\":\"1.01-SIR-days10-seedLow-(0.48,15)-repeat1\",\"seedingProbability\":\"0.1\",\"infectionProbabilityMapP\":\"0.48\",\"infectionProbabilityMapK\":\"15\",\"infectionProbabilityMapL\":\"1000000\",\"incubationPeriodMeanSec\":\"43200\",\"incubationPeriodShape\":\"10000\",\"infectiousPeriodMeanSec\":\"864000\",\"infectiousPeriodShape\":\"3\",\"startTime\":\"2021-05-02T21:00:00Z\",\"endTime\":\"2021-06-10T09:00:00Z\",\"minimumAppVersion\":\"58\"}\n",
      "\n",
      "181: {\"name\":\"1.01-SIR-days10-seedLow-(0.48,15)-repeat2\",\"seedingProbability\":\"0.1\",\"infectionProbabilityMapP\":\"0.48\",\"infectionProbabilityMapK\":\"15\",\"infectionProbabilityMapL\":\"1000000\",\"incubationPeriodMeanSec\":\"43200\",\"incubationPeriodShape\":\"10000\",\"infectiousPeriodMeanSec\":\"864000\",\"infectiousPeriodShape\":\"3\",\"startTime\":\"2021-05-02T21:00:00Z\",\"endTime\":\"2021-06-10T09:00:00Z\",\"minimumAppVersion\":\"58\"}\n",
      "\n",
      "182: {\"name\":\"1.01-SIR-days10-seedLow-(0.48,15)-repeat3\",\"seedingProbability\":\"0.1\",\"infectionProbabilityMapP\":\"0.48\",\"infectionProbabilityMapK\":\"15\",\"infectionProbabilityMapL\":\"1000000\",\"incubationPeriodMeanSec\":\"43200\",\"incubationPeriodShape\":\"10000\",\"infectiousPeriodMeanSec\":\"864000\",\"infectiousPeriodShape\":\"3\",\"startTime\":\"2021-05-02T21:00:00Z\",\"endTime\":\"2021-06-10T09:00:00Z\",\"minimumAppVersion\":\"58\"}\n",
      "\n",
      "183: {\"name\":\"1.01-SIR-days10-seedLow-(0.48,500)-repeat1\",\"seedingProbability\":\"0.1\",\"infectionProbabilityMapP\":\"0.48\",\"infectionProbabilityMapK\":\"500\",\"infectionProbabilityMapL\":\"1000000\",\"incubationPeriodMeanSec\":\"43200\",\"incubationPeriodShape\":\"10000\",\"infectiousPeriodMeanSec\":\"864000\",\"infectiousPeriodShape\":\"3\",\"startTime\":\"2021-05-02T21:00:00Z\",\"endTime\":\"2021-06-10T09:00:00Z\",\"minimumAppVersion\":\"58\"}\n",
      "\n",
      "184: {\"name\":\"1.01-SIR-days10-seedLow-(0.48,500)-repeat2\",\"seedingProbability\":\"0.1\",\"infectionProbabilityMapP\":\"0.48\",\"infectionProbabilityMapK\":\"500\",\"infectionProbabilityMapL\":\"1000000\",\"incubationPeriodMeanSec\":\"43200\",\"incubationPeriodShape\":\"10000\",\"infectiousPeriodMeanSec\":\"864000\",\"infectiousPeriodShape\":\"3\",\"startTime\":\"2021-05-02T21:00:00Z\",\"endTime\":\"2021-06-10T09:00:00Z\",\"minimumAppVersion\":\"58\"}\n",
      "\n",
      "185: {\"name\":\"1.01-SIR-days10-seedLow-(0.48,500)-repeat3\",\"seedingProbability\":\"0.1\",\"infectionProbabilityMapP\":\"0.48\",\"infectionProbabilityMapK\":\"500\",\"infectionProbabilityMapL\":\"1000000\",\"incubationPeriodMeanSec\":\"43200\",\"incubationPeriodShape\":\"10000\",\"infectiousPeriodMeanSec\":\"864000\",\"infectiousPeriodShape\":\"3\",\"startTime\":\"2021-05-02T21:00:00Z\",\"endTime\":\"2021-06-10T09:00:00Z\",\"minimumAppVersion\":\"58\"}\n",
      "\n",
      "186: {\"name\":\"1.01-SIR-days10-seedHigh-(0.06,5)-repeat1\",\"seedingProbability\":\"0.3\",\"infectionProbabilityMapP\":\"0.06\",\"infectionProbabilityMapK\":\"5\",\"infectionProbabilityMapL\":\"1000000\",\"incubationPeriodMeanSec\":\"43200\",\"incubationPeriodShape\":\"10000\",\"infectiousPeriodMeanSec\":\"864000\",\"infectiousPeriodShape\":\"3\",\"startTime\":\"2021-05-02T21:00:00Z\",\"endTime\":\"2021-06-10T09:00:00Z\",\"minimumAppVersion\":\"58\"}\n",
      "\n",
      "187: {\"name\":\"1.01-SIR-days10-seedHigh-(0.06,5)-repeat2\",\"seedingProbability\":\"0.3\",\"infectionProbabilityMapP\":\"0.06\",\"infectionProbabilityMapK\":\"5\",\"infectionProbabilityMapL\":\"1000000\",\"incubationPeriodMeanSec\":\"43200\",\"incubationPeriodShape\":\"10000\",\"infectiousPeriodMeanSec\":\"864000\",\"infectiousPeriodShape\":\"3\",\"startTime\":\"2021-05-02T21:00:00Z\",\"endTime\":\"2021-06-10T09:00:00Z\",\"minimumAppVersion\":\"58\"}\n",
      "\n",
      "188: {\"name\":\"1.01-SIR-days10-seedHigh-(0.06,5)-repeat3\",\"seedingProbability\":\"0.3\",\"infectionProbabilityMapP\":\"0.06\",\"infectionProbabilityMapK\":\"5\",\"infectionProbabilityMapL\":\"1000000\",\"incubationPeriodMeanSec\":\"43200\",\"incubationPeriodShape\":\"10000\",\"infectiousPeriodMeanSec\":\"864000\",\"infectiousPeriodShape\":\"3\",\"startTime\":\"2021-05-02T21:00:00Z\",\"endTime\":\"2021-06-10T09:00:00Z\",\"minimumAppVersion\":\"58\"}\n",
      "\n",
      "189: {\"name\":\"1.01-SIR-days10-seedHigh-(0.06,15)-repeat1\",\"seedingProbability\":\"0.3\",\"infectionProbabilityMapP\":\"0.06\",\"infectionProbabilityMapK\":\"15\",\"infectionProbabilityMapL\":\"1000000\",\"incubationPeriodMeanSec\":\"43200\",\"incubationPeriodShape\":\"10000\",\"infectiousPeriodMeanSec\":\"864000\",\"infectiousPeriodShape\":\"3\",\"startTime\":\"2021-05-02T21:00:00Z\",\"endTime\":\"2021-06-10T09:00:00Z\",\"minimumAppVersion\":\"58\"}\n",
      "\n",
      "190: {\"name\":\"1.01-SIR-days10-seedHigh-(0.06,15)-repeat2\",\"seedingProbability\":\"0.3\",\"infectionProbabilityMapP\":\"0.06\",\"infectionProbabilityMapK\":\"15\",\"infectionProbabilityMapL\":\"1000000\",\"incubationPeriodMeanSec\":\"43200\",\"incubationPeriodShape\":\"10000\",\"infectiousPeriodMeanSec\":\"864000\",\"infectiousPeriodShape\":\"3\",\"startTime\":\"2021-05-02T21:00:00Z\",\"endTime\":\"2021-06-10T09:00:00Z\",\"minimumAppVersion\":\"58\"}\n",
      "\n",
      "191: {\"name\":\"1.01-SIR-days10-seedHigh-(0.06,15)-repeat3\",\"seedingProbability\":\"0.3\",\"infectionProbabilityMapP\":\"0.06\",\"infectionProbabilityMapK\":\"15\",\"infectionProbabilityMapL\":\"1000000\",\"incubationPeriodMeanSec\":\"43200\",\"incubationPeriodShape\":\"10000\",\"infectiousPeriodMeanSec\":\"864000\",\"infectiousPeriodShape\":\"3\",\"startTime\":\"2021-05-02T21:00:00Z\",\"endTime\":\"2021-06-10T09:00:00Z\",\"minimumAppVersion\":\"58\"}\n",
      "\n",
      "192: {\"name\":\"1.01-SIR-days10-seedHigh-(0.06,500)-repeat1\",\"seedingProbability\":\"0.3\",\"infectionProbabilityMapP\":\"0.06\",\"infectionProbabilityMapK\":\"500\",\"infectionProbabilityMapL\":\"1000000\",\"incubationPeriodMeanSec\":\"43200\",\"incubationPeriodShape\":\"10000\",\"infectiousPeriodMeanSec\":\"864000\",\"infectiousPeriodShape\":\"3\",\"startTime\":\"2021-05-02T21:00:00Z\",\"endTime\":\"2021-06-10T09:00:00Z\",\"minimumAppVersion\":\"58\"}\n",
      "\n",
      "193: {\"name\":\"1.01-SIR-days10-seedHigh-(0.06,500)-repeat2\",\"seedingProbability\":\"0.3\",\"infectionProbabilityMapP\":\"0.06\",\"infectionProbabilityMapK\":\"500\",\"infectionProbabilityMapL\":\"1000000\",\"incubationPeriodMeanSec\":\"43200\",\"incubationPeriodShape\":\"10000\",\"infectiousPeriodMeanSec\":\"864000\",\"infectiousPeriodShape\":\"3\",\"startTime\":\"2021-05-02T21:00:00Z\",\"endTime\":\"2021-06-10T09:00:00Z\",\"minimumAppVersion\":\"58\"}\n",
      "\n",
      "194: {\"name\":\"1.01-SIR-days10-seedHigh-(0.06,500)-repeat3\",\"seedingProbability\":\"0.3\",\"infectionProbabilityMapP\":\"0.06\",\"infectionProbabilityMapK\":\"500\",\"infectionProbabilityMapL\":\"1000000\",\"incubationPeriodMeanSec\":\"43200\",\"incubationPeriodShape\":\"10000\",\"infectiousPeriodMeanSec\":\"864000\",\"infectiousPeriodShape\":\"3\",\"startTime\":\"2021-05-02T21:00:00Z\",\"endTime\":\"2021-06-10T09:00:00Z\",\"minimumAppVersion\":\"58\"}\n",
      "\n",
      "195: {\"name\":\"1.01-SIR-days10-seedHigh-(0.16,5)-repeat1\",\"seedingProbability\":\"0.3\",\"infectionProbabilityMapP\":\"0.16\",\"infectionProbabilityMapK\":\"5\",\"infectionProbabilityMapL\":\"1000000\",\"incubationPeriodMeanSec\":\"43200\",\"incubationPeriodShape\":\"10000\",\"infectiousPeriodMeanSec\":\"864000\",\"infectiousPeriodShape\":\"3\",\"startTime\":\"2021-05-02T21:00:00Z\",\"endTime\":\"2021-06-10T09:00:00Z\",\"minimumAppVersion\":\"58\"}\n",
      "\n",
      "196: {\"name\":\"1.01-SIR-days10-seedHigh-(0.16,5)-repeat2\",\"seedingProbability\":\"0.3\",\"infectionProbabilityMapP\":\"0.16\",\"infectionProbabilityMapK\":\"5\",\"infectionProbabilityMapL\":\"1000000\",\"incubationPeriodMeanSec\":\"43200\",\"incubationPeriodShape\":\"10000\",\"infectiousPeriodMeanSec\":\"864000\",\"infectiousPeriodShape\":\"3\",\"startTime\":\"2021-05-02T21:00:00Z\",\"endTime\":\"2021-06-10T09:00:00Z\",\"minimumAppVersion\":\"58\"}\n",
      "\n",
      "197: {\"name\":\"1.01-SIR-days10-seedHigh-(0.16,5)-repeat3\",\"seedingProbability\":\"0.3\",\"infectionProbabilityMapP\":\"0.16\",\"infectionProbabilityMapK\":\"5\",\"infectionProbabilityMapL\":\"1000000\",\"incubationPeriodMeanSec\":\"43200\",\"incubationPeriodShape\":\"10000\",\"infectiousPeriodMeanSec\":\"864000\",\"infectiousPeriodShape\":\"3\",\"startTime\":\"2021-05-02T21:00:00Z\",\"endTime\":\"2021-06-10T09:00:00Z\",\"minimumAppVersion\":\"58\"}\n",
      "\n",
      "198: {\"name\":\"1.01-SIR-days10-seedHigh-(0.16,15)-repeat1\",\"seedingProbability\":\"0.3\",\"infectionProbabilityMapP\":\"0.16\",\"infectionProbabilityMapK\":\"15\",\"infectionProbabilityMapL\":\"1000000\",\"incubationPeriodMeanSec\":\"43200\",\"incubationPeriodShape\":\"10000\",\"infectiousPeriodMeanSec\":\"864000\",\"infectiousPeriodShape\":\"3\",\"startTime\":\"2021-05-02T21:00:00Z\",\"endTime\":\"2021-06-10T09:00:00Z\",\"minimumAppVersion\":\"58\"}\n",
      "\n",
      "199: {\"name\":\"1.01-SIR-days10-seedHigh-(0.16,15)-repeat2\",\"seedingProbability\":\"0.3\",\"infectionProbabilityMapP\":\"0.16\",\"infectionProbabilityMapK\":\"15\",\"infectionProbabilityMapL\":\"1000000\",\"incubationPeriodMeanSec\":\"43200\",\"incubationPeriodShape\":\"10000\",\"infectiousPeriodMeanSec\":\"864000\",\"infectiousPeriodShape\":\"3\",\"startTime\":\"2021-05-02T21:00:00Z\",\"endTime\":\"2021-06-10T09:00:00Z\",\"minimumAppVersion\":\"58\"}\n",
      "\n",
      "200: {\"name\":\"1.01-SIR-days10-seedHigh-(0.16,15)-repeat3\",\"seedingProbability\":\"0.3\",\"infectionProbabilityMapP\":\"0.16\",\"infectionProbabilityMapK\":\"15\",\"infectionProbabilityMapL\":\"1000000\",\"incubationPeriodMeanSec\":\"43200\",\"incubationPeriodShape\":\"10000\",\"infectiousPeriodMeanSec\":\"864000\",\"infectiousPeriodShape\":\"3\",\"startTime\":\"2021-05-02T21:00:00Z\",\"endTime\":\"2021-06-10T09:00:00Z\",\"minimumAppVersion\":\"58\"}\n",
      "\n",
      "201: {\"name\":\"1.01-SIR-days10-seedHigh-(0.16,500)-repeat1\",\"seedingProbability\":\"0.3\",\"infectionProbabilityMapP\":\"0.16\",\"infectionProbabilityMapK\":\"500\",\"infectionProbabilityMapL\":\"1000000\",\"incubationPeriodMeanSec\":\"43200\",\"incubationPeriodShape\":\"10000\",\"infectiousPeriodMeanSec\":\"864000\",\"infectiousPeriodShape\":\"3\",\"startTime\":\"2021-05-02T21:00:00Z\",\"endTime\":\"2021-06-10T09:00:00Z\",\"minimumAppVersion\":\"58\"}\n",
      "\n",
      "202: {\"name\":\"1.01-SIR-days10-seedHigh-(0.16,500)-repeat2\",\"seedingProbability\":\"0.3\",\"infectionProbabilityMapP\":\"0.16\",\"infectionProbabilityMapK\":\"500\",\"infectionProbabilityMapL\":\"1000000\",\"incubationPeriodMeanSec\":\"43200\",\"incubationPeriodShape\":\"10000\",\"infectiousPeriodMeanSec\":\"864000\",\"infectiousPeriodShape\":\"3\",\"startTime\":\"2021-05-02T21:00:00Z\",\"endTime\":\"2021-06-10T09:00:00Z\",\"minimumAppVersion\":\"58\"}\n",
      "\n",
      "203: {\"name\":\"1.01-SIR-days10-seedHigh-(0.16,500)-repeat3\",\"seedingProbability\":\"0.3\",\"infectionProbabilityMapP\":\"0.16\",\"infectionProbabilityMapK\":\"500\",\"infectionProbabilityMapL\":\"1000000\",\"incubationPeriodMeanSec\":\"43200\",\"incubationPeriodShape\":\"10000\",\"infectiousPeriodMeanSec\":\"864000\",\"infectiousPeriodShape\":\"3\",\"startTime\":\"2021-05-02T21:00:00Z\",\"endTime\":\"2021-06-10T09:00:00Z\",\"minimumAppVersion\":\"58\"}\n"
     ]
    },
    {
     "name": "stdout",
     "output_type": "stream",
     "text": [
      "\n",
      "204: {\"name\":\"1.01-SIR-days10-seedHigh-(0.48,5)-repeat1\",\"seedingProbability\":\"0.3\",\"infectionProbabilityMapP\":\"0.48\",\"infectionProbabilityMapK\":\"5\",\"infectionProbabilityMapL\":\"1000000\",\"incubationPeriodMeanSec\":\"43200\",\"incubationPeriodShape\":\"10000\",\"infectiousPeriodMeanSec\":\"864000\",\"infectiousPeriodShape\":\"3\",\"startTime\":\"2021-05-02T21:00:00Z\",\"endTime\":\"2021-06-10T09:00:00Z\",\"minimumAppVersion\":\"58\"}\n",
      "\n",
      "205: {\"name\":\"1.01-SIR-days10-seedHigh-(0.48,5)-repeat2\",\"seedingProbability\":\"0.3\",\"infectionProbabilityMapP\":\"0.48\",\"infectionProbabilityMapK\":\"5\",\"infectionProbabilityMapL\":\"1000000\",\"incubationPeriodMeanSec\":\"43200\",\"incubationPeriodShape\":\"10000\",\"infectiousPeriodMeanSec\":\"864000\",\"infectiousPeriodShape\":\"3\",\"startTime\":\"2021-05-02T21:00:00Z\",\"endTime\":\"2021-06-10T09:00:00Z\",\"minimumAppVersion\":\"58\"}\n",
      "\n",
      "206: {\"name\":\"1.01-SIR-days10-seedHigh-(0.48,5)-repeat3\",\"seedingProbability\":\"0.3\",\"infectionProbabilityMapP\":\"0.48\",\"infectionProbabilityMapK\":\"5\",\"infectionProbabilityMapL\":\"1000000\",\"incubationPeriodMeanSec\":\"43200\",\"incubationPeriodShape\":\"10000\",\"infectiousPeriodMeanSec\":\"864000\",\"infectiousPeriodShape\":\"3\",\"startTime\":\"2021-05-02T21:00:00Z\",\"endTime\":\"2021-06-10T09:00:00Z\",\"minimumAppVersion\":\"58\"}\n",
      "\n",
      "207: {\"name\":\"1.01-SIR-days10-seedHigh-(0.48,15)-repeat1\",\"seedingProbability\":\"0.3\",\"infectionProbabilityMapP\":\"0.48\",\"infectionProbabilityMapK\":\"15\",\"infectionProbabilityMapL\":\"1000000\",\"incubationPeriodMeanSec\":\"43200\",\"incubationPeriodShape\":\"10000\",\"infectiousPeriodMeanSec\":\"864000\",\"infectiousPeriodShape\":\"3\",\"startTime\":\"2021-05-02T21:00:00Z\",\"endTime\":\"2021-06-10T09:00:00Z\",\"minimumAppVersion\":\"58\"}\n",
      "\n",
      "208: {\"name\":\"1.01-SIR-days10-seedHigh-(0.48,15)-repeat2\",\"seedingProbability\":\"0.3\",\"infectionProbabilityMapP\":\"0.48\",\"infectionProbabilityMapK\":\"15\",\"infectionProbabilityMapL\":\"1000000\",\"incubationPeriodMeanSec\":\"43200\",\"incubationPeriodShape\":\"10000\",\"infectiousPeriodMeanSec\":\"864000\",\"infectiousPeriodShape\":\"3\",\"startTime\":\"2021-05-02T21:00:00Z\",\"endTime\":\"2021-06-10T09:00:00Z\",\"minimumAppVersion\":\"58\"}\n",
      "\n",
      "209: {\"name\":\"1.01-SIR-days10-seedHigh-(0.48,15)-repeat3\",\"seedingProbability\":\"0.3\",\"infectionProbabilityMapP\":\"0.48\",\"infectionProbabilityMapK\":\"15\",\"infectionProbabilityMapL\":\"1000000\",\"incubationPeriodMeanSec\":\"43200\",\"incubationPeriodShape\":\"10000\",\"infectiousPeriodMeanSec\":\"864000\",\"infectiousPeriodShape\":\"3\",\"startTime\":\"2021-05-02T21:00:00Z\",\"endTime\":\"2021-06-10T09:00:00Z\",\"minimumAppVersion\":\"58\"}\n",
      "\n",
      "210: {\"name\":\"1.01-SIR-days10-seedHigh-(0.48,500)-repeat1\",\"seedingProbability\":\"0.3\",\"infectionProbabilityMapP\":\"0.48\",\"infectionProbabilityMapK\":\"500\",\"infectionProbabilityMapL\":\"1000000\",\"incubationPeriodMeanSec\":\"43200\",\"incubationPeriodShape\":\"10000\",\"infectiousPeriodMeanSec\":\"864000\",\"infectiousPeriodShape\":\"3\",\"startTime\":\"2021-05-02T21:00:00Z\",\"endTime\":\"2021-06-10T09:00:00Z\",\"minimumAppVersion\":\"58\"}\n",
      "\n",
      "211: {\"name\":\"1.01-SIR-days10-seedHigh-(0.48,500)-repeat2\",\"seedingProbability\":\"0.3\",\"infectionProbabilityMapP\":\"0.48\",\"infectionProbabilityMapK\":\"500\",\"infectionProbabilityMapL\":\"1000000\",\"incubationPeriodMeanSec\":\"43200\",\"incubationPeriodShape\":\"10000\",\"infectiousPeriodMeanSec\":\"864000\",\"infectiousPeriodShape\":\"3\",\"startTime\":\"2021-05-02T21:00:00Z\",\"endTime\":\"2021-06-10T09:00:00Z\",\"minimumAppVersion\":\"58\"}\n",
      "\n",
      "212: {\"name\":\"1.01-SIR-days10-seedHigh-(0.48,500)-repeat3\",\"seedingProbability\":\"0.3\",\"infectionProbabilityMapP\":\"0.48\",\"infectionProbabilityMapK\":\"500\",\"infectionProbabilityMapL\":\"1000000\",\"incubationPeriodMeanSec\":\"43200\",\"incubationPeriodShape\":\"10000\",\"infectiousPeriodMeanSec\":\"864000\",\"infectiousPeriodShape\":\"3\",\"startTime\":\"2021-05-02T21:00:00Z\",\"endTime\":\"2021-06-10T09:00:00Z\",\"minimumAppVersion\":\"58\"}\n",
      "\n"
     ]
    }
   ],
   "source": [
    "function strandJSON(sd::Dict{Symbol,String})\n",
    "    str = \"\"\"\n",
    "        {\\\"name\\\":\\\"$(sd[:name])\\\",\n",
    "         \\\"seedingProbability\\\":\\\"$(sd[:seedingProbability])\\\",\n",
    "         \\\"infectionProbabilityMapP\\\":\\\"$(sd[:strength])\\\",\n",
    "         \\\"infectionProbabilityMapK\\\":\\\"$(sd[:radius])\\\",\n",
    "         \\\"infectionProbabilityMapL\\\":\\\"1000000\\\",\n",
    "         \\\"incubationPeriodMeanSec\\\":\\\"$(sd[:incubationMean])\\\",\n",
    "         \\\"incubationPeriodShape\\\":\\\"$(sd[:incubationShape])\\\",\n",
    "         \\\"infectiousPeriodMeanSec\\\":\\\"$(sd[:infectionMean])\\\",\n",
    "         \\\"infectiousPeriodShape\\\":\\\"$(sd[:infectiousPeriodShape])\\\",\n",
    "         \\\"startTime\\\":\\\"$(sd[:seedTime])\\\",\n",
    "         \\\"endTime\\\":\\\"$(sd[:endTime])\\\",\n",
    "         \\\"minimumAppVersion\\\":\\\"$(sd[:minimumAppVersion])\\\"}\n",
    "    \"\"\"\n",
    "    join(map(x -> isspace(str[x]) ? \"\" : str[x], 1:length(str))) #how the $%@$% to remove white space in Julia strings?\n",
    "end\n",
    "\n",
    "strandStrings = strandJSON.(strands)\n",
    "\n",
    "newID = 50 #last strand in system\n",
    "for s in strandStrings\n",
    "    newID +=1\n",
    "    println(newID,\": \", s,\"\\n\")\n",
    "end"
   ]
  },
  {
   "cell_type": "code",
   "execution_count": 15,
   "metadata": {},
   "outputs": [
    {
     "data": {
      "text/plain": [
       "162"
      ]
     },
     "execution_count": 15,
     "metadata": {},
     "output_type": "execute_result"
    }
   ],
   "source": [
    "length(strandStrings)"
   ]
  },
  {
   "cell_type": "code",
   "execution_count": null,
   "metadata": {},
   "outputs": [],
   "source": []
  }
 ],
 "metadata": {
  "kernelspec": {
   "display_name": "Julia 1.6.0",
   "language": "julia",
   "name": "julia-1.6"
  },
  "language_info": {
   "file_extension": ".jl",
   "mimetype": "application/julia",
   "name": "julia",
   "version": "1.6.0"
  }
 },
 "nbformat": 4,
 "nbformat_minor": 4
}
