{
 "cells": [
  {
   "cell_type": "markdown",
   "metadata": {},
   "source": [
    "# Strands for Phase 1, release 0.05 (1.05)\n",
    "30 strands in total\n",
    "\n",
    "These are all SI strands with fixed strength, no incubation, and varying radius values."
   ]
  },
  {
   "cell_type": "code",
   "execution_count": 17,
   "metadata": {},
   "outputs": [],
   "source": [
    "#fixed strength and radius and num repeat configurations\n",
    "strengthArray = [0.16]\n",
    "radiusArray = [7.5,15,30,60,120,500]\n",
    "numRepeats = 5;"
   ]
  },
  {
   "cell_type": "code",
   "execution_count": 18,
   "metadata": {},
   "outputs": [],
   "source": [
    "function createRepeats(parentStrand::Dict{Symbol,String})\n",
    "    strands = Array{Dict{Symbol,String}}(undef,0)\n",
    "    for s in strengthArray, r in radiusArray, n in 1:numRepeats\n",
    "        strand = deepcopy(parentStrand)\n",
    "        strand[:name] = strand[:name]*\"-($s,$r)-repeat$n\"\n",
    "        strand[:strength] = \"$s\"\n",
    "        strand[:radius] = \"$r\"\n",
    "        push!(strands,strand)\n",
    "    end\n",
    "    strands\n",
    "end;"
   ]
  },
  {
   "cell_type": "code",
   "execution_count": 19,
   "metadata": {},
   "outputs": [],
   "source": [
    "#The base strand\n",
    "baseStrand = Dict{Symbol,String}()\n",
    "baseStrand[:seedTime] = \"2021-05-16T21:00:00Z\" #9am on Monday morning May 17 (in Auckland)\n",
    "baseStrand[:endTime] = \"2021-06-10T09:00:00Z\"#9pm in the evening of June 10 (prize 10)\n",
    "baseStrand[:minimumAppVersion] = \"59\"\n",
    "baseStrand[:name] = \"1.05-SI-incNo\"\n",
    "baseStrand[:seedingProbability] = \"0.1\"\n",
    "baseStrand[:incubationMean] = \"1\" #1 second incubation \n",
    "baseStrand[:incubationShape] = \"10000\"\n",
    "baseStrand[:infectionMean] = \"3456000\" #40 days\n",
    "baseStrand[:infectiousPeriodShape] = \"10000\";"
   ]
  },
  {
   "cell_type": "code",
   "execution_count": 20,
   "metadata": {},
   "outputs": [],
   "source": [
    "#An array that will hold all strands\n",
    "strands = createRepeats(baseStrand);"
   ]
  },
  {
   "cell_type": "code",
   "execution_count": 21,
   "metadata": {},
   "outputs": [
    {
     "data": {
      "text/plain": [
       "30"
      ]
     },
     "execution_count": 21,
     "metadata": {},
     "output_type": "execute_result"
    }
   ],
   "source": [
    "length(strands)"
   ]
  },
  {
   "cell_type": "code",
   "execution_count": 22,
   "metadata": {},
   "outputs": [
    {
     "name": "stdout",
     "output_type": "stream",
     "text": [
      "386: {\"name\":\"1.05-SI-incNo-(0.16,7.5)-repeat1\",\"seedingProbability\":\"0.1\",\"infectionProbabilityMapP\":\"0.16\",\"infectionProbabilityMapK\":\"7.5\",\"infectionProbabilityMapL\":\"1000000\",\"incubationPeriodMeanSec\":\"1\",\"incubationPeriodShape\":\"10000\",\"infectiousPeriodMeanSec\":\"3456000\",\"infectiousPeriodShape\":\"10000\",\"startTime\":\"2021-05-16T21:00:00Z\",\"endTime\":\"2021-06-10T09:00:00Z\",\"minimumAppVersion\":\"59\"}\n",
      "\n",
      "387: {\"name\":\"1.05-SI-incNo-(0.16,7.5)-repeat2\",\"seedingProbability\":\"0.1\",\"infectionProbabilityMapP\":\"0.16\",\"infectionProbabilityMapK\":\"7.5\",\"infectionProbabilityMapL\":\"1000000\",\"incubationPeriodMeanSec\":\"1\",\"incubationPeriodShape\":\"10000\",\"infectiousPeriodMeanSec\":\"3456000\",\"infectiousPeriodShape\":\"10000\",\"startTime\":\"2021-05-16T21:00:00Z\",\"endTime\":\"2021-06-10T09:00:00Z\",\"minimumAppVersion\":\"59\"}\n",
      "\n",
      "388: {\"name\":\"1.05-SI-incNo-(0.16,7.5)-repeat3\",\"seedingProbability\":\"0.1\",\"infectionProbabilityMapP\":\"0.16\",\"infectionProbabilityMapK\":\"7.5\",\"infectionProbabilityMapL\":\"1000000\",\"incubationPeriodMeanSec\":\"1\",\"incubationPeriodShape\":\"10000\",\"infectiousPeriodMeanSec\":\"3456000\",\"infectiousPeriodShape\":\"10000\",\"startTime\":\"2021-05-16T21:00:00Z\",\"endTime\":\"2021-06-10T09:00:00Z\",\"minimumAppVersion\":\"59\"}\n",
      "\n",
      "389: {\"name\":\"1.05-SI-incNo-(0.16,7.5)-repeat4\",\"seedingProbability\":\"0.1\",\"infectionProbabilityMapP\":\"0.16\",\"infectionProbabilityMapK\":\"7.5\",\"infectionProbabilityMapL\":\"1000000\",\"incubationPeriodMeanSec\":\"1\",\"incubationPeriodShape\":\"10000\",\"infectiousPeriodMeanSec\":\"3456000\",\"infectiousPeriodShape\":\"10000\",\"startTime\":\"2021-05-16T21:00:00Z\",\"endTime\":\"2021-06-10T09:00:00Z\",\"minimumAppVersion\":\"59\"}\n",
      "\n",
      "390: {\"name\":\"1.05-SI-incNo-(0.16,7.5)-repeat5\",\"seedingProbability\":\"0.1\",\"infectionProbabilityMapP\":\"0.16\",\"infectionProbabilityMapK\":\"7.5\",\"infectionProbabilityMapL\":\"1000000\",\"incubationPeriodMeanSec\":\"1\",\"incubationPeriodShape\":\"10000\",\"infectiousPeriodMeanSec\":\"3456000\",\"infectiousPeriodShape\":\"10000\",\"startTime\":\"2021-05-16T21:00:00Z\",\"endTime\":\"2021-06-10T09:00:00Z\",\"minimumAppVersion\":\"59\"}\n",
      "\n",
      "391: {\"name\":\"1.05-SI-incNo-(0.16,15.0)-repeat1\",\"seedingProbability\":\"0.1\",\"infectionProbabilityMapP\":\"0.16\",\"infectionProbabilityMapK\":\"15.0\",\"infectionProbabilityMapL\":\"1000000\",\"incubationPeriodMeanSec\":\"1\",\"incubationPeriodShape\":\"10000\",\"infectiousPeriodMeanSec\":\"3456000\",\"infectiousPeriodShape\":\"10000\",\"startTime\":\"2021-05-16T21:00:00Z\",\"endTime\":\"2021-06-10T09:00:00Z\",\"minimumAppVersion\":\"59\"}\n",
      "\n",
      "392: {\"name\":\"1.05-SI-incNo-(0.16,15.0)-repeat2\",\"seedingProbability\":\"0.1\",\"infectionProbabilityMapP\":\"0.16\",\"infectionProbabilityMapK\":\"15.0\",\"infectionProbabilityMapL\":\"1000000\",\"incubationPeriodMeanSec\":\"1\",\"incubationPeriodShape\":\"10000\",\"infectiousPeriodMeanSec\":\"3456000\",\"infectiousPeriodShape\":\"10000\",\"startTime\":\"2021-05-16T21:00:00Z\",\"endTime\":\"2021-06-10T09:00:00Z\",\"minimumAppVersion\":\"59\"}\n",
      "\n",
      "393: {\"name\":\"1.05-SI-incNo-(0.16,15.0)-repeat3\",\"seedingProbability\":\"0.1\",\"infectionProbabilityMapP\":\"0.16\",\"infectionProbabilityMapK\":\"15.0\",\"infectionProbabilityMapL\":\"1000000\",\"incubationPeriodMeanSec\":\"1\",\"incubationPeriodShape\":\"10000\",\"infectiousPeriodMeanSec\":\"3456000\",\"infectiousPeriodShape\":\"10000\",\"startTime\":\"2021-05-16T21:00:00Z\",\"endTime\":\"2021-06-10T09:00:00Z\",\"minimumAppVersion\":\"59\"}\n",
      "\n",
      "394: {\"name\":\"1.05-SI-incNo-(0.16,15.0)-repeat4\",\"seedingProbability\":\"0.1\",\"infectionProbabilityMapP\":\"0.16\",\"infectionProbabilityMapK\":\"15.0\",\"infectionProbabilityMapL\":\"1000000\",\"incubationPeriodMeanSec\":\"1\",\"incubationPeriodShape\":\"10000\",\"infectiousPeriodMeanSec\":\"3456000\",\"infectiousPeriodShape\":\"10000\",\"startTime\":\"2021-05-16T21:00:00Z\",\"endTime\":\"2021-06-10T09:00:00Z\",\"minimumAppVersion\":\"59\"}\n",
      "\n",
      "395: {\"name\":\"1.05-SI-incNo-(0.16,15.0)-repeat5\",\"seedingProbability\":\"0.1\",\"infectionProbabilityMapP\":\"0.16\",\"infectionProbabilityMapK\":\"15.0\",\"infectionProbabilityMapL\":\"1000000\",\"incubationPeriodMeanSec\":\"1\",\"incubationPeriodShape\":\"10000\",\"infectiousPeriodMeanSec\":\"3456000\",\"infectiousPeriodShape\":\"10000\",\"startTime\":\"2021-05-16T21:00:00Z\",\"endTime\":\"2021-06-10T09:00:00Z\",\"minimumAppVersion\":\"59\"}\n",
      "\n",
      "396: {\"name\":\"1.05-SI-incNo-(0.16,30.0)-repeat1\",\"seedingProbability\":\"0.1\",\"infectionProbabilityMapP\":\"0.16\",\"infectionProbabilityMapK\":\"30.0\",\"infectionProbabilityMapL\":\"1000000\",\"incubationPeriodMeanSec\":\"1\",\"incubationPeriodShape\":\"10000\",\"infectiousPeriodMeanSec\":\"3456000\",\"infectiousPeriodShape\":\"10000\",\"startTime\":\"2021-05-16T21:00:00Z\",\"endTime\":\"2021-06-10T09:00:00Z\",\"minimumAppVersion\":\"59\"}\n",
      "\n",
      "397: {\"name\":\"1.05-SI-incNo-(0.16,30.0)-repeat2\",\"seedingProbability\":\"0.1\",\"infectionProbabilityMapP\":\"0.16\",\"infectionProbabilityMapK\":\"30.0\",\"infectionProbabilityMapL\":\"1000000\",\"incubationPeriodMeanSec\":\"1\",\"incubationPeriodShape\":\"10000\",\"infectiousPeriodMeanSec\":\"3456000\",\"infectiousPeriodShape\":\"10000\",\"startTime\":\"2021-05-16T21:00:00Z\",\"endTime\":\"2021-06-10T09:00:00Z\",\"minimumAppVersion\":\"59\"}\n",
      "\n",
      "398: {\"name\":\"1.05-SI-incNo-(0.16,30.0)-repeat3\",\"seedingProbability\":\"0.1\",\"infectionProbabilityMapP\":\"0.16\",\"infectionProbabilityMapK\":\"30.0\",\"infectionProbabilityMapL\":\"1000000\",\"incubationPeriodMeanSec\":\"1\",\"incubationPeriodShape\":\"10000\",\"infectiousPeriodMeanSec\":\"3456000\",\"infectiousPeriodShape\":\"10000\",\"startTime\":\"2021-05-16T21:00:00Z\",\"endTime\":\"2021-06-10T09:00:00Z\",\"minimumAppVersion\":\"59\"}\n",
      "\n",
      "399: {\"name\":\"1.05-SI-incNo-(0.16,30.0)-repeat4\",\"seedingProbability\":\"0.1\",\"infectionProbabilityMapP\":\"0.16\",\"infectionProbabilityMapK\":\"30.0\",\"infectionProbabilityMapL\":\"1000000\",\"incubationPeriodMeanSec\":\"1\",\"incubationPeriodShape\":\"10000\",\"infectiousPeriodMeanSec\":\"3456000\",\"infectiousPeriodShape\":\"10000\",\"startTime\":\"2021-05-16T21:00:00Z\",\"endTime\":\"2021-06-10T09:00:00Z\",\"minimumAppVersion\":\"59\"}\n",
      "\n",
      "400: {\"name\":\"1.05-SI-incNo-(0.16,30.0)-repeat5\",\"seedingProbability\":\"0.1\",\"infectionProbabilityMapP\":\"0.16\",\"infectionProbabilityMapK\":\"30.0\",\"infectionProbabilityMapL\":\"1000000\",\"incubationPeriodMeanSec\":\"1\",\"incubationPeriodShape\":\"10000\",\"infectiousPeriodMeanSec\":\"3456000\",\"infectiousPeriodShape\":\"10000\",\"startTime\":\"2021-05-16T21:00:00Z\",\"endTime\":\"2021-06-10T09:00:00Z\",\"minimumAppVersion\":\"59\"}\n",
      "\n",
      "401: {\"name\":\"1.05-SI-incNo-(0.16,60.0)-repeat1\",\"seedingProbability\":\"0.1\",\"infectionProbabilityMapP\":\"0.16\",\"infectionProbabilityMapK\":\"60.0\",\"infectionProbabilityMapL\":\"1000000\",\"incubationPeriodMeanSec\":\"1\",\"incubationPeriodShape\":\"10000\",\"infectiousPeriodMeanSec\":\"3456000\",\"infectiousPeriodShape\":\"10000\",\"startTime\":\"2021-05-16T21:00:00Z\",\"endTime\":\"2021-06-10T09:00:00Z\",\"minimumAppVersion\":\"59\"}\n",
      "\n",
      "402: {\"name\":\"1.05-SI-incNo-(0.16,60.0)-repeat2\",\"seedingProbability\":\"0.1\",\"infectionProbabilityMapP\":\"0.16\",\"infectionProbabilityMapK\":\"60.0\",\"infectionProbabilityMapL\":\"1000000\",\"incubationPeriodMeanSec\":\"1\",\"incubationPeriodShape\":\"10000\",\"infectiousPeriodMeanSec\":\"3456000\",\"infectiousPeriodShape\":\"10000\",\"startTime\":\"2021-05-16T21:00:00Z\",\"endTime\":\"2021-06-10T09:00:00Z\",\"minimumAppVersion\":\"59\"}\n",
      "\n",
      "403: {\"name\":\"1.05-SI-incNo-(0.16,60.0)-repeat3\",\"seedingProbability\":\"0.1\",\"infectionProbabilityMapP\":\"0.16\",\"infectionProbabilityMapK\":\"60.0\",\"infectionProbabilityMapL\":\"1000000\",\"incubationPeriodMeanSec\":\"1\",\"incubationPeriodShape\":\"10000\",\"infectiousPeriodMeanSec\":\"3456000\",\"infectiousPeriodShape\":\"10000\",\"startTime\":\"2021-05-16T21:00:00Z\",\"endTime\":\"2021-06-10T09:00:00Z\",\"minimumAppVersion\":\"59\"}\n",
      "\n",
      "404: {\"name\":\"1.05-SI-incNo-(0.16,60.0)-repeat4\",\"seedingProbability\":\"0.1\",\"infectionProbabilityMapP\":\"0.16\",\"infectionProbabilityMapK\":\"60.0\",\"infectionProbabilityMapL\":\"1000000\",\"incubationPeriodMeanSec\":\"1\",\"incubationPeriodShape\":\"10000\",\"infectiousPeriodMeanSec\":\"3456000\",\"infectiousPeriodShape\":\"10000\",\"startTime\":\"2021-05-16T21:00:00Z\",\"endTime\":\"2021-06-10T09:00:00Z\",\"minimumAppVersion\":\"59\"}\n",
      "\n",
      "405: {\"name\":\"1.05-SI-incNo-(0.16,60.0)-repeat5\",\"seedingProbability\":\"0.1\",\"infectionProbabilityMapP\":\"0.16\",\"infectionProbabilityMapK\":\"60.0\",\"infectionProbabilityMapL\":\"1000000\",\"incubationPeriodMeanSec\":\"1\",\"incubationPeriodShape\":\"10000\",\"infectiousPeriodMeanSec\":\"3456000\",\"infectiousPeriodShape\":\"10000\",\"startTime\":\"2021-05-16T21:00:00Z\",\"endTime\":\"2021-06-10T09:00:00Z\",\"minimumAppVersion\":\"59\"}\n",
      "\n",
      "406: {\"name\":\"1.05-SI-incNo-(0.16,120.0)-repeat1\",\"seedingProbability\":\"0.1\",\"infectionProbabilityMapP\":\"0.16\",\"infectionProbabilityMapK\":\"120.0\",\"infectionProbabilityMapL\":\"1000000\",\"incubationPeriodMeanSec\":\"1\",\"incubationPeriodShape\":\"10000\",\"infectiousPeriodMeanSec\":\"3456000\",\"infectiousPeriodShape\":\"10000\",\"startTime\":\"2021-05-16T21:00:00Z\",\"endTime\":\"2021-06-10T09:00:00Z\",\"minimumAppVersion\":\"59\"}\n",
      "\n",
      "407: {\"name\":\"1.05-SI-incNo-(0.16,120.0)-repeat2\",\"seedingProbability\":\"0.1\",\"infectionProbabilityMapP\":\"0.16\",\"infectionProbabilityMapK\":\"120.0\",\"infectionProbabilityMapL\":\"1000000\",\"incubationPeriodMeanSec\":\"1\",\"incubationPeriodShape\":\"10000\",\"infectiousPeriodMeanSec\":\"3456000\",\"infectiousPeriodShape\":\"10000\",\"startTime\":\"2021-05-16T21:00:00Z\",\"endTime\":\"2021-06-10T09:00:00Z\",\"minimumAppVersion\":\"59\"}\n",
      "\n",
      "408: {\"name\":\"1.05-SI-incNo-(0.16,120.0)-repeat3\",\"seedingProbability\":\"0.1\",\"infectionProbabilityMapP\":\"0.16\",\"infectionProbabilityMapK\":\"120.0\",\"infectionProbabilityMapL\":\"1000000\",\"incubationPeriodMeanSec\":\"1\",\"incubationPeriodShape\":\"10000\",\"infectiousPeriodMeanSec\":\"3456000\",\"infectiousPeriodShape\":\"10000\",\"startTime\":\"2021-05-16T21:00:00Z\",\"endTime\":\"2021-06-10T09:00:00Z\",\"minimumAppVersion\":\"59\"}\n",
      "\n",
      "409: {\"name\":\"1.05-SI-incNo-(0.16,120.0)-repeat4\",\"seedingProbability\":\"0.1\",\"infectionProbabilityMapP\":\"0.16\",\"infectionProbabilityMapK\":\"120.0\",\"infectionProbabilityMapL\":\"1000000\",\"incubationPeriodMeanSec\":\"1\",\"incubationPeriodShape\":\"10000\",\"infectiousPeriodMeanSec\":\"3456000\",\"infectiousPeriodShape\":\"10000\",\"startTime\":\"2021-05-16T21:00:00Z\",\"endTime\":\"2021-06-10T09:00:00Z\",\"minimumAppVersion\":\"59\"}\n",
      "\n",
      "410: {\"name\":\"1.05-SI-incNo-(0.16,120.0)-repeat5\",\"seedingProbability\":\"0.1\",\"infectionProbabilityMapP\":\"0.16\",\"infectionProbabilityMapK\":\"120.0\",\"infectionProbabilityMapL\":\"1000000\",\"incubationPeriodMeanSec\":\"1\",\"incubationPeriodShape\":\"10000\",\"infectiousPeriodMeanSec\":\"3456000\",\"infectiousPeriodShape\":\"10000\",\"startTime\":\"2021-05-16T21:00:00Z\",\"endTime\":\"2021-06-10T09:00:00Z\",\"minimumAppVersion\":\"59\"}\n",
      "\n"
     ]
    },
    {
     "name": "stdout",
     "output_type": "stream",
     "text": [
      "411: {\"name\":\"1.05-SI-incNo-(0.16,500.0)-repeat1\",\"seedingProbability\":\"0.1\",\"infectionProbabilityMapP\":\"0.16\",\"infectionProbabilityMapK\":\"500.0\",\"infectionProbabilityMapL\":\"1000000\",\"incubationPeriodMeanSec\":\"1\",\"incubationPeriodShape\":\"10000\",\"infectiousPeriodMeanSec\":\"3456000\",\"infectiousPeriodShape\":\"10000\",\"startTime\":\"2021-05-16T21:00:00Z\",\"endTime\":\"2021-06-10T09:00:00Z\",\"minimumAppVersion\":\"59\"}\n",
      "\n",
      "412: {\"name\":\"1.05-SI-incNo-(0.16,500.0)-repeat2\",\"seedingProbability\":\"0.1\",\"infectionProbabilityMapP\":\"0.16\",\"infectionProbabilityMapK\":\"500.0\",\"infectionProbabilityMapL\":\"1000000\",\"incubationPeriodMeanSec\":\"1\",\"incubationPeriodShape\":\"10000\",\"infectiousPeriodMeanSec\":\"3456000\",\"infectiousPeriodShape\":\"10000\",\"startTime\":\"2021-05-16T21:00:00Z\",\"endTime\":\"2021-06-10T09:00:00Z\",\"minimumAppVersion\":\"59\"}\n",
      "\n",
      "413: {\"name\":\"1.05-SI-incNo-(0.16,500.0)-repeat3\",\"seedingProbability\":\"0.1\",\"infectionProbabilityMapP\":\"0.16\",\"infectionProbabilityMapK\":\"500.0\",\"infectionProbabilityMapL\":\"1000000\",\"incubationPeriodMeanSec\":\"1\",\"incubationPeriodShape\":\"10000\",\"infectiousPeriodMeanSec\":\"3456000\",\"infectiousPeriodShape\":\"10000\",\"startTime\":\"2021-05-16T21:00:00Z\",\"endTime\":\"2021-06-10T09:00:00Z\",\"minimumAppVersion\":\"59\"}\n",
      "\n",
      "414: {\"name\":\"1.05-SI-incNo-(0.16,500.0)-repeat4\",\"seedingProbability\":\"0.1\",\"infectionProbabilityMapP\":\"0.16\",\"infectionProbabilityMapK\":\"500.0\",\"infectionProbabilityMapL\":\"1000000\",\"incubationPeriodMeanSec\":\"1\",\"incubationPeriodShape\":\"10000\",\"infectiousPeriodMeanSec\":\"3456000\",\"infectiousPeriodShape\":\"10000\",\"startTime\":\"2021-05-16T21:00:00Z\",\"endTime\":\"2021-06-10T09:00:00Z\",\"minimumAppVersion\":\"59\"}\n",
      "\n",
      "415: {\"name\":\"1.05-SI-incNo-(0.16,500.0)-repeat5\",\"seedingProbability\":\"0.1\",\"infectionProbabilityMapP\":\"0.16\",\"infectionProbabilityMapK\":\"500.0\",\"infectionProbabilityMapL\":\"1000000\",\"incubationPeriodMeanSec\":\"1\",\"incubationPeriodShape\":\"10000\",\"infectiousPeriodMeanSec\":\"3456000\",\"infectiousPeriodShape\":\"10000\",\"startTime\":\"2021-05-16T21:00:00Z\",\"endTime\":\"2021-06-10T09:00:00Z\",\"minimumAppVersion\":\"59\"}\n",
      "\n"
     ]
    }
   ],
   "source": [
    "function strandJSON(sd::Dict{Symbol,String})\n",
    "    str = \"\"\"\n",
    "        {\\\"name\\\":\\\"$(sd[:name])\\\",\n",
    "         \\\"seedingProbability\\\":\\\"$(sd[:seedingProbability])\\\",\n",
    "         \\\"infectionProbabilityMapP\\\":\\\"$(sd[:strength])\\\",\n",
    "         \\\"infectionProbabilityMapK\\\":\\\"$(sd[:radius])\\\",\n",
    "         \\\"infectionProbabilityMapL\\\":\\\"1000000\\\",\n",
    "         \\\"incubationPeriodMeanSec\\\":\\\"$(sd[:incubationMean])\\\",\n",
    "         \\\"incubationPeriodShape\\\":\\\"$(sd[:incubationShape])\\\",\n",
    "         \\\"infectiousPeriodMeanSec\\\":\\\"$(sd[:infectionMean])\\\",\n",
    "         \\\"infectiousPeriodShape\\\":\\\"$(sd[:infectiousPeriodShape])\\\",\n",
    "         \\\"startTime\\\":\\\"$(sd[:seedTime])\\\",\n",
    "         \\\"endTime\\\":\\\"$(sd[:endTime])\\\",\n",
    "         \\\"minimumAppVersion\\\":\\\"$(sd[:minimumAppVersion])\\\"}\n",
    "    \"\"\"\n",
    "    join(map(x -> isspace(str[x]) ? \"\" : str[x], 1:length(str))) #how the $%@$% to remove white space in Julia strings?\n",
    "end\n",
    "\n",
    "strandStrings = strandJSON.(strands)\n",
    "\n",
    "newID = 385 #last strand in system\n",
    "for s in strandStrings\n",
    "    newID +=1\n",
    "    println(newID,\": \", s,\"\\n\")\n",
    "end"
   ]
  }
 ],
 "metadata": {
  "kernelspec": {
   "display_name": "Julia 1.6.0",
   "language": "julia",
   "name": "julia-1.6"
  },
  "language_info": {
   "file_extension": ".jl",
   "mimetype": "application/julia",
   "name": "julia",
   "version": "1.6.0"
  }
 },
 "nbformat": 4,
 "nbformat_minor": 4
}
