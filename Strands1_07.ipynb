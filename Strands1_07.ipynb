{
 "cells": [
  {
   "cell_type": "markdown",
   "metadata": {},
   "source": [
    "# Strands for Phase 1, release 0.07 (1.07)\n",
    "60 strands in total\n",
    "\n",
    "These are all SI strands with fixed strength, no incubation, and varying radius values. The release is with a view of turning on social distancing after release.\n",
    "\n",
    "While social distancing is not encoded in the strands, we will still name the repeats based on the planned level. There are 4 levels: 1.0, 1.25, 1.5, 3.0."
   ]
  },
  {
   "cell_type": "code",
   "execution_count": 1,
   "metadata": {},
   "outputs": [],
   "source": [
    "#fixed strength and radius and num repeat configurations\n",
    "strengthArray = [0.16]\n",
    "radiusArray = [20, 40, 60, 80, 100]\n",
    "numRepeats = 3 #but 4 sd levels so 3*4 = 12\n",
    "\n",
    "sd_levels = [1.0, 1.25, 1.5, 3.0];"
   ]
  },
  {
   "cell_type": "code",
   "execution_count": 2,
   "metadata": {},
   "outputs": [],
   "source": [
    "#This function is modified from previous versions. It now uses sd_levels\n",
    "function createRepeats(parentStrand::Dict{Symbol,String})\n",
    "    strands = Array{Dict{Symbol,String}}(undef,0)\n",
    "    l = length(sd_levels)\n",
    "    rl = Int(numRepeats)\n",
    "    for level in sd_levels\n",
    "        for s in strengthArray, r in radiusArray, n in 1:numRepeats\n",
    "            strand = deepcopy(parentStrand)\n",
    "            strand[:name] = strand[:name]*\"-($s,$r)-sd$level-repeat$n\"\n",
    "            strand[:strength] = \"$s\"\n",
    "            strand[:radius] = \"$r\"\n",
    "            push!(strands,strand)\n",
    "        end\n",
    "    end\n",
    "    strands\n",
    "end;"
   ]
  },
  {
   "cell_type": "code",
   "execution_count": 3,
   "metadata": {},
   "outputs": [],
   "source": [
    "#The base strand\n",
    "baseStrand = Dict{Symbol,String}()\n",
    "baseStrand[:seedTime] = \"2021-05-29T21:00:00Z\" #9am on Sunday morning May 30 (in Auckland)\n",
    "baseStrand[:endTime] = \"2021-06-10T09:00:00Z\"#9pm in the evening of June 10 (prize 10)\n",
    "baseStrand[:minimumAppVersion] = \"59\" #Version is 60\n",
    "baseStrand[:name] = \"1.07-SI-incNo\"\n",
    "baseStrand[:seedingProbability] = \"0.1\"\n",
    "baseStrand[:incubationMean] = \"1\" #1 second incubation \n",
    "baseStrand[:incubationShape] = \"10000\"\n",
    "baseStrand[:infectionMean] = \"3456000\" #40 days\n",
    "baseStrand[:infectiousPeriodShape] = \"10000\";"
   ]
  },
  {
   "cell_type": "code",
   "execution_count": 4,
   "metadata": {},
   "outputs": [],
   "source": [
    "#An array that will hold all strands\n",
    "strands = createRepeats(baseStrand);"
   ]
  },
  {
   "cell_type": "code",
   "execution_count": 5,
   "metadata": {},
   "outputs": [
    {
     "data": {
      "text/plain": [
       "60"
      ]
     },
     "execution_count": 5,
     "metadata": {},
     "output_type": "execute_result"
    }
   ],
   "source": [
    "length(strands)"
   ]
  },
  {
   "cell_type": "code",
   "execution_count": 6,
   "metadata": {},
   "outputs": [
    {
     "name": "stdout",
     "output_type": "stream",
     "text": [
      "506: {\"name\":\"1.07-SI-incNo-(0.16,20)-sd1.0-repeat1\",\"seedingProbability\":\"0.1\",\"infectionProbabilityMapP\":\"0.16\",\"infectionProbabilityMapK\":\"20\",\"infectionProbabilityMapL\":\"1000000\",\"incubationPeriodMeanSec\":\"1\",\"incubationPeriodShape\":\"10000\",\"infectiousPeriodMeanSec\":\"3456000\",\"infectiousPeriodShape\":\"10000\",\"startTime\":\"2021-05-29T21:00:00Z\",\"endTime\":\"2021-06-10T09:00:00Z\",\"minimumAppVersion\":\"59\"}\n",
      "\n",
      "507: {\"name\":\"1.07-SI-incNo-(0.16,20)-sd1.0-repeat2\",\"seedingProbability\":\"0.1\",\"infectionProbabilityMapP\":\"0.16\",\"infectionProbabilityMapK\":\"20\",\"infectionProbabilityMapL\":\"1000000\",\"incubationPeriodMeanSec\":\"1\",\"incubationPeriodShape\":\"10000\",\"infectiousPeriodMeanSec\":\"3456000\",\"infectiousPeriodShape\":\"10000\",\"startTime\":\"2021-05-29T21:00:00Z\",\"endTime\":\"2021-06-10T09:00:00Z\",\"minimumAppVersion\":\"59\"}\n",
      "\n",
      "508: {\"name\":\"1.07-SI-incNo-(0.16,20)-sd1.0-repeat3\",\"seedingProbability\":\"0.1\",\"infectionProbabilityMapP\":\"0.16\",\"infectionProbabilityMapK\":\"20\",\"infectionProbabilityMapL\":\"1000000\",\"incubationPeriodMeanSec\":\"1\",\"incubationPeriodShape\":\"10000\",\"infectiousPeriodMeanSec\":\"3456000\",\"infectiousPeriodShape\":\"10000\",\"startTime\":\"2021-05-29T21:00:00Z\",\"endTime\":\"2021-06-10T09:00:00Z\",\"minimumAppVersion\":\"59\"}\n",
      "\n",
      "509: {\"name\":\"1.07-SI-incNo-(0.16,40)-sd1.0-repeat1\",\"seedingProbability\":\"0.1\",\"infectionProbabilityMapP\":\"0.16\",\"infectionProbabilityMapK\":\"40\",\"infectionProbabilityMapL\":\"1000000\",\"incubationPeriodMeanSec\":\"1\",\"incubationPeriodShape\":\"10000\",\"infectiousPeriodMeanSec\":\"3456000\",\"infectiousPeriodShape\":\"10000\",\"startTime\":\"2021-05-29T21:00:00Z\",\"endTime\":\"2021-06-10T09:00:00Z\",\"minimumAppVersion\":\"59\"}\n",
      "\n",
      "510: {\"name\":\"1.07-SI-incNo-(0.16,40)-sd1.0-repeat2\",\"seedingProbability\":\"0.1\",\"infectionProbabilityMapP\":\"0.16\",\"infectionProbabilityMapK\":\"40\",\"infectionProbabilityMapL\":\"1000000\",\"incubationPeriodMeanSec\":\"1\",\"incubationPeriodShape\":\"10000\",\"infectiousPeriodMeanSec\":\"3456000\",\"infectiousPeriodShape\":\"10000\",\"startTime\":\"2021-05-29T21:00:00Z\",\"endTime\":\"2021-06-10T09:00:00Z\",\"minimumAppVersion\":\"59\"}\n",
      "\n",
      "511: {\"name\":\"1.07-SI-incNo-(0.16,40)-sd1.0-repeat3\",\"seedingProbability\":\"0.1\",\"infectionProbabilityMapP\":\"0.16\",\"infectionProbabilityMapK\":\"40\",\"infectionProbabilityMapL\":\"1000000\",\"incubationPeriodMeanSec\":\"1\",\"incubationPeriodShape\":\"10000\",\"infectiousPeriodMeanSec\":\"3456000\",\"infectiousPeriodShape\":\"10000\",\"startTime\":\"2021-05-29T21:00:00Z\",\"endTime\":\"2021-06-10T09:00:00Z\",\"minimumAppVersion\":\"59\"}\n",
      "\n",
      "512: {\"name\":\"1.07-SI-incNo-(0.16,60)-sd1.0-repeat1\",\"seedingProbability\":\"0.1\",\"infectionProbabilityMapP\":\"0.16\",\"infectionProbabilityMapK\":\"60\",\"infectionProbabilityMapL\":\"1000000\",\"incubationPeriodMeanSec\":\"1\",\"incubationPeriodShape\":\"10000\",\"infectiousPeriodMeanSec\":\"3456000\",\"infectiousPeriodShape\":\"10000\",\"startTime\":\"2021-05-29T21:00:00Z\",\"endTime\":\"2021-06-10T09:00:00Z\",\"minimumAppVersion\":\"59\"}\n",
      "\n",
      "513: {\"name\":\"1.07-SI-incNo-(0.16,60)-sd1.0-repeat2\",\"seedingProbability\":\"0.1\",\"infectionProbabilityMapP\":\"0.16\",\"infectionProbabilityMapK\":\"60\",\"infectionProbabilityMapL\":\"1000000\",\"incubationPeriodMeanSec\":\"1\",\"incubationPeriodShape\":\"10000\",\"infectiousPeriodMeanSec\":\"3456000\",\"infectiousPeriodShape\":\"10000\",\"startTime\":\"2021-05-29T21:00:00Z\",\"endTime\":\"2021-06-10T09:00:00Z\",\"minimumAppVersion\":\"59\"}\n",
      "\n",
      "514: {\"name\":\"1.07-SI-incNo-(0.16,60)-sd1.0-repeat3\",\"seedingProbability\":\"0.1\",\"infectionProbabilityMapP\":\"0.16\",\"infectionProbabilityMapK\":\"60\",\"infectionProbabilityMapL\":\"1000000\",\"incubationPeriodMeanSec\":\"1\",\"incubationPeriodShape\":\"10000\",\"infectiousPeriodMeanSec\":\"3456000\",\"infectiousPeriodShape\":\"10000\",\"startTime\":\"2021-05-29T21:00:00Z\",\"endTime\":\"2021-06-10T09:00:00Z\",\"minimumAppVersion\":\"59\"}\n",
      "\n",
      "515: {\"name\":\"1.07-SI-incNo-(0.16,80)-sd1.0-repeat1\",\"seedingProbability\":\"0.1\",\"infectionProbabilityMapP\":\"0.16\",\"infectionProbabilityMapK\":\"80\",\"infectionProbabilityMapL\":\"1000000\",\"incubationPeriodMeanSec\":\"1\",\"incubationPeriodShape\":\"10000\",\"infectiousPeriodMeanSec\":\"3456000\",\"infectiousPeriodShape\":\"10000\",\"startTime\":\"2021-05-29T21:00:00Z\",\"endTime\":\"2021-06-10T09:00:00Z\",\"minimumAppVersion\":\"59\"}\n",
      "\n",
      "516: {\"name\":\"1.07-SI-incNo-(0.16,80)-sd1.0-repeat2\",\"seedingProbability\":\"0.1\",\"infectionProbabilityMapP\":\"0.16\",\"infectionProbabilityMapK\":\"80\",\"infectionProbabilityMapL\":\"1000000\",\"incubationPeriodMeanSec\":\"1\",\"incubationPeriodShape\":\"10000\",\"infectiousPeriodMeanSec\":\"3456000\",\"infectiousPeriodShape\":\"10000\",\"startTime\":\"2021-05-29T21:00:00Z\",\"endTime\":\"2021-06-10T09:00:00Z\",\"minimumAppVersion\":\"59\"}\n",
      "\n",
      "517: {\"name\":\"1.07-SI-incNo-(0.16,80)-sd1.0-repeat3\",\"seedingProbability\":\"0.1\",\"infectionProbabilityMapP\":\"0.16\",\"infectionProbabilityMapK\":\"80\",\"infectionProbabilityMapL\":\"1000000\",\"incubationPeriodMeanSec\":\"1\",\"incubationPeriodShape\":\"10000\",\"infectiousPeriodMeanSec\":\"3456000\",\"infectiousPeriodShape\":\"10000\",\"startTime\":\"2021-05-29T21:00:00Z\",\"endTime\":\"2021-06-10T09:00:00Z\",\"minimumAppVersion\":\"59\"}\n",
      "\n",
      "518: {\"name\":\"1.07-SI-incNo-(0.16,100)-sd1.0-repeat1\",\"seedingProbability\":\"0.1\",\"infectionProbabilityMapP\":\"0.16\",\"infectionProbabilityMapK\":\"100\",\"infectionProbabilityMapL\":\"1000000\",\"incubationPeriodMeanSec\":\"1\",\"incubationPeriodShape\":\"10000\",\"infectiousPeriodMeanSec\":\"3456000\",\"infectiousPeriodShape\":\"10000\",\"startTime\":\"2021-05-29T21:00:00Z\",\"endTime\":\"2021-06-10T09:00:00Z\",\"minimumAppVersion\":\"59\"}\n",
      "\n",
      "519: {\"name\":\"1.07-SI-incNo-(0.16,100)-sd1.0-repeat2\",\"seedingProbability\":\"0.1\",\"infectionProbabilityMapP\":\"0.16\",\"infectionProbabilityMapK\":\"100\",\"infectionProbabilityMapL\":\"1000000\",\"incubationPeriodMeanSec\":\"1\",\"incubationPeriodShape\":\"10000\",\"infectiousPeriodMeanSec\":\"3456000\",\"infectiousPeriodShape\":\"10000\",\"startTime\":\"2021-05-29T21:00:00Z\",\"endTime\":\"2021-06-10T09:00:00Z\",\"minimumAppVersion\":\"59\"}\n",
      "\n",
      "520: {\"name\":\"1.07-SI-incNo-(0.16,100)-sd1.0-repeat3\",\"seedingProbability\":\"0.1\",\"infectionProbabilityMapP\":\"0.16\",\"infectionProbabilityMapK\":\"100\",\"infectionProbabilityMapL\":\"1000000\",\"incubationPeriodMeanSec\":\"1\",\"incubationPeriodShape\":\"10000\",\"infectiousPeriodMeanSec\":\"3456000\",\"infectiousPeriodShape\":\"10000\",\"startTime\":\"2021-05-29T21:00:00Z\",\"endTime\":\"2021-06-10T09:00:00Z\",\"minimumAppVersion\":\"59\"}\n",
      "\n",
      "521: {\"name\":\"1.07-SI-incNo-(0.16,20)-sd1.25-repeat1\",\"seedingProbability\":\"0.1\",\"infectionProbabilityMapP\":\"0.16\",\"infectionProbabilityMapK\":\"20\",\"infectionProbabilityMapL\":\"1000000\",\"incubationPeriodMeanSec\":\"1\",\"incubationPeriodShape\":\"10000\",\"infectiousPeriodMeanSec\":\"3456000\",\"infectiousPeriodShape\":\"10000\",\"startTime\":\"2021-05-29T21:00:00Z\",\"endTime\":\"2021-06-10T09:00:00Z\",\"minimumAppVersion\":\"59\"}\n",
      "\n",
      "522: {\"name\":\"1.07-SI-incNo-(0.16,20)-sd1.25-repeat2\",\"seedingProbability\":\"0.1\",\"infectionProbabilityMapP\":\"0.16\",\"infectionProbabilityMapK\":\"20\",\"infectionProbabilityMapL\":\"1000000\",\"incubationPeriodMeanSec\":\"1\",\"incubationPeriodShape\":\"10000\",\"infectiousPeriodMeanSec\":\"3456000\",\"infectiousPeriodShape\":\"10000\",\"startTime\":\"2021-05-29T21:00:00Z\",\"endTime\":\"2021-06-10T09:00:00Z\",\"minimumAppVersion\":\"59\"}\n",
      "\n",
      "523: {\"name\":\"1.07-SI-incNo-(0.16,20)-sd1.25-repeat3\",\"seedingProbability\":\"0.1\",\"infectionProbabilityMapP\":\"0.16\",\"infectionProbabilityMapK\":\"20\",\"infectionProbabilityMapL\":\"1000000\",\"incubationPeriodMeanSec\":\"1\",\"incubationPeriodShape\":\"10000\",\"infectiousPeriodMeanSec\":\"3456000\",\"infectiousPeriodShape\":\"10000\",\"startTime\":\"2021-05-29T21:00:00Z\",\"endTime\":\"2021-06-10T09:00:00Z\",\"minimumAppVersion\":\"59\"}\n",
      "\n",
      "524: {\"name\":\"1.07-SI-incNo-(0.16,40)-sd1.25-repeat1\",\"seedingProbability\":\"0.1\",\"infectionProbabilityMapP\":\"0.16\",\"infectionProbabilityMapK\":\"40\",\"infectionProbabilityMapL\":\"1000000\",\"incubationPeriodMeanSec\":\"1\",\"incubationPeriodShape\":\"10000\",\"infectiousPeriodMeanSec\":\"3456000\",\"infectiousPeriodShape\":\"10000\",\"startTime\":\"2021-05-29T21:00:00Z\",\"endTime\":\"2021-06-10T09:00:00Z\",\"minimumAppVersion\":\"59\"}\n",
      "\n",
      "525: {\"name\":\"1.07-SI-incNo-(0.16,40)-sd1.25-repeat2\",\"seedingProbability\":\"0.1\",\"infectionProbabilityMapP\":\"0.16\",\"infectionProbabilityMapK\":\"40\",\"infectionProbabilityMapL\":\"1000000\",\"incubationPeriodMeanSec\":\"1\",\"incubationPeriodShape\":\"10000\",\"infectiousPeriodMeanSec\":\"3456000\",\"infectiousPeriodShape\":\"10000\",\"startTime\":\"2021-05-29T21:00:00Z\",\"endTime\":\"2021-06-10T09:00:00Z\",\"minimumAppVersion\":\"59\"}\n",
      "\n",
      "526: {\"name\":\"1.07-SI-incNo-(0.16,40)-sd1.25-repeat3\",\"seedingProbability\":\"0.1\",\"infectionProbabilityMapP\":\"0.16\",\"infectionProbabilityMapK\":\"40\",\"infectionProbabilityMapL\":\"1000000\",\"incubationPeriodMeanSec\":\"1\",\"incubationPeriodShape\":\"10000\",\"infectiousPeriodMeanSec\":\"3456000\",\"infectiousPeriodShape\":\"10000\",\"startTime\":\"2021-05-29T21:00:00Z\",\"endTime\":\"2021-06-10T09:00:00Z\",\"minimumAppVersion\":\"59\"}\n",
      "\n",
      "527: {\"name\":\"1.07-SI-incNo-(0.16,60)-sd1.25-repeat1\",\"seedingProbability\":\"0.1\",\"infectionProbabilityMapP\":\"0.16\",\"infectionProbabilityMapK\":\"60\",\"infectionProbabilityMapL\":\"1000000\",\"incubationPeriodMeanSec\":\"1\",\"incubationPeriodShape\":\"10000\",\"infectiousPeriodMeanSec\":\"3456000\",\"infectiousPeriodShape\":\"10000\",\"startTime\":\"2021-05-29T21:00:00Z\",\"endTime\":\"2021-06-10T09:00:00Z\",\"minimumAppVersion\":\"59\"}\n",
      "\n",
      "528: {\"name\":\"1.07-SI-incNo-(0.16,60)-sd1.25-repeat2\",\"seedingProbability\":\"0.1\",\"infectionProbabilityMapP\":\"0.16\",\"infectionProbabilityMapK\":\"60\",\"infectionProbabilityMapL\":\"1000000\",\"incubationPeriodMeanSec\":\"1\",\"incubationPeriodShape\":\"10000\",\"infectiousPeriodMeanSec\":\"3456000\",\"infectiousPeriodShape\":\"10000\",\"startTime\":\"2021-05-29T21:00:00Z\",\"endTime\":\"2021-06-10T09:00:00Z\",\"minimumAppVersion\":\"59\"}\n",
      "\n",
      "529: {\"name\":\"1.07-SI-incNo-(0.16,60)-sd1.25-repeat3\",\"seedingProbability\":\"0.1\",\"infectionProbabilityMapP\":\"0.16\",\"infectionProbabilityMapK\":\"60\",\"infectionProbabilityMapL\":\"1000000\",\"incubationPeriodMeanSec\":\"1\",\"incubationPeriodShape\":\"10000\",\"infectiousPeriodMeanSec\":\"3456000\",\"infectiousPeriodShape\":\"10000\",\"startTime\":\"2021-05-29T21:00:00Z\",\"endTime\":\"2021-06-10T09:00:00Z\",\"minimumAppVersion\":\"59\"}\n",
      "\n",
      "530: {\"name\":\"1.07-SI-incNo-(0.16,80)-sd1.25-repeat1\",\"seedingProbability\":\"0.1\",\"infectionProbabilityMapP\":\"0.16\",\"infectionProbabilityMapK\":\"80\",\"infectionProbabilityMapL\":\"1000000\",\"incubationPeriodMeanSec\":\"1\",\"incubationPeriodShape\":\"10000\",\"infectiousPeriodMeanSec\":\"3456000\",\"infectiousPeriodShape\":\"10000\",\"startTime\":\"2021-05-29T21:00:00Z\",\"endTime\":\"2021-06-10T09:00:00Z\",\"minimumAppVersion\":\"59\"}\n",
      "\n"
     ]
    },
    {
     "name": "stdout",
     "output_type": "stream",
     "text": [
      "531: {\"name\":\"1.07-SI-incNo-(0.16,80)-sd1.25-repeat2\",\"seedingProbability\":\"0.1\",\"infectionProbabilityMapP\":\"0.16\",\"infectionProbabilityMapK\":\"80\",\"infectionProbabilityMapL\":\"1000000\",\"incubationPeriodMeanSec\":\"1\",\"incubationPeriodShape\":\"10000\",\"infectiousPeriodMeanSec\":\"3456000\",\"infectiousPeriodShape\":\"10000\",\"startTime\":\"2021-05-29T21:00:00Z\",\"endTime\":\"2021-06-10T09:00:00Z\",\"minimumAppVersion\":\"59\"}\n",
      "\n",
      "532: {\"name\":\"1.07-SI-incNo-(0.16,80)-sd1.25-repeat3\",\"seedingProbability\":\"0.1\",\"infectionProbabilityMapP\":\"0.16\",\"infectionProbabilityMapK\":\"80\",\"infectionProbabilityMapL\":\"1000000\",\"incubationPeriodMeanSec\":\"1\",\"incubationPeriodShape\":\"10000\",\"infectiousPeriodMeanSec\":\"3456000\",\"infectiousPeriodShape\":\"10000\",\"startTime\":\"2021-05-29T21:00:00Z\",\"endTime\":\"2021-06-10T09:00:00Z\",\"minimumAppVersion\":\"59\"}\n",
      "\n",
      "533: {\"name\":\"1.07-SI-incNo-(0.16,100)-sd1.25-repeat1\",\"seedingProbability\":\"0.1\",\"infectionProbabilityMapP\":\"0.16\",\"infectionProbabilityMapK\":\"100\",\"infectionProbabilityMapL\":\"1000000\",\"incubationPeriodMeanSec\":\"1\",\"incubationPeriodShape\":\"10000\",\"infectiousPeriodMeanSec\":\"3456000\",\"infectiousPeriodShape\":\"10000\",\"startTime\":\"2021-05-29T21:00:00Z\",\"endTime\":\"2021-06-10T09:00:00Z\",\"minimumAppVersion\":\"59\"}\n",
      "\n",
      "534: {\"name\":\"1.07-SI-incNo-(0.16,100)-sd1.25-repeat2\",\"seedingProbability\":\"0.1\",\"infectionProbabilityMapP\":\"0.16\",\"infectionProbabilityMapK\":\"100\",\"infectionProbabilityMapL\":\"1000000\",\"incubationPeriodMeanSec\":\"1\",\"incubationPeriodShape\":\"10000\",\"infectiousPeriodMeanSec\":\"3456000\",\"infectiousPeriodShape\":\"10000\",\"startTime\":\"2021-05-29T21:00:00Z\",\"endTime\":\"2021-06-10T09:00:00Z\",\"minimumAppVersion\":\"59\"}\n",
      "\n",
      "535: {\"name\":\"1.07-SI-incNo-(0.16,100)-sd1.25-repeat3\",\"seedingProbability\":\"0.1\",\"infectionProbabilityMapP\":\"0.16\",\"infectionProbabilityMapK\":\"100\",\"infectionProbabilityMapL\":\"1000000\",\"incubationPeriodMeanSec\":\"1\",\"incubationPeriodShape\":\"10000\",\"infectiousPeriodMeanSec\":\"3456000\",\"infectiousPeriodShape\":\"10000\",\"startTime\":\"2021-05-29T21:00:00Z\",\"endTime\":\"2021-06-10T09:00:00Z\",\"minimumAppVersion\":\"59\"}\n",
      "\n",
      "536: {\"name\":\"1.07-SI-incNo-(0.16,20)-sd1.5-repeat1\",\"seedingProbability\":\"0.1\",\"infectionProbabilityMapP\":\"0.16\",\"infectionProbabilityMapK\":\"20\",\"infectionProbabilityMapL\":\"1000000\",\"incubationPeriodMeanSec\":\"1\",\"incubationPeriodShape\":\"10000\",\"infectiousPeriodMeanSec\":\"3456000\",\"infectiousPeriodShape\":\"10000\",\"startTime\":\"2021-05-29T21:00:00Z\",\"endTime\":\"2021-06-10T09:00:00Z\",\"minimumAppVersion\":\"59\"}\n",
      "\n",
      "537: {\"name\":\"1.07-SI-incNo-(0.16,20)-sd1.5-repeat2\",\"seedingProbability\":\"0.1\",\"infectionProbabilityMapP\":\"0.16\",\"infectionProbabilityMapK\":\"20\",\"infectionProbabilityMapL\":\"1000000\",\"incubationPeriodMeanSec\":\"1\",\"incubationPeriodShape\":\"10000\",\"infectiousPeriodMeanSec\":\"3456000\",\"infectiousPeriodShape\":\"10000\",\"startTime\":\"2021-05-29T21:00:00Z\",\"endTime\":\"2021-06-10T09:00:00Z\",\"minimumAppVersion\":\"59\"}\n",
      "\n",
      "538: {\"name\":\"1.07-SI-incNo-(0.16,20)-sd1.5-repeat3\",\"seedingProbability\":\"0.1\",\"infectionProbabilityMapP\":\"0.16\",\"infectionProbabilityMapK\":\"20\",\"infectionProbabilityMapL\":\"1000000\",\"incubationPeriodMeanSec\":\"1\",\"incubationPeriodShape\":\"10000\",\"infectiousPeriodMeanSec\":\"3456000\",\"infectiousPeriodShape\":\"10000\",\"startTime\":\"2021-05-29T21:00:00Z\",\"endTime\":\"2021-06-10T09:00:00Z\",\"minimumAppVersion\":\"59\"}\n",
      "\n",
      "539: {\"name\":\"1.07-SI-incNo-(0.16,40)-sd1.5-repeat1\",\"seedingProbability\":\"0.1\",\"infectionProbabilityMapP\":\"0.16\",\"infectionProbabilityMapK\":\"40\",\"infectionProbabilityMapL\":\"1000000\",\"incubationPeriodMeanSec\":\"1\",\"incubationPeriodShape\":\"10000\",\"infectiousPeriodMeanSec\":\"3456000\",\"infectiousPeriodShape\":\"10000\",\"startTime\":\"2021-05-29T21:00:00Z\",\"endTime\":\"2021-06-10T09:00:00Z\",\"minimumAppVersion\":\"59\"}\n",
      "\n",
      "540: {\"name\":\"1.07-SI-incNo-(0.16,40)-sd1.5-repeat2\",\"seedingProbability\":\"0.1\",\"infectionProbabilityMapP\":\"0.16\",\"infectionProbabilityMapK\":\"40\",\"infectionProbabilityMapL\":\"1000000\",\"incubationPeriodMeanSec\":\"1\",\"incubationPeriodShape\":\"10000\",\"infectiousPeriodMeanSec\":\"3456000\",\"infectiousPeriodShape\":\"10000\",\"startTime\":\"2021-05-29T21:00:00Z\",\"endTime\":\"2021-06-10T09:00:00Z\",\"minimumAppVersion\":\"59\"}\n",
      "\n",
      "541: {\"name\":\"1.07-SI-incNo-(0.16,40)-sd1.5-repeat3\",\"seedingProbability\":\"0.1\",\"infectionProbabilityMapP\":\"0.16\",\"infectionProbabilityMapK\":\"40\",\"infectionProbabilityMapL\":\"1000000\",\"incubationPeriodMeanSec\":\"1\",\"incubationPeriodShape\":\"10000\",\"infectiousPeriodMeanSec\":\"3456000\",\"infectiousPeriodShape\":\"10000\",\"startTime\":\"2021-05-29T21:00:00Z\",\"endTime\":\"2021-06-10T09:00:00Z\",\"minimumAppVersion\":\"59\"}\n",
      "\n",
      "542: {\"name\":\"1.07-SI-incNo-(0.16,60)-sd1.5-repeat1\",\"seedingProbability\":\"0.1\",\"infectionProbabilityMapP\":\"0.16\",\"infectionProbabilityMapK\":\"60\",\"infectionProbabilityMapL\":\"1000000\",\"incubationPeriodMeanSec\":\"1\",\"incubationPeriodShape\":\"10000\",\"infectiousPeriodMeanSec\":\"3456000\",\"infectiousPeriodShape\":\"10000\",\"startTime\":\"2021-05-29T21:00:00Z\",\"endTime\":\"2021-06-10T09:00:00Z\",\"minimumAppVersion\":\"59\"}\n",
      "\n",
      "543: {\"name\":\"1.07-SI-incNo-(0.16,60)-sd1.5-repeat2\",\"seedingProbability\":\"0.1\",\"infectionProbabilityMapP\":\"0.16\",\"infectionProbabilityMapK\":\"60\",\"infectionProbabilityMapL\":\"1000000\",\"incubationPeriodMeanSec\":\"1\",\"incubationPeriodShape\":\"10000\",\"infectiousPeriodMeanSec\":\"3456000\",\"infectiousPeriodShape\":\"10000\",\"startTime\":\"2021-05-29T21:00:00Z\",\"endTime\":\"2021-06-10T09:00:00Z\",\"minimumAppVersion\":\"59\"}\n",
      "\n",
      "544: {\"name\":\"1.07-SI-incNo-(0.16,60)-sd1.5-repeat3\",\"seedingProbability\":\"0.1\",\"infectionProbabilityMapP\":\"0.16\",\"infectionProbabilityMapK\":\"60\",\"infectionProbabilityMapL\":\"1000000\",\"incubationPeriodMeanSec\":\"1\",\"incubationPeriodShape\":\"10000\",\"infectiousPeriodMeanSec\":\"3456000\",\"infectiousPeriodShape\":\"10000\",\"startTime\":\"2021-05-29T21:00:00Z\",\"endTime\":\"2021-06-10T09:00:00Z\",\"minimumAppVersion\":\"59\"}\n",
      "\n",
      "545: {\"name\":\"1.07-SI-incNo-(0.16,80)-sd1.5-repeat1\",\"seedingProbability\":\"0.1\",\"infectionProbabilityMapP\":\"0.16\",\"infectionProbabilityMapK\":\"80\",\"infectionProbabilityMapL\":\"1000000\",\"incubationPeriodMeanSec\":\"1\",\"incubationPeriodShape\":\"10000\",\"infectiousPeriodMeanSec\":\"3456000\",\"infectiousPeriodShape\":\"10000\",\"startTime\":\"2021-05-29T21:00:00Z\",\"endTime\":\"2021-06-10T09:00:00Z\",\"minimumAppVersion\":\"59\"}\n",
      "\n",
      "546: {\"name\":\"1.07-SI-incNo-(0.16,80)-sd1.5-repeat2\",\"seedingProbability\":\"0.1\",\"infectionProbabilityMapP\":\"0.16\",\"infectionProbabilityMapK\":\"80\",\"infectionProbabilityMapL\":\"1000000\",\"incubationPeriodMeanSec\":\"1\",\"incubationPeriodShape\":\"10000\",\"infectiousPeriodMeanSec\":\"3456000\",\"infectiousPeriodShape\":\"10000\",\"startTime\":\"2021-05-29T21:00:00Z\",\"endTime\":\"2021-06-10T09:00:00Z\",\"minimumAppVersion\":\"59\"}\n",
      "\n",
      "547: {\"name\":\"1.07-SI-incNo-(0.16,80)-sd1.5-repeat3\",\"seedingProbability\":\"0.1\",\"infectionProbabilityMapP\":\"0.16\",\"infectionProbabilityMapK\":\"80\",\"infectionProbabilityMapL\":\"1000000\",\"incubationPeriodMeanSec\":\"1\",\"incubationPeriodShape\":\"10000\",\"infectiousPeriodMeanSec\":\"3456000\",\"infectiousPeriodShape\":\"10000\",\"startTime\":\"2021-05-29T21:00:00Z\",\"endTime\":\"2021-06-10T09:00:00Z\",\"minimumAppVersion\":\"59\"}\n",
      "\n",
      "548: {\"name\":\"1.07-SI-incNo-(0.16,100)-sd1.5-repeat1\",\"seedingProbability\":\"0.1\",\"infectionProbabilityMapP\":\"0.16\",\"infectionProbabilityMapK\":\"100\",\"infectionProbabilityMapL\":\"1000000\",\"incubationPeriodMeanSec\":\"1\",\"incubationPeriodShape\":\"10000\",\"infectiousPeriodMeanSec\":\"3456000\",\"infectiousPeriodShape\":\"10000\",\"startTime\":\"2021-05-29T21:00:00Z\",\"endTime\":\"2021-06-10T09:00:00Z\",\"minimumAppVersion\":\"59\"}\n",
      "\n",
      "549: {\"name\":\"1.07-SI-incNo-(0.16,100)-sd1.5-repeat2\",\"seedingProbability\":\"0.1\",\"infectionProbabilityMapP\":\"0.16\",\"infectionProbabilityMapK\":\"100\",\"infectionProbabilityMapL\":\"1000000\",\"incubationPeriodMeanSec\":\"1\",\"incubationPeriodShape\":\"10000\",\"infectiousPeriodMeanSec\":\"3456000\",\"infectiousPeriodShape\":\"10000\",\"startTime\":\"2021-05-29T21:00:00Z\",\"endTime\":\"2021-06-10T09:00:00Z\",\"minimumAppVersion\":\"59\"}\n",
      "\n",
      "550: {\"name\":\"1.07-SI-incNo-(0.16,100)-sd1.5-repeat3\",\"seedingProbability\":\"0.1\",\"infectionProbabilityMapP\":\"0.16\",\"infectionProbabilityMapK\":\"100\",\"infectionProbabilityMapL\":\"1000000\",\"incubationPeriodMeanSec\":\"1\",\"incubationPeriodShape\":\"10000\",\"infectiousPeriodMeanSec\":\"3456000\",\"infectiousPeriodShape\":\"10000\",\"startTime\":\"2021-05-29T21:00:00Z\",\"endTime\":\"2021-06-10T09:00:00Z\",\"minimumAppVersion\":\"59\"}\n",
      "\n",
      "551: {\"name\":\"1.07-SI-incNo-(0.16,20)-sd3.0-repeat1\",\"seedingProbability\":\"0.1\",\"infectionProbabilityMapP\":\"0.16\",\"infectionProbabilityMapK\":\"20\",\"infectionProbabilityMapL\":\"1000000\",\"incubationPeriodMeanSec\":\"1\",\"incubationPeriodShape\":\"10000\",\"infectiousPeriodMeanSec\":\"3456000\",\"infectiousPeriodShape\":\"10000\",\"startTime\":\"2021-05-29T21:00:00Z\",\"endTime\":\"2021-06-10T09:00:00Z\",\"minimumAppVersion\":\"59\"}\n",
      "\n",
      "552: {\"name\":\"1.07-SI-incNo-(0.16,20)-sd3.0-repeat2\",\"seedingProbability\":\"0.1\",\"infectionProbabilityMapP\":\"0.16\",\"infectionProbabilityMapK\":\"20\",\"infectionProbabilityMapL\":\"1000000\",\"incubationPeriodMeanSec\":\"1\",\"incubationPeriodShape\":\"10000\",\"infectiousPeriodMeanSec\":\"3456000\",\"infectiousPeriodShape\":\"10000\",\"startTime\":\"2021-05-29T21:00:00Z\",\"endTime\":\"2021-06-10T09:00:00Z\",\"minimumAppVersion\":\"59\"}\n",
      "\n",
      "553: {\"name\":\"1.07-SI-incNo-(0.16,20)-sd3.0-repeat3\",\"seedingProbability\":\"0.1\",\"infectionProbabilityMapP\":\"0.16\",\"infectionProbabilityMapK\":\"20\",\"infectionProbabilityMapL\":\"1000000\",\"incubationPeriodMeanSec\":\"1\",\"incubationPeriodShape\":\"10000\",\"infectiousPeriodMeanSec\":\"3456000\",\"infectiousPeriodShape\":\"10000\",\"startTime\":\"2021-05-29T21:00:00Z\",\"endTime\":\"2021-06-10T09:00:00Z\",\"minimumAppVersion\":\"59\"}\n",
      "\n",
      "554: {\"name\":\"1.07-SI-incNo-(0.16,40)-sd3.0-repeat1\",\"seedingProbability\":\"0.1\",\"infectionProbabilityMapP\":\"0.16\",\"infectionProbabilityMapK\":\"40\",\"infectionProbabilityMapL\":\"1000000\",\"incubationPeriodMeanSec\":\"1\",\"incubationPeriodShape\":\"10000\",\"infectiousPeriodMeanSec\":\"3456000\",\"infectiousPeriodShape\":\"10000\",\"startTime\":\"2021-05-29T21:00:00Z\",\"endTime\":\"2021-06-10T09:00:00Z\",\"minimumAppVersion\":\"59\"}\n",
      "\n",
      "555: {\"name\":\"1.07-SI-incNo-(0.16,40)-sd3.0-repeat2\",\"seedingProbability\":\"0.1\",\"infectionProbabilityMapP\":\"0.16\",\"infectionProbabilityMapK\":\"40\",\"infectionProbabilityMapL\":\"1000000\",\"incubationPeriodMeanSec\":\"1\",\"incubationPeriodShape\":\"10000\",\"infectiousPeriodMeanSec\":\"3456000\",\"infectiousPeriodShape\":\"10000\",\"startTime\":\"2021-05-29T21:00:00Z\",\"endTime\":\"2021-06-10T09:00:00Z\",\"minimumAppVersion\":\"59\"}\n",
      "\n",
      "556: {\"name\":\"1.07-SI-incNo-(0.16,40)-sd3.0-repeat3\",\"seedingProbability\":\"0.1\",\"infectionProbabilityMapP\":\"0.16\",\"infectionProbabilityMapK\":\"40\",\"infectionProbabilityMapL\":\"1000000\",\"incubationPeriodMeanSec\":\"1\",\"incubationPeriodShape\":\"10000\",\"infectiousPeriodMeanSec\":\"3456000\",\"infectiousPeriodShape\":\"10000\",\"startTime\":\"2021-05-29T21:00:00Z\",\"endTime\":\"2021-06-10T09:00:00Z\",\"minimumAppVersion\":\"59\"}\n",
      "\n"
     ]
    },
    {
     "name": "stdout",
     "output_type": "stream",
     "text": [
      "557: {\"name\":\"1.07-SI-incNo-(0.16,60)-sd3.0-repeat1\",\"seedingProbability\":\"0.1\",\"infectionProbabilityMapP\":\"0.16\",\"infectionProbabilityMapK\":\"60\",\"infectionProbabilityMapL\":\"1000000\",\"incubationPeriodMeanSec\":\"1\",\"incubationPeriodShape\":\"10000\",\"infectiousPeriodMeanSec\":\"3456000\",\"infectiousPeriodShape\":\"10000\",\"startTime\":\"2021-05-29T21:00:00Z\",\"endTime\":\"2021-06-10T09:00:00Z\",\"minimumAppVersion\":\"59\"}\n",
      "\n",
      "558: {\"name\":\"1.07-SI-incNo-(0.16,60)-sd3.0-repeat2\",\"seedingProbability\":\"0.1\",\"infectionProbabilityMapP\":\"0.16\",\"infectionProbabilityMapK\":\"60\",\"infectionProbabilityMapL\":\"1000000\",\"incubationPeriodMeanSec\":\"1\",\"incubationPeriodShape\":\"10000\",\"infectiousPeriodMeanSec\":\"3456000\",\"infectiousPeriodShape\":\"10000\",\"startTime\":\"2021-05-29T21:00:00Z\",\"endTime\":\"2021-06-10T09:00:00Z\",\"minimumAppVersion\":\"59\"}\n",
      "\n",
      "559: {\"name\":\"1.07-SI-incNo-(0.16,60)-sd3.0-repeat3\",\"seedingProbability\":\"0.1\",\"infectionProbabilityMapP\":\"0.16\",\"infectionProbabilityMapK\":\"60\",\"infectionProbabilityMapL\":\"1000000\",\"incubationPeriodMeanSec\":\"1\",\"incubationPeriodShape\":\"10000\",\"infectiousPeriodMeanSec\":\"3456000\",\"infectiousPeriodShape\":\"10000\",\"startTime\":\"2021-05-29T21:00:00Z\",\"endTime\":\"2021-06-10T09:00:00Z\",\"minimumAppVersion\":\"59\"}\n",
      "\n",
      "560: {\"name\":\"1.07-SI-incNo-(0.16,80)-sd3.0-repeat1\",\"seedingProbability\":\"0.1\",\"infectionProbabilityMapP\":\"0.16\",\"infectionProbabilityMapK\":\"80\",\"infectionProbabilityMapL\":\"1000000\",\"incubationPeriodMeanSec\":\"1\",\"incubationPeriodShape\":\"10000\",\"infectiousPeriodMeanSec\":\"3456000\",\"infectiousPeriodShape\":\"10000\",\"startTime\":\"2021-05-29T21:00:00Z\",\"endTime\":\"2021-06-10T09:00:00Z\",\"minimumAppVersion\":\"59\"}\n",
      "\n",
      "561: {\"name\":\"1.07-SI-incNo-(0.16,80)-sd3.0-repeat2\",\"seedingProbability\":\"0.1\",\"infectionProbabilityMapP\":\"0.16\",\"infectionProbabilityMapK\":\"80\",\"infectionProbabilityMapL\":\"1000000\",\"incubationPeriodMeanSec\":\"1\",\"incubationPeriodShape\":\"10000\",\"infectiousPeriodMeanSec\":\"3456000\",\"infectiousPeriodShape\":\"10000\",\"startTime\":\"2021-05-29T21:00:00Z\",\"endTime\":\"2021-06-10T09:00:00Z\",\"minimumAppVersion\":\"59\"}\n",
      "\n",
      "562: {\"name\":\"1.07-SI-incNo-(0.16,80)-sd3.0-repeat3\",\"seedingProbability\":\"0.1\",\"infectionProbabilityMapP\":\"0.16\",\"infectionProbabilityMapK\":\"80\",\"infectionProbabilityMapL\":\"1000000\",\"incubationPeriodMeanSec\":\"1\",\"incubationPeriodShape\":\"10000\",\"infectiousPeriodMeanSec\":\"3456000\",\"infectiousPeriodShape\":\"10000\",\"startTime\":\"2021-05-29T21:00:00Z\",\"endTime\":\"2021-06-10T09:00:00Z\",\"minimumAppVersion\":\"59\"}\n",
      "\n",
      "563: {\"name\":\"1.07-SI-incNo-(0.16,100)-sd3.0-repeat1\",\"seedingProbability\":\"0.1\",\"infectionProbabilityMapP\":\"0.16\",\"infectionProbabilityMapK\":\"100\",\"infectionProbabilityMapL\":\"1000000\",\"incubationPeriodMeanSec\":\"1\",\"incubationPeriodShape\":\"10000\",\"infectiousPeriodMeanSec\":\"3456000\",\"infectiousPeriodShape\":\"10000\",\"startTime\":\"2021-05-29T21:00:00Z\",\"endTime\":\"2021-06-10T09:00:00Z\",\"minimumAppVersion\":\"59\"}\n",
      "\n",
      "564: {\"name\":\"1.07-SI-incNo-(0.16,100)-sd3.0-repeat2\",\"seedingProbability\":\"0.1\",\"infectionProbabilityMapP\":\"0.16\",\"infectionProbabilityMapK\":\"100\",\"infectionProbabilityMapL\":\"1000000\",\"incubationPeriodMeanSec\":\"1\",\"incubationPeriodShape\":\"10000\",\"infectiousPeriodMeanSec\":\"3456000\",\"infectiousPeriodShape\":\"10000\",\"startTime\":\"2021-05-29T21:00:00Z\",\"endTime\":\"2021-06-10T09:00:00Z\",\"minimumAppVersion\":\"59\"}\n",
      "\n",
      "565: {\"name\":\"1.07-SI-incNo-(0.16,100)-sd3.0-repeat3\",\"seedingProbability\":\"0.1\",\"infectionProbabilityMapP\":\"0.16\",\"infectionProbabilityMapK\":\"100\",\"infectionProbabilityMapL\":\"1000000\",\"incubationPeriodMeanSec\":\"1\",\"incubationPeriodShape\":\"10000\",\"infectiousPeriodMeanSec\":\"3456000\",\"infectiousPeriodShape\":\"10000\",\"startTime\":\"2021-05-29T21:00:00Z\",\"endTime\":\"2021-06-10T09:00:00Z\",\"minimumAppVersion\":\"59\"}\n",
      "\n"
     ]
    }
   ],
   "source": [
    "function strandJSON(sd::Dict{Symbol,String})\n",
    "    str = \"\"\"\n",
    "        {\\\"name\\\":\\\"$(sd[:name])\\\",\n",
    "         \\\"seedingProbability\\\":\\\"$(sd[:seedingProbability])\\\",\n",
    "         \\\"infectionProbabilityMapP\\\":\\\"$(sd[:strength])\\\",\n",
    "         \\\"infectionProbabilityMapK\\\":\\\"$(sd[:radius])\\\",\n",
    "         \\\"infectionProbabilityMapL\\\":\\\"1000000\\\",\n",
    "         \\\"incubationPeriodMeanSec\\\":\\\"$(sd[:incubationMean])\\\",\n",
    "         \\\"incubationPeriodShape\\\":\\\"$(sd[:incubationShape])\\\",\n",
    "         \\\"infectiousPeriodMeanSec\\\":\\\"$(sd[:infectionMean])\\\",\n",
    "         \\\"infectiousPeriodShape\\\":\\\"$(sd[:infectiousPeriodShape])\\\",\n",
    "         \\\"startTime\\\":\\\"$(sd[:seedTime])\\\",\n",
    "         \\\"endTime\\\":\\\"$(sd[:endTime])\\\",\n",
    "         \\\"minimumAppVersion\\\":\\\"$(sd[:minimumAppVersion])\\\"}\n",
    "    \"\"\"\n",
    "    join(map(x -> isspace(str[x]) ? \"\" : str[x], 1:length(str))) #how the $%@$% to remove white space in Julia strings?\n",
    "end\n",
    "\n",
    "strandStrings = strandJSON.(strands)\n",
    "\n",
    "newID = 505 #last strand in system\n",
    "for s in strandStrings\n",
    "    newID +=1\n",
    "    println(newID,\": \", s,\"\\n\")\n",
    "end"
   ]
  },
  {
   "cell_type": "code",
   "execution_count": null,
   "metadata": {},
   "outputs": [],
   "source": []
  }
 ],
 "metadata": {
  "kernelspec": {
   "display_name": "Julia 1.6.0",
   "language": "julia",
   "name": "julia-1.6"
  },
  "language_info": {
   "file_extension": ".jl",
   "mimetype": "application/julia",
   "name": "julia",
   "version": "1.6.0"
  }
 },
 "nbformat": 4,
 "nbformat_minor": 4
}
